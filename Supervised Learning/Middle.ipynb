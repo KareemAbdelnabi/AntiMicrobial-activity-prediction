{
  "cells": [
    {
      "cell_type": "markdown",
      "metadata": {
        "id": "nrwYJ09LzDFP"
      },
      "source": [
        "\n",
        "\n",
        "# Setting up the data of AAC descriptor extracted using iLearnPlus"
      ]
    },
    {
      "cell_type": "code",
      "execution_count": 1,
      "metadata": {
        "colab": {
          "base_uri": "https://localhost:8080/",
          "height": 300
        },
        "id": "JLuN5ulxc3rR",
        "outputId": "a3007e59-e16f-4c56-d391-7820a9f7e484"
      },
      "outputs": [
        {
          "output_type": "execute_result",
          "data": {
            "text/plain": [
              "   0         1     2        3         4         5         6         7   \\\n",
              "0   0  0.000000  0.00  0.00000  0.153846  0.000000  0.000000  0.000000   \n",
              "1   0  0.024390  0.00  0.04878  0.073171  0.048780  0.097561  0.024390   \n",
              "2   0  0.312500  0.25  0.00000  0.062500  0.000000  0.000000  0.062500   \n",
              "3   0  0.071429  0.00  0.00000  0.071429  0.035714  0.035714  0.035714   \n",
              "4   0  0.000000  0.00  0.00000  0.000000  0.000000  0.052632  0.052632   \n",
              "\n",
              "         8         9   ...       11        12        13        14        15  \\\n",
              "0  0.076923  0.000000  ...  0.00000  0.076923  0.153846  0.000000  0.153846   \n",
              "1  0.048780  0.000000  ...  0.02439  0.048780  0.000000  0.121951  0.048780   \n",
              "2  0.000000  0.062500  ...  0.00000  0.062500  0.062500  0.000000  0.000000   \n",
              "3  0.000000  0.178571  ...  0.00000  0.000000  0.142857  0.142857  0.071429   \n",
              "4  0.052632  0.052632  ...  0.00000  0.000000  0.315789  0.000000  0.210526   \n",
              "\n",
              "         16        17        18   19        20  \n",
              "0  0.000000  0.000000  0.000000  0.0  0.153846  \n",
              "1  0.097561  0.024390  0.073171  0.0  0.073171  \n",
              "2  0.000000  0.062500  0.000000  0.0  0.000000  \n",
              "3  0.142857  0.000000  0.000000  0.0  0.000000  \n",
              "4  0.105263  0.052632  0.052632  0.0  0.052632  \n",
              "\n",
              "[5 rows x 21 columns]"
            ],
            "text/html": [
              "\n",
              "\n",
              "  <div id=\"df-89ef9506-5deb-488a-a779-64336e56a475\">\n",
              "    <div class=\"colab-df-container\">\n",
              "      <div>\n",
              "<style scoped>\n",
              "    .dataframe tbody tr th:only-of-type {\n",
              "        vertical-align: middle;\n",
              "    }\n",
              "\n",
              "    .dataframe tbody tr th {\n",
              "        vertical-align: top;\n",
              "    }\n",
              "\n",
              "    .dataframe thead th {\n",
              "        text-align: right;\n",
              "    }\n",
              "</style>\n",
              "<table border=\"1\" class=\"dataframe\">\n",
              "  <thead>\n",
              "    <tr style=\"text-align: right;\">\n",
              "      <th></th>\n",
              "      <th>0</th>\n",
              "      <th>1</th>\n",
              "      <th>2</th>\n",
              "      <th>3</th>\n",
              "      <th>4</th>\n",
              "      <th>5</th>\n",
              "      <th>6</th>\n",
              "      <th>7</th>\n",
              "      <th>8</th>\n",
              "      <th>9</th>\n",
              "      <th>...</th>\n",
              "      <th>11</th>\n",
              "      <th>12</th>\n",
              "      <th>13</th>\n",
              "      <th>14</th>\n",
              "      <th>15</th>\n",
              "      <th>16</th>\n",
              "      <th>17</th>\n",
              "      <th>18</th>\n",
              "      <th>19</th>\n",
              "      <th>20</th>\n",
              "    </tr>\n",
              "  </thead>\n",
              "  <tbody>\n",
              "    <tr>\n",
              "      <th>0</th>\n",
              "      <td>0</td>\n",
              "      <td>0.000000</td>\n",
              "      <td>0.00</td>\n",
              "      <td>0.00000</td>\n",
              "      <td>0.153846</td>\n",
              "      <td>0.000000</td>\n",
              "      <td>0.000000</td>\n",
              "      <td>0.000000</td>\n",
              "      <td>0.076923</td>\n",
              "      <td>0.000000</td>\n",
              "      <td>...</td>\n",
              "      <td>0.00000</td>\n",
              "      <td>0.076923</td>\n",
              "      <td>0.153846</td>\n",
              "      <td>0.000000</td>\n",
              "      <td>0.153846</td>\n",
              "      <td>0.000000</td>\n",
              "      <td>0.000000</td>\n",
              "      <td>0.000000</td>\n",
              "      <td>0.0</td>\n",
              "      <td>0.153846</td>\n",
              "    </tr>\n",
              "    <tr>\n",
              "      <th>1</th>\n",
              "      <td>0</td>\n",
              "      <td>0.024390</td>\n",
              "      <td>0.00</td>\n",
              "      <td>0.04878</td>\n",
              "      <td>0.073171</td>\n",
              "      <td>0.048780</td>\n",
              "      <td>0.097561</td>\n",
              "      <td>0.024390</td>\n",
              "      <td>0.048780</td>\n",
              "      <td>0.000000</td>\n",
              "      <td>...</td>\n",
              "      <td>0.02439</td>\n",
              "      <td>0.048780</td>\n",
              "      <td>0.000000</td>\n",
              "      <td>0.121951</td>\n",
              "      <td>0.048780</td>\n",
              "      <td>0.097561</td>\n",
              "      <td>0.024390</td>\n",
              "      <td>0.073171</td>\n",
              "      <td>0.0</td>\n",
              "      <td>0.073171</td>\n",
              "    </tr>\n",
              "    <tr>\n",
              "      <th>2</th>\n",
              "      <td>0</td>\n",
              "      <td>0.312500</td>\n",
              "      <td>0.25</td>\n",
              "      <td>0.00000</td>\n",
              "      <td>0.062500</td>\n",
              "      <td>0.000000</td>\n",
              "      <td>0.000000</td>\n",
              "      <td>0.062500</td>\n",
              "      <td>0.000000</td>\n",
              "      <td>0.062500</td>\n",
              "      <td>...</td>\n",
              "      <td>0.00000</td>\n",
              "      <td>0.062500</td>\n",
              "      <td>0.062500</td>\n",
              "      <td>0.000000</td>\n",
              "      <td>0.000000</td>\n",
              "      <td>0.000000</td>\n",
              "      <td>0.062500</td>\n",
              "      <td>0.000000</td>\n",
              "      <td>0.0</td>\n",
              "      <td>0.000000</td>\n",
              "    </tr>\n",
              "    <tr>\n",
              "      <th>3</th>\n",
              "      <td>0</td>\n",
              "      <td>0.071429</td>\n",
              "      <td>0.00</td>\n",
              "      <td>0.00000</td>\n",
              "      <td>0.071429</td>\n",
              "      <td>0.035714</td>\n",
              "      <td>0.035714</td>\n",
              "      <td>0.035714</td>\n",
              "      <td>0.000000</td>\n",
              "      <td>0.178571</td>\n",
              "      <td>...</td>\n",
              "      <td>0.00000</td>\n",
              "      <td>0.000000</td>\n",
              "      <td>0.142857</td>\n",
              "      <td>0.142857</td>\n",
              "      <td>0.071429</td>\n",
              "      <td>0.142857</td>\n",
              "      <td>0.000000</td>\n",
              "      <td>0.000000</td>\n",
              "      <td>0.0</td>\n",
              "      <td>0.000000</td>\n",
              "    </tr>\n",
              "    <tr>\n",
              "      <th>4</th>\n",
              "      <td>0</td>\n",
              "      <td>0.000000</td>\n",
              "      <td>0.00</td>\n",
              "      <td>0.00000</td>\n",
              "      <td>0.000000</td>\n",
              "      <td>0.000000</td>\n",
              "      <td>0.052632</td>\n",
              "      <td>0.052632</td>\n",
              "      <td>0.052632</td>\n",
              "      <td>0.052632</td>\n",
              "      <td>...</td>\n",
              "      <td>0.00000</td>\n",
              "      <td>0.000000</td>\n",
              "      <td>0.315789</td>\n",
              "      <td>0.000000</td>\n",
              "      <td>0.210526</td>\n",
              "      <td>0.105263</td>\n",
              "      <td>0.052632</td>\n",
              "      <td>0.052632</td>\n",
              "      <td>0.0</td>\n",
              "      <td>0.052632</td>\n",
              "    </tr>\n",
              "  </tbody>\n",
              "</table>\n",
              "<p>5 rows × 21 columns</p>\n",
              "</div>\n",
              "      <button class=\"colab-df-convert\" onclick=\"convertToInteractive('df-89ef9506-5deb-488a-a779-64336e56a475')\"\n",
              "              title=\"Convert this dataframe to an interactive table.\"\n",
              "              style=\"display:none;\">\n",
              "\n",
              "  <svg xmlns=\"http://www.w3.org/2000/svg\" height=\"24px\"viewBox=\"0 0 24 24\"\n",
              "       width=\"24px\">\n",
              "    <path d=\"M0 0h24v24H0V0z\" fill=\"none\"/>\n",
              "    <path d=\"M18.56 5.44l.94 2.06.94-2.06 2.06-.94-2.06-.94-.94-2.06-.94 2.06-2.06.94zm-11 1L8.5 8.5l.94-2.06 2.06-.94-2.06-.94L8.5 2.5l-.94 2.06-2.06.94zm10 10l.94 2.06.94-2.06 2.06-.94-2.06-.94-.94-2.06-.94 2.06-2.06.94z\"/><path d=\"M17.41 7.96l-1.37-1.37c-.4-.4-.92-.59-1.43-.59-.52 0-1.04.2-1.43.59L10.3 9.45l-7.72 7.72c-.78.78-.78 2.05 0 2.83L4 21.41c.39.39.9.59 1.41.59.51 0 1.02-.2 1.41-.59l7.78-7.78 2.81-2.81c.8-.78.8-2.07 0-2.86zM5.41 20L4 18.59l7.72-7.72 1.47 1.35L5.41 20z\"/>\n",
              "  </svg>\n",
              "      </button>\n",
              "\n",
              "\n",
              "\n",
              "    <div id=\"df-1e7c563a-33a2-4a0f-aa7d-21dd1ccdf7dc\">\n",
              "      <button class=\"colab-df-quickchart\" onclick=\"quickchart('df-1e7c563a-33a2-4a0f-aa7d-21dd1ccdf7dc')\"\n",
              "              title=\"Suggest charts.\"\n",
              "              style=\"display:none;\">\n",
              "\n",
              "<svg xmlns=\"http://www.w3.org/2000/svg\" height=\"24px\"viewBox=\"0 0 24 24\"\n",
              "     width=\"24px\">\n",
              "    <g>\n",
              "        <path d=\"M19 3H5c-1.1 0-2 .9-2 2v14c0 1.1.9 2 2 2h14c1.1 0 2-.9 2-2V5c0-1.1-.9-2-2-2zM9 17H7v-7h2v7zm4 0h-2V7h2v10zm4 0h-2v-4h2v4z\"/>\n",
              "    </g>\n",
              "</svg>\n",
              "      </button>\n",
              "    </div>\n",
              "\n",
              "<style>\n",
              "  .colab-df-quickchart {\n",
              "    background-color: #E8F0FE;\n",
              "    border: none;\n",
              "    border-radius: 50%;\n",
              "    cursor: pointer;\n",
              "    display: none;\n",
              "    fill: #1967D2;\n",
              "    height: 32px;\n",
              "    padding: 0 0 0 0;\n",
              "    width: 32px;\n",
              "  }\n",
              "\n",
              "  .colab-df-quickchart:hover {\n",
              "    background-color: #E2EBFA;\n",
              "    box-shadow: 0px 1px 2px rgba(60, 64, 67, 0.3), 0px 1px 3px 1px rgba(60, 64, 67, 0.15);\n",
              "    fill: #174EA6;\n",
              "  }\n",
              "\n",
              "  [theme=dark] .colab-df-quickchart {\n",
              "    background-color: #3B4455;\n",
              "    fill: #D2E3FC;\n",
              "  }\n",
              "\n",
              "  [theme=dark] .colab-df-quickchart:hover {\n",
              "    background-color: #434B5C;\n",
              "    box-shadow: 0px 1px 3px 1px rgba(0, 0, 0, 0.15);\n",
              "    filter: drop-shadow(0px 1px 2px rgba(0, 0, 0, 0.3));\n",
              "    fill: #FFFFFF;\n",
              "  }\n",
              "</style>\n",
              "\n",
              "    <script>\n",
              "      async function quickchart(key) {\n",
              "        const containerElement = document.querySelector('#' + key);\n",
              "        const charts = await google.colab.kernel.invokeFunction(\n",
              "            'suggestCharts', [key], {});\n",
              "      }\n",
              "    </script>\n",
              "\n",
              "      <script>\n",
              "\n",
              "function displayQuickchartButton(domScope) {\n",
              "  let quickchartButtonEl =\n",
              "    domScope.querySelector('#df-1e7c563a-33a2-4a0f-aa7d-21dd1ccdf7dc button.colab-df-quickchart');\n",
              "  quickchartButtonEl.style.display =\n",
              "    google.colab.kernel.accessAllowed ? 'block' : 'none';\n",
              "}\n",
              "\n",
              "        displayQuickchartButton(document);\n",
              "      </script>\n",
              "      <style>\n",
              "    .colab-df-container {\n",
              "      display:flex;\n",
              "      flex-wrap:wrap;\n",
              "      gap: 12px;\n",
              "    }\n",
              "\n",
              "    .colab-df-convert {\n",
              "      background-color: #E8F0FE;\n",
              "      border: none;\n",
              "      border-radius: 50%;\n",
              "      cursor: pointer;\n",
              "      display: none;\n",
              "      fill: #1967D2;\n",
              "      height: 32px;\n",
              "      padding: 0 0 0 0;\n",
              "      width: 32px;\n",
              "    }\n",
              "\n",
              "    .colab-df-convert:hover {\n",
              "      background-color: #E2EBFA;\n",
              "      box-shadow: 0px 1px 2px rgba(60, 64, 67, 0.3), 0px 1px 3px 1px rgba(60, 64, 67, 0.15);\n",
              "      fill: #174EA6;\n",
              "    }\n",
              "\n",
              "    [theme=dark] .colab-df-convert {\n",
              "      background-color: #3B4455;\n",
              "      fill: #D2E3FC;\n",
              "    }\n",
              "\n",
              "    [theme=dark] .colab-df-convert:hover {\n",
              "      background-color: #434B5C;\n",
              "      box-shadow: 0px 1px 3px 1px rgba(0, 0, 0, 0.15);\n",
              "      filter: drop-shadow(0px 1px 2px rgba(0, 0, 0, 0.3));\n",
              "      fill: #FFFFFF;\n",
              "    }\n",
              "  </style>\n",
              "\n",
              "      <script>\n",
              "        const buttonEl =\n",
              "          document.querySelector('#df-89ef9506-5deb-488a-a779-64336e56a475 button.colab-df-convert');\n",
              "        buttonEl.style.display =\n",
              "          google.colab.kernel.accessAllowed ? 'block' : 'none';\n",
              "\n",
              "        async function convertToInteractive(key) {\n",
              "          const element = document.querySelector('#df-89ef9506-5deb-488a-a779-64336e56a475');\n",
              "          const dataTable =\n",
              "            await google.colab.kernel.invokeFunction('convertToInteractive',\n",
              "                                                     [key], {});\n",
              "          if (!dataTable) return;\n",
              "\n",
              "          const docLinkHtml = 'Like what you see? Visit the ' +\n",
              "            '<a target=\"_blank\" href=https://colab.research.google.com/notebooks/data_table.ipynb>data table notebook</a>'\n",
              "            + ' to learn more about interactive tables.';\n",
              "          element.innerHTML = '';\n",
              "          dataTable['output_type'] = 'display_data';\n",
              "          await google.colab.output.renderOutput(dataTable, element);\n",
              "          const docLink = document.createElement('div');\n",
              "          docLink.innerHTML = docLinkHtml;\n",
              "          element.appendChild(docLink);\n",
              "        }\n",
              "      </script>\n",
              "    </div>\n",
              "  </div>\n"
            ]
          },
          "metadata": {},
          "execution_count": 1
        }
      ],
      "source": [
        "import pandas as pd\n",
        "pos=pd.read_csv(\"/content/MiddlePosAAC.csv\",header=None)\n",
        "neg=pd.read_csv(\"/content/MiddleNegAAC.csv\",header=None)\n",
        "pos.head()"
      ]
    },
    {
      "cell_type": "code",
      "execution_count": 2,
      "metadata": {
        "colab": {
          "base_uri": "https://localhost:8080/"
        },
        "id": "ydDT_gHZgrA3",
        "outputId": "bdc604df-d89a-4134-9a31-de3f07a0071d"
      },
      "outputs": [
        {
          "output_type": "stream",
          "name": "stdout",
          "text": [
            "(17144, 21)\n",
            "(41713, 21)\n"
          ]
        }
      ],
      "source": [
        "print(pos.shape)\n",
        "print(neg.shape)\n",
        "\n"
      ]
    },
    {
      "cell_type": "code",
      "execution_count": 4,
      "metadata": {
        "id": "wwLDan1_iyWI",
        "colab": {
          "base_uri": "https://localhost:8080/",
          "height": 300
        },
        "outputId": "6c8cc1f4-4c10-4534-dbdf-22648a5547d7"
      },
      "outputs": [
        {
          "output_type": "execute_result",
          "data": {
            "text/plain": [
              "   0         1     2        3         4         5         6         7   \\\n",
              "0   0  0.000000  0.00  0.00000  0.153846  0.000000  0.000000  0.000000   \n",
              "1   0  0.024390  0.00  0.04878  0.073171  0.048780  0.097561  0.024390   \n",
              "2   0  0.312500  0.25  0.00000  0.062500  0.000000  0.000000  0.062500   \n",
              "3   0  0.071429  0.00  0.00000  0.071429  0.035714  0.035714  0.035714   \n",
              "4   0  0.000000  0.00  0.00000  0.000000  0.000000  0.052632  0.052632   \n",
              "\n",
              "         8         9   ...       11        12        13        14        15  \\\n",
              "0  0.076923  0.000000  ...  0.00000  0.076923  0.153846  0.000000  0.153846   \n",
              "1  0.048780  0.000000  ...  0.02439  0.048780  0.000000  0.121951  0.048780   \n",
              "2  0.000000  0.062500  ...  0.00000  0.062500  0.062500  0.000000  0.000000   \n",
              "3  0.000000  0.178571  ...  0.00000  0.000000  0.142857  0.142857  0.071429   \n",
              "4  0.052632  0.052632  ...  0.00000  0.000000  0.315789  0.000000  0.210526   \n",
              "\n",
              "         16        17        18   19        20  \n",
              "0  0.000000  0.000000  0.000000  0.0  0.153846  \n",
              "1  0.097561  0.024390  0.073171  0.0  0.073171  \n",
              "2  0.000000  0.062500  0.000000  0.0  0.000000  \n",
              "3  0.142857  0.000000  0.000000  0.0  0.000000  \n",
              "4  0.105263  0.052632  0.052632  0.0  0.052632  \n",
              "\n",
              "[5 rows x 21 columns]"
            ],
            "text/html": [
              "\n",
              "\n",
              "  <div id=\"df-ea14e295-605a-4de2-94d9-cd12445a800a\">\n",
              "    <div class=\"colab-df-container\">\n",
              "      <div>\n",
              "<style scoped>\n",
              "    .dataframe tbody tr th:only-of-type {\n",
              "        vertical-align: middle;\n",
              "    }\n",
              "\n",
              "    .dataframe tbody tr th {\n",
              "        vertical-align: top;\n",
              "    }\n",
              "\n",
              "    .dataframe thead th {\n",
              "        text-align: right;\n",
              "    }\n",
              "</style>\n",
              "<table border=\"1\" class=\"dataframe\">\n",
              "  <thead>\n",
              "    <tr style=\"text-align: right;\">\n",
              "      <th></th>\n",
              "      <th>0</th>\n",
              "      <th>1</th>\n",
              "      <th>2</th>\n",
              "      <th>3</th>\n",
              "      <th>4</th>\n",
              "      <th>5</th>\n",
              "      <th>6</th>\n",
              "      <th>7</th>\n",
              "      <th>8</th>\n",
              "      <th>9</th>\n",
              "      <th>...</th>\n",
              "      <th>11</th>\n",
              "      <th>12</th>\n",
              "      <th>13</th>\n",
              "      <th>14</th>\n",
              "      <th>15</th>\n",
              "      <th>16</th>\n",
              "      <th>17</th>\n",
              "      <th>18</th>\n",
              "      <th>19</th>\n",
              "      <th>20</th>\n",
              "    </tr>\n",
              "  </thead>\n",
              "  <tbody>\n",
              "    <tr>\n",
              "      <th>0</th>\n",
              "      <td>0</td>\n",
              "      <td>0.000000</td>\n",
              "      <td>0.00</td>\n",
              "      <td>0.00000</td>\n",
              "      <td>0.153846</td>\n",
              "      <td>0.000000</td>\n",
              "      <td>0.000000</td>\n",
              "      <td>0.000000</td>\n",
              "      <td>0.076923</td>\n",
              "      <td>0.000000</td>\n",
              "      <td>...</td>\n",
              "      <td>0.00000</td>\n",
              "      <td>0.076923</td>\n",
              "      <td>0.153846</td>\n",
              "      <td>0.000000</td>\n",
              "      <td>0.153846</td>\n",
              "      <td>0.000000</td>\n",
              "      <td>0.000000</td>\n",
              "      <td>0.000000</td>\n",
              "      <td>0.0</td>\n",
              "      <td>0.153846</td>\n",
              "    </tr>\n",
              "    <tr>\n",
              "      <th>1</th>\n",
              "      <td>0</td>\n",
              "      <td>0.024390</td>\n",
              "      <td>0.00</td>\n",
              "      <td>0.04878</td>\n",
              "      <td>0.073171</td>\n",
              "      <td>0.048780</td>\n",
              "      <td>0.097561</td>\n",
              "      <td>0.024390</td>\n",
              "      <td>0.048780</td>\n",
              "      <td>0.000000</td>\n",
              "      <td>...</td>\n",
              "      <td>0.02439</td>\n",
              "      <td>0.048780</td>\n",
              "      <td>0.000000</td>\n",
              "      <td>0.121951</td>\n",
              "      <td>0.048780</td>\n",
              "      <td>0.097561</td>\n",
              "      <td>0.024390</td>\n",
              "      <td>0.073171</td>\n",
              "      <td>0.0</td>\n",
              "      <td>0.073171</td>\n",
              "    </tr>\n",
              "    <tr>\n",
              "      <th>2</th>\n",
              "      <td>0</td>\n",
              "      <td>0.312500</td>\n",
              "      <td>0.25</td>\n",
              "      <td>0.00000</td>\n",
              "      <td>0.062500</td>\n",
              "      <td>0.000000</td>\n",
              "      <td>0.000000</td>\n",
              "      <td>0.062500</td>\n",
              "      <td>0.000000</td>\n",
              "      <td>0.062500</td>\n",
              "      <td>...</td>\n",
              "      <td>0.00000</td>\n",
              "      <td>0.062500</td>\n",
              "      <td>0.062500</td>\n",
              "      <td>0.000000</td>\n",
              "      <td>0.000000</td>\n",
              "      <td>0.000000</td>\n",
              "      <td>0.062500</td>\n",
              "      <td>0.000000</td>\n",
              "      <td>0.0</td>\n",
              "      <td>0.000000</td>\n",
              "    </tr>\n",
              "    <tr>\n",
              "      <th>3</th>\n",
              "      <td>0</td>\n",
              "      <td>0.071429</td>\n",
              "      <td>0.00</td>\n",
              "      <td>0.00000</td>\n",
              "      <td>0.071429</td>\n",
              "      <td>0.035714</td>\n",
              "      <td>0.035714</td>\n",
              "      <td>0.035714</td>\n",
              "      <td>0.000000</td>\n",
              "      <td>0.178571</td>\n",
              "      <td>...</td>\n",
              "      <td>0.00000</td>\n",
              "      <td>0.000000</td>\n",
              "      <td>0.142857</td>\n",
              "      <td>0.142857</td>\n",
              "      <td>0.071429</td>\n",
              "      <td>0.142857</td>\n",
              "      <td>0.000000</td>\n",
              "      <td>0.000000</td>\n",
              "      <td>0.0</td>\n",
              "      <td>0.000000</td>\n",
              "    </tr>\n",
              "    <tr>\n",
              "      <th>4</th>\n",
              "      <td>0</td>\n",
              "      <td>0.000000</td>\n",
              "      <td>0.00</td>\n",
              "      <td>0.00000</td>\n",
              "      <td>0.000000</td>\n",
              "      <td>0.000000</td>\n",
              "      <td>0.052632</td>\n",
              "      <td>0.052632</td>\n",
              "      <td>0.052632</td>\n",
              "      <td>0.052632</td>\n",
              "      <td>...</td>\n",
              "      <td>0.00000</td>\n",
              "      <td>0.000000</td>\n",
              "      <td>0.315789</td>\n",
              "      <td>0.000000</td>\n",
              "      <td>0.210526</td>\n",
              "      <td>0.105263</td>\n",
              "      <td>0.052632</td>\n",
              "      <td>0.052632</td>\n",
              "      <td>0.0</td>\n",
              "      <td>0.052632</td>\n",
              "    </tr>\n",
              "  </tbody>\n",
              "</table>\n",
              "<p>5 rows × 21 columns</p>\n",
              "</div>\n",
              "      <button class=\"colab-df-convert\" onclick=\"convertToInteractive('df-ea14e295-605a-4de2-94d9-cd12445a800a')\"\n",
              "              title=\"Convert this dataframe to an interactive table.\"\n",
              "              style=\"display:none;\">\n",
              "\n",
              "  <svg xmlns=\"http://www.w3.org/2000/svg\" height=\"24px\"viewBox=\"0 0 24 24\"\n",
              "       width=\"24px\">\n",
              "    <path d=\"M0 0h24v24H0V0z\" fill=\"none\"/>\n",
              "    <path d=\"M18.56 5.44l.94 2.06.94-2.06 2.06-.94-2.06-.94-.94-2.06-.94 2.06-2.06.94zm-11 1L8.5 8.5l.94-2.06 2.06-.94-2.06-.94L8.5 2.5l-.94 2.06-2.06.94zm10 10l.94 2.06.94-2.06 2.06-.94-2.06-.94-.94-2.06-.94 2.06-2.06.94z\"/><path d=\"M17.41 7.96l-1.37-1.37c-.4-.4-.92-.59-1.43-.59-.52 0-1.04.2-1.43.59L10.3 9.45l-7.72 7.72c-.78.78-.78 2.05 0 2.83L4 21.41c.39.39.9.59 1.41.59.51 0 1.02-.2 1.41-.59l7.78-7.78 2.81-2.81c.8-.78.8-2.07 0-2.86zM5.41 20L4 18.59l7.72-7.72 1.47 1.35L5.41 20z\"/>\n",
              "  </svg>\n",
              "      </button>\n",
              "\n",
              "\n",
              "\n",
              "    <div id=\"df-5f16421b-03b1-4601-9fe7-9c172ec06643\">\n",
              "      <button class=\"colab-df-quickchart\" onclick=\"quickchart('df-5f16421b-03b1-4601-9fe7-9c172ec06643')\"\n",
              "              title=\"Suggest charts.\"\n",
              "              style=\"display:none;\">\n",
              "\n",
              "<svg xmlns=\"http://www.w3.org/2000/svg\" height=\"24px\"viewBox=\"0 0 24 24\"\n",
              "     width=\"24px\">\n",
              "    <g>\n",
              "        <path d=\"M19 3H5c-1.1 0-2 .9-2 2v14c0 1.1.9 2 2 2h14c1.1 0 2-.9 2-2V5c0-1.1-.9-2-2-2zM9 17H7v-7h2v7zm4 0h-2V7h2v10zm4 0h-2v-4h2v4z\"/>\n",
              "    </g>\n",
              "</svg>\n",
              "      </button>\n",
              "    </div>\n",
              "\n",
              "<style>\n",
              "  .colab-df-quickchart {\n",
              "    background-color: #E8F0FE;\n",
              "    border: none;\n",
              "    border-radius: 50%;\n",
              "    cursor: pointer;\n",
              "    display: none;\n",
              "    fill: #1967D2;\n",
              "    height: 32px;\n",
              "    padding: 0 0 0 0;\n",
              "    width: 32px;\n",
              "  }\n",
              "\n",
              "  .colab-df-quickchart:hover {\n",
              "    background-color: #E2EBFA;\n",
              "    box-shadow: 0px 1px 2px rgba(60, 64, 67, 0.3), 0px 1px 3px 1px rgba(60, 64, 67, 0.15);\n",
              "    fill: #174EA6;\n",
              "  }\n",
              "\n",
              "  [theme=dark] .colab-df-quickchart {\n",
              "    background-color: #3B4455;\n",
              "    fill: #D2E3FC;\n",
              "  }\n",
              "\n",
              "  [theme=dark] .colab-df-quickchart:hover {\n",
              "    background-color: #434B5C;\n",
              "    box-shadow: 0px 1px 3px 1px rgba(0, 0, 0, 0.15);\n",
              "    filter: drop-shadow(0px 1px 2px rgba(0, 0, 0, 0.3));\n",
              "    fill: #FFFFFF;\n",
              "  }\n",
              "</style>\n",
              "\n",
              "    <script>\n",
              "      async function quickchart(key) {\n",
              "        const containerElement = document.querySelector('#' + key);\n",
              "        const charts = await google.colab.kernel.invokeFunction(\n",
              "            'suggestCharts', [key], {});\n",
              "      }\n",
              "    </script>\n",
              "\n",
              "      <script>\n",
              "\n",
              "function displayQuickchartButton(domScope) {\n",
              "  let quickchartButtonEl =\n",
              "    domScope.querySelector('#df-5f16421b-03b1-4601-9fe7-9c172ec06643 button.colab-df-quickchart');\n",
              "  quickchartButtonEl.style.display =\n",
              "    google.colab.kernel.accessAllowed ? 'block' : 'none';\n",
              "}\n",
              "\n",
              "        displayQuickchartButton(document);\n",
              "      </script>\n",
              "      <style>\n",
              "    .colab-df-container {\n",
              "      display:flex;\n",
              "      flex-wrap:wrap;\n",
              "      gap: 12px;\n",
              "    }\n",
              "\n",
              "    .colab-df-convert {\n",
              "      background-color: #E8F0FE;\n",
              "      border: none;\n",
              "      border-radius: 50%;\n",
              "      cursor: pointer;\n",
              "      display: none;\n",
              "      fill: #1967D2;\n",
              "      height: 32px;\n",
              "      padding: 0 0 0 0;\n",
              "      width: 32px;\n",
              "    }\n",
              "\n",
              "    .colab-df-convert:hover {\n",
              "      background-color: #E2EBFA;\n",
              "      box-shadow: 0px 1px 2px rgba(60, 64, 67, 0.3), 0px 1px 3px 1px rgba(60, 64, 67, 0.15);\n",
              "      fill: #174EA6;\n",
              "    }\n",
              "\n",
              "    [theme=dark] .colab-df-convert {\n",
              "      background-color: #3B4455;\n",
              "      fill: #D2E3FC;\n",
              "    }\n",
              "\n",
              "    [theme=dark] .colab-df-convert:hover {\n",
              "      background-color: #434B5C;\n",
              "      box-shadow: 0px 1px 3px 1px rgba(0, 0, 0, 0.15);\n",
              "      filter: drop-shadow(0px 1px 2px rgba(0, 0, 0, 0.3));\n",
              "      fill: #FFFFFF;\n",
              "    }\n",
              "  </style>\n",
              "\n",
              "      <script>\n",
              "        const buttonEl =\n",
              "          document.querySelector('#df-ea14e295-605a-4de2-94d9-cd12445a800a button.colab-df-convert');\n",
              "        buttonEl.style.display =\n",
              "          google.colab.kernel.accessAllowed ? 'block' : 'none';\n",
              "\n",
              "        async function convertToInteractive(key) {\n",
              "          const element = document.querySelector('#df-ea14e295-605a-4de2-94d9-cd12445a800a');\n",
              "          const dataTable =\n",
              "            await google.colab.kernel.invokeFunction('convertToInteractive',\n",
              "                                                     [key], {});\n",
              "          if (!dataTable) return;\n",
              "\n",
              "          const docLinkHtml = 'Like what you see? Visit the ' +\n",
              "            '<a target=\"_blank\" href=https://colab.research.google.com/notebooks/data_table.ipynb>data table notebook</a>'\n",
              "            + ' to learn more about interactive tables.';\n",
              "          element.innerHTML = '';\n",
              "          dataTable['output_type'] = 'display_data';\n",
              "          await google.colab.output.renderOutput(dataTable, element);\n",
              "          const docLink = document.createElement('div');\n",
              "          docLink.innerHTML = docLinkHtml;\n",
              "          element.appendChild(docLink);\n",
              "        }\n",
              "      </script>\n",
              "    </div>\n",
              "  </div>\n"
            ]
          },
          "metadata": {},
          "execution_count": 4
        }
      ],
      "source": [
        "#merging data of AAC descriptor\n",
        "df=pd.concat([pos.head(5000),neg.head(5000)])\n",
        "df.head()\n",
        "#print(df1.shape)\n",
        "#print(df1.shape)"
      ]
    },
    {
      "cell_type": "code",
      "source": [
        "df = df.drop(df.columns[(df == 0).all()], axis=1)\n"
      ],
      "metadata": {
        "id": "_8sUIuX_Hme_"
      },
      "execution_count": 5,
      "outputs": []
    },
    {
      "cell_type": "code",
      "source": [
        "df.shape"
      ],
      "metadata": {
        "colab": {
          "base_uri": "https://localhost:8080/"
        },
        "id": "CAhESDm3JuKh",
        "outputId": "8469cc3d-ebd7-429b-cfe6-e3ac2f9da1d9"
      },
      "execution_count": 6,
      "outputs": [
        {
          "output_type": "execute_result",
          "data": {
            "text/plain": [
              "(10000, 20)"
            ]
          },
          "metadata": {},
          "execution_count": 6
        }
      ]
    },
    {
      "cell_type": "markdown",
      "metadata": {
        "id": "SUhAOFrygt_A"
      },
      "source": [
        "# Applying Kmean on AAC component only"
      ]
    },
    {
      "cell_type": "code",
      "execution_count": 7,
      "metadata": {
        "id": "Gv4ZBxACgnh-"
      },
      "outputs": [],
      "source": [
        "shuffled_df = df.sample(frac=1).reset_index(drop=True)\n",
        "X=shuffled_df"
      ]
    },
    {
      "cell_type": "code",
      "execution_count": 8,
      "metadata": {
        "id": "sNjRzA9Ng2--"
      },
      "outputs": [],
      "source": [
        "import matplotlib.pyplot as plt"
      ]
    },
    {
      "cell_type": "code",
      "execution_count": 9,
      "metadata": {
        "colab": {
          "base_uri": "https://localhost:8080/",
          "height": 1000
        },
        "id": "R_xuOMNxvcJ7",
        "outputId": "17ad7a56-609a-4168-96a4-53e9742728e5"
      },
      "outputs": [
        {
          "output_type": "stream",
          "name": "stderr",
          "text": [
            "/usr/local/lib/python3.10/dist-packages/sklearn/cluster/_kmeans.py:870: FutureWarning: The default value of `n_init` will change from 10 to 'auto' in 1.4. Set the value of `n_init` explicitly to suppress the warning\n",
            "  warnings.warn(\n",
            "/usr/local/lib/python3.10/dist-packages/sklearn/cluster/_kmeans.py:870: FutureWarning: The default value of `n_init` will change from 10 to 'auto' in 1.4. Set the value of `n_init` explicitly to suppress the warning\n",
            "  warnings.warn(\n",
            "/usr/local/lib/python3.10/dist-packages/sklearn/cluster/_kmeans.py:870: FutureWarning: The default value of `n_init` will change from 10 to 'auto' in 1.4. Set the value of `n_init` explicitly to suppress the warning\n",
            "  warnings.warn(\n",
            "/usr/local/lib/python3.10/dist-packages/sklearn/cluster/_kmeans.py:870: FutureWarning: The default value of `n_init` will change from 10 to 'auto' in 1.4. Set the value of `n_init` explicitly to suppress the warning\n",
            "  warnings.warn(\n",
            "/usr/local/lib/python3.10/dist-packages/sklearn/cluster/_kmeans.py:870: FutureWarning: The default value of `n_init` will change from 10 to 'auto' in 1.4. Set the value of `n_init` explicitly to suppress the warning\n",
            "  warnings.warn(\n",
            "/usr/local/lib/python3.10/dist-packages/sklearn/cluster/_kmeans.py:870: FutureWarning: The default value of `n_init` will change from 10 to 'auto' in 1.4. Set the value of `n_init` explicitly to suppress the warning\n",
            "  warnings.warn(\n",
            "/usr/local/lib/python3.10/dist-packages/sklearn/cluster/_kmeans.py:870: FutureWarning: The default value of `n_init` will change from 10 to 'auto' in 1.4. Set the value of `n_init` explicitly to suppress the warning\n",
            "  warnings.warn(\n",
            "/usr/local/lib/python3.10/dist-packages/sklearn/cluster/_kmeans.py:870: FutureWarning: The default value of `n_init` will change from 10 to 'auto' in 1.4. Set the value of `n_init` explicitly to suppress the warning\n",
            "  warnings.warn(\n",
            "/usr/local/lib/python3.10/dist-packages/sklearn/cluster/_kmeans.py:870: FutureWarning: The default value of `n_init` will change from 10 to 'auto' in 1.4. Set the value of `n_init` explicitly to suppress the warning\n",
            "  warnings.warn(\n",
            "/usr/local/lib/python3.10/dist-packages/sklearn/cluster/_kmeans.py:870: FutureWarning: The default value of `n_init` will change from 10 to 'auto' in 1.4. Set the value of `n_init` explicitly to suppress the warning\n",
            "  warnings.warn(\n",
            "/usr/local/lib/python3.10/dist-packages/sklearn/cluster/_kmeans.py:870: FutureWarning: The default value of `n_init` will change from 10 to 'auto' in 1.4. Set the value of `n_init` explicitly to suppress the warning\n",
            "  warnings.warn(\n",
            "/usr/local/lib/python3.10/dist-packages/sklearn/cluster/_kmeans.py:870: FutureWarning: The default value of `n_init` will change from 10 to 'auto' in 1.4. Set the value of `n_init` explicitly to suppress the warning\n",
            "  warnings.warn(\n",
            "/usr/local/lib/python3.10/dist-packages/sklearn/cluster/_kmeans.py:870: FutureWarning: The default value of `n_init` will change from 10 to 'auto' in 1.4. Set the value of `n_init` explicitly to suppress the warning\n",
            "  warnings.warn(\n",
            "/usr/local/lib/python3.10/dist-packages/sklearn/cluster/_kmeans.py:870: FutureWarning: The default value of `n_init` will change from 10 to 'auto' in 1.4. Set the value of `n_init` explicitly to suppress the warning\n",
            "  warnings.warn(\n",
            "/usr/local/lib/python3.10/dist-packages/sklearn/cluster/_kmeans.py:870: FutureWarning: The default value of `n_init` will change from 10 to 'auto' in 1.4. Set the value of `n_init` explicitly to suppress the warning\n",
            "  warnings.warn(\n",
            "/usr/local/lib/python3.10/dist-packages/sklearn/cluster/_kmeans.py:870: FutureWarning: The default value of `n_init` will change from 10 to 'auto' in 1.4. Set the value of `n_init` explicitly to suppress the warning\n",
            "  warnings.warn(\n",
            "/usr/local/lib/python3.10/dist-packages/sklearn/cluster/_kmeans.py:870: FutureWarning: The default value of `n_init` will change from 10 to 'auto' in 1.4. Set the value of `n_init` explicitly to suppress the warning\n",
            "  warnings.warn(\n"
          ]
        },
        {
          "output_type": "display_data",
          "data": {
            "text/plain": [
              "<Figure size 640x480 with 1 Axes>"
            ],
            "image/png": "[encoded data removed]"
          },
          "metadata": {}
        }
      ],
      "source": [
        "from sklearn.cluster import KMeans\n",
        "\n",
        "# Perform K-means clustering for different values of k\n",
        "k_values = range(1, 18)\n",
        "inertia_values = []\n",
        "\n",
        "for k in k_values:\n",
        "    kmeans = KMeans(n_clusters=k, random_state=42)\n",
        "    kmeans.fit(X)\n",
        "    inertia_values.append(kmeans.inertia_)\n",
        "\n",
        "# Plotting the elbow curve\n",
        "plt.plot(k_values, inertia_values, marker='o')\n",
        "plt.xlabel('Number of Clusters (k)')\n",
        "plt.ylabel('Inertia')\n",
        "plt.title('Elbow Method')\n",
        "plt.show()"
      ]
    },
    {
      "cell_type": "code",
      "execution_count": 10,
      "metadata": {
        "colab": {
          "base_uri": "https://localhost:8080/"
        },
        "id": "b7ImjijnhYGm",
        "outputId": "e0416401-221f-4b58-d3c9-7aa1fe666c88"
      },
      "outputs": [
        {
          "output_type": "stream",
          "name": "stderr",
          "text": [
            "/usr/local/lib/python3.10/dist-packages/sklearn/cluster/_kmeans.py:870: FutureWarning: The default value of `n_init` will change from 10 to 'auto' in 1.4. Set the value of `n_init` explicitly to suppress the warning\n",
            "  warnings.warn(\n"
          ]
        }
      ],
      "source": [
        "from sklearn.cluster import KMeans\n",
        "\n",
        "k=2\n",
        "kmeans=KMeans(n_clusters=k,random_state=42)\n",
        "y_pred=kmeans.fit_predict(pos)"
      ]
    },
    {
      "cell_type": "code",
      "execution_count": 11,
      "metadata": {
        "colab": {
          "base_uri": "https://localhost:8080/"
        },
        "id": "srxQvmqkh9lK",
        "outputId": "1eafe7f1-e793-4e99-a2dc-8400ffcf6a69"
      },
      "outputs": [
        {
          "output_type": "execute_result",
          "data": {
            "text/plain": [
              "True"
            ]
          },
          "metadata": {},
          "execution_count": 11
        }
      ],
      "source": [
        "y_pred is kmeans.labels_"
      ]
    },
    {
      "cell_type": "code",
      "execution_count": 12,
      "metadata": {
        "colab": {
          "base_uri": "https://localhost:8080/"
        },
        "id": "Q5YLNgcZiHZC",
        "outputId": "33b1b681-e907-444b-918d-e04de1efaf31"
      },
      "outputs": [
        {
          "output_type": "execute_result",
          "data": {
            "text/plain": [
              "array([[0.        , 0.09241946, 0.01257371, 0.0197508 , 0.02622042,\n",
              "        0.05154197, 0.06503392, 0.01424726, 0.06390881, 0.19715487,\n",
              "        0.16556446, 0.0119289 , 0.02479773, 0.02636804, 0.02044301,\n",
              "        0.0433437 , 0.04099046, 0.02705208, 0.05465781, 0.02688912,\n",
              "        0.01511347],\n",
              "       [0.        , 0.06538249, 0.05567171, 0.04337108, 0.04742559,\n",
              "        0.04656698, 0.08775483, 0.02319031, 0.04335122, 0.04281345,\n",
              "        0.07133835, 0.01847361, 0.04076785, 0.06822572, 0.03602216,\n",
              "        0.08403291, 0.06969314, 0.04466118, 0.05236682, 0.02526137,\n",
              "        0.03362924]])"
            ]
          },
          "metadata": {},
          "execution_count": 12
        }
      ],
      "source": [
        "kmeans.cluster_centers_"
      ]
    },
    {
      "cell_type": "code",
      "execution_count": 13,
      "metadata": {
        "colab": {
          "base_uri": "https://localhost:8080/"
        },
        "id": "QR3dOdwaiQnh",
        "outputId": "79fd66ce-66d7-49c4-cdea-764c71011784"
      },
      "outputs": [
        {
          "output_type": "execute_result",
          "data": {
            "text/plain": [
              "1352.5554645506902"
            ]
          },
          "metadata": {},
          "execution_count": 13
        }
      ],
      "source": [
        "kmeans.inertia_"
      ]
    },
    {
      "cell_type": "code",
      "source": [
        "from sklearn.metrics import silhouette_score"
      ],
      "metadata": {
        "id": "_rSnwvoPuBPy"
      },
      "execution_count": 14,
      "outputs": []
    },
    {
      "cell_type": "code",
      "execution_count": 15,
      "metadata": {
        "colab": {
          "base_uri": "https://localhost:8080/"
        },
        "id": "yHlUolSE19oj",
        "outputId": "07856b95-2ac4-4579-993b-6eac02923161"
      },
      "outputs": [
        {
          "output_type": "stream",
          "name": "stderr",
          "text": [
            "/usr/local/lib/python3.10/dist-packages/sklearn/cluster/_kmeans.py:870: FutureWarning: The default value of `n_init` will change from 10 to 'auto' in 1.4. Set the value of `n_init` explicitly to suppress the warning\n",
            "  warnings.warn(\n"
          ]
        },
        {
          "output_type": "stream",
          "name": "stdout",
          "text": [
            "Silhouette Score: 0.0925293248465004\n"
          ]
        }
      ],
      "source": [
        "# Fit the model to the data and get the cluster assignments\n",
        "labels = kmeans.fit_predict(shuffled_df)\n",
        "\n",
        "# Ensure that X has the same number of samples as labels\n",
        "X = shuffled_df\n",
        "\n",
        "# Calculate the silhouette score\n",
        "silhouette_avg = silhouette_score(X, labels)\n",
        "\n",
        "print(\"Silhouette Score:\", silhouette_avg)"
      ]
    },
    {
      "cell_type": "code",
      "execution_count": 16,
      "metadata": {
        "id": "Cf1FQ_rBjhV7",
        "colab": {
          "base_uri": "https://localhost:8080/",
          "height": 527
        },
        "outputId": "adaadf84-9e04-42db-c713-4b27779dd886"
      },
      "outputs": [
        {
          "output_type": "stream",
          "name": "stderr",
          "text": [
            "/usr/local/lib/python3.10/dist-packages/sklearn/cluster/_kmeans.py:870: FutureWarning: The default value of `n_init` will change from 10 to 'auto' in 1.4. Set the value of `n_init` explicitly to suppress the warning\n",
            "  warnings.warn(\n"
          ]
        },
        {
          "output_type": "display_data",
          "data": {
            "text/plain": [
              "<Figure size 640x480 with 1 Axes>"
            ],
            "image/png": "[encoded data removed]"
          },
          "metadata": {}
        }
      ],
      "source": [
        "import matplotlib.pyplot as plt\n",
        "from sklearn.decomposition import PCA\n",
        "\n",
        "\n",
        "# Create a K-means clustering model with 2 clusters, using K-means++ initialization\n",
        "kmeans = KMeans(n_clusters=2, init='k-means++', random_state=42)\n",
        "y_pred = kmeans.fit_predict(pos)\n",
        "\n",
        "# Perform PCA dimensionality reduction to 2 components\n",
        "pca = PCA(n_components=2)\n",
        "X_pca = pca.fit_transform(pos)\n",
        "\n",
        "# Create a scatter plot of the reduced data, colored by cluster assignments\n",
        "plt.scatter(X_pca[:, 0], X_pca[:, 1], c=y_pred)\n",
        "plt.title(\"K-means clustering with 2 clusters\")\n",
        "plt.xlabel(\"Principal Component 1\")\n",
        "plt.ylabel(\"Principal Component 2\")\n",
        "plt.show()"
      ]
    },
    {
      "cell_type": "code",
      "execution_count": 17,
      "metadata": {
        "id": "fFXNeo0Sk64b",
        "colab": {
          "base_uri": "https://localhost:8080/"
        },
        "outputId": "80629cff-4319-4da0-ae62-329ff096939c"
      },
      "outputs": [
        {
          "output_type": "stream",
          "name": "stdout",
          "text": [
            "Number of samples in cluster 0: 4729\n",
            "Number of samples in cluster 1: 12415\n"
          ]
        }
      ],
      "source": [
        "# Count the number of samples in each cluster\n",
        "import numpy as np\n",
        "counts = np.bincount(y_pred)\n",
        "\n",
        "print(f\"Number of samples in cluster 0: {counts[0]}\")\n",
        "print(f\"Number of samples in cluster 1: {counts[1]}\")"
      ]
    },
    {
      "cell_type": "markdown",
      "metadata": {
        "id": "Ntjgn7lhvt_U"
      },
      "source": [
        "# Applying DBSCAN"
      ]
    },
    {
      "cell_type": "code",
      "execution_count": 18,
      "metadata": {
        "id": "Am-c2RcqvzJw",
        "colab": {
          "base_uri": "https://localhost:8080/",
          "height": 75
        },
        "outputId": "16487d6e-e000-4fdd-dbdb-4ceeb57dc762"
      },
      "outputs": [
        {
          "output_type": "execute_result",
          "data": {
            "text/plain": [
              "DBSCAN(eps=0.05)"
            ],
            "text/html": [
              "<style>#sk-container-id-1 {color: black;background-color: white;}#sk-container-id-1 pre{padding: 0;}#sk-container-id-1 div.sk-toggleable {background-color: white;}#sk-container-id-1 label.sk-toggleable__label {cursor: pointer;display: block;width: 100%;margin-bottom: 0;padding: 0.3em;box-sizing: border-box;text-align: center;}#sk-container-id-1 label.sk-toggleable__label-arrow:before {content: \"▸\";float: left;margin-right: 0.25em;color: #696969;}#sk-container-id-1 label.sk-toggleable__label-arrow:hover:before {color: black;}#sk-container-id-1 div.sk-estimator:hover label.sk-toggleable__label-arrow:before {color: black;}#sk-container-id-1 div.sk-toggleable__content {max-height: 0;max-width: 0;overflow: hidden;text-align: left;background-color: #f0f8ff;}#sk-container-id-1 div.sk-toggleable__content pre {margin: 0.2em;color: black;border-radius: 0.25em;background-color: #f0f8ff;}#sk-container-id-1 input.sk-toggleable__control:checked~div.sk-toggleable__content {max-height: 200px;max-width: 100%;overflow: auto;}#sk-container-id-1 input.sk-toggleable__control:checked~label.sk-toggleable__label-arrow:before {content: \"▾\";}#sk-container-id-1 div.sk-estimator input.sk-toggleable__control:checked~label.sk-toggleable__label {background-color: #d4ebff;}#sk-container-id-1 div.sk-label input.sk-toggleable__control:checked~label.sk-toggleable__label {background-color: #d4ebff;}#sk-container-id-1 input.sk-hidden--visually {border: 0;clip: rect(1px 1px 1px 1px);clip: rect(1px, 1px, 1px, 1px);height: 1px;margin: -1px;overflow: hidden;padding: 0;position: absolute;width: 1px;}#sk-container-id-1 div.sk-estimator {font-family: monospace;background-color: #f0f8ff;border: 1px dotted black;border-radius: 0.25em;box-sizing: border-box;margin-bottom: 0.5em;}#sk-container-id-1 div.sk-estimator:hover {background-color: #d4ebff;}#sk-container-id-1 div.sk-parallel-item::after {content: \"\";width: 100%;border-bottom: 1px solid gray;flex-grow: 1;}#sk-container-id-1 div.sk-label:hover label.sk-toggleable__label {background-color: #d4ebff;}#sk-container-id-1 div.sk-serial::before {content: \"\";position: absolute;border-left: 1px solid gray;box-sizing: border-box;top: 0;bottom: 0;left: 50%;z-index: 0;}#sk-container-id-1 div.sk-serial {display: flex;flex-direction: column;align-items: center;background-color: white;padding-right: 0.2em;padding-left: 0.2em;position: relative;}#sk-container-id-1 div.sk-item {position: relative;z-index: 1;}#sk-container-id-1 div.sk-parallel {display: flex;align-items: stretch;justify-content: center;background-color: white;position: relative;}#sk-container-id-1 div.sk-item::before, #sk-container-id-1 div.sk-parallel-item::before {content: \"\";position: absolute;border-left: 1px solid gray;box-sizing: border-box;top: 0;bottom: 0;left: 50%;z-index: -1;}#sk-container-id-1 div.sk-parallel-item {display: flex;flex-direction: column;z-index: 1;position: relative;background-color: white;}#sk-container-id-1 div.sk-parallel-item:first-child::after {align-self: flex-end;width: 50%;}#sk-container-id-1 div.sk-parallel-item:last-child::after {align-self: flex-start;width: 50%;}#sk-container-id-1 div.sk-parallel-item:only-child::after {width: 0;}#sk-container-id-1 div.sk-dashed-wrapped {border: 1px dashed gray;margin: 0 0.4em 0.5em 0.4em;box-sizing: border-box;padding-bottom: 0.4em;background-color: white;}#sk-container-id-1 div.sk-label label {font-family: monospace;font-weight: bold;display: inline-block;line-height: 1.2em;}#sk-container-id-1 div.sk-label-container {text-align: center;}#sk-container-id-1 div.sk-container {/* jupyter's `normalize.less` sets `[hidden] { display: none; }` but bootstrap.min.css set `[hidden] { display: none !important; }` so we also need the `!important` here to be able to override the default hidden behavior on the sphinx rendered scikit-learn.org. See: https://github.com/scikit-learn/scikit-learn/issues/21755 */display: inline-block !important;position: relative;}#sk-container-id-1 div.sk-text-repr-fallback {display: none;}</style><div id=\"sk-container-id-1\" class=\"sk-top-container\"><div class=\"sk-text-repr-fallback\"><pre>DBSCAN(eps=0.05)</pre><b>In a Jupyter environment, please rerun this cell to show the HTML representation or trust the notebook. <br />On GitHub, the HTML representation is unable to render, please try loading this page with nbviewer.org.</b></div><div class=\"sk-container\" hidden><div class=\"sk-item\"><div class=\"sk-estimator sk-toggleable\"><input class=\"sk-toggleable__control sk-hidden--visually\" id=\"sk-estimator-id-1\" type=\"checkbox\" checked><label for=\"sk-estimator-id-1\" class=\"sk-toggleable__label sk-toggleable__label-arrow\">DBSCAN</label><div class=\"sk-toggleable__content\"><pre>DBSCAN(eps=0.05)</pre></div></div></div></div></div>"
            ]
          },
          "metadata": {},
          "execution_count": 18
        }
      ],
      "source": [
        "from sklearn.cluster import DBSCAN\n",
        "dbscan=DBSCAN(eps=0.05,min_samples=5)\n",
        "dbscan.fit(X)"
      ]
    },
    {
      "cell_type": "code",
      "execution_count": 19,
      "metadata": {
        "id": "gBABn7GjzDhs"
      },
      "outputs": [],
      "source": [
        "# Method 3: Silhouette Score\n",
        "from sklearn.metrics import silhouette_score\n",
        "\n",
        "best_eps = None\n",
        "best_min_samples = None\n",
        "best_score = -1\n",
        "\n",
        "for eps in np.linspace(0.1, 1.0, num=10):\n",
        "    for min_samples in range(2, 6):\n",
        "        dbscan = DBSCAN(eps=eps, min_samples=min_samples)\n",
        "        dbscan.fit(X)\n",
        "        labels = dbscan.labels_\n",
        "        if len(np.unique(labels)) > 1:\n",
        "            score = silhouette_score(X, labels)\n",
        "            if score > best_score:\n",
        "                best_score = score\n",
        "                best_eps = eps\n",
        "                best_min_samples = min_samples"
      ]
    },
    {
      "cell_type": "code",
      "execution_count": 20,
      "metadata": {
        "id": "JTjuV4gq06ud",
        "colab": {
          "base_uri": "https://localhost:8080/"
        },
        "outputId": "963bdf61-a6f9-41d9-df70-df74492838e6"
      },
      "outputs": [
        {
          "output_type": "stream",
          "name": "stdout",
          "text": [
            "best_eps :0.4\n",
            "best_min_samples :2\n"
          ]
        }
      ],
      "source": [
        "print(f\"best_eps :{best_eps}\")\n",
        "print(f\"best_min_samples :{best_min_samples}\")\n"
      ]
    },
    {
      "cell_type": "code",
      "execution_count": 21,
      "metadata": {
        "id": "Xe34kXpr1Qmd",
        "colab": {
          "base_uri": "https://localhost:8080/",
          "height": 75
        },
        "outputId": "d1b992a9-9436-47de-ef0b-5686518c3958"
      },
      "outputs": [
        {
          "output_type": "execute_result",
          "data": {
            "text/plain": [
              "DBSCAN(eps=0.3, min_samples=2)"
            ],
            "text/html": [
              "<style>#sk-container-id-2 {color: black;background-color: white;}#sk-container-id-2 pre{padding: 0;}#sk-container-id-2 div.sk-toggleable {background-color: white;}#sk-container-id-2 label.sk-toggleable__label {cursor: pointer;display: block;width: 100%;margin-bottom: 0;padding: 0.3em;box-sizing: border-box;text-align: center;}#sk-container-id-2 label.sk-toggleable__label-arrow:before {content: \"▸\";float: left;margin-right: 0.25em;color: #696969;}#sk-container-id-2 label.sk-toggleable__label-arrow:hover:before {color: black;}#sk-container-id-2 div.sk-estimator:hover label.sk-toggleable__label-arrow:before {color: black;}#sk-container-id-2 div.sk-toggleable__content {max-height: 0;max-width: 0;overflow: hidden;text-align: left;background-color: #f0f8ff;}#sk-container-id-2 div.sk-toggleable__content pre {margin: 0.2em;color: black;border-radius: 0.25em;background-color: #f0f8ff;}#sk-container-id-2 input.sk-toggleable__control:checked~div.sk-toggleable__content {max-height: 200px;max-width: 100%;overflow: auto;}#sk-container-id-2 input.sk-toggleable__control:checked~label.sk-toggleable__label-arrow:before {content: \"▾\";}#sk-container-id-2 div.sk-estimator input.sk-toggleable__control:checked~label.sk-toggleable__label {background-color: #d4ebff;}#sk-container-id-2 div.sk-label input.sk-toggleable__control:checked~label.sk-toggleable__label {background-color: #d4ebff;}#sk-container-id-2 input.sk-hidden--visually {border: 0;clip: rect(1px 1px 1px 1px);clip: rect(1px, 1px, 1px, 1px);height: 1px;margin: -1px;overflow: hidden;padding: 0;position: absolute;width: 1px;}#sk-container-id-2 div.sk-estimator {font-family: monospace;background-color: #f0f8ff;border: 1px dotted black;border-radius: 0.25em;box-sizing: border-box;margin-bottom: 0.5em;}#sk-container-id-2 div.sk-estimator:hover {background-color: #d4ebff;}#sk-container-id-2 div.sk-parallel-item::after {content: \"\";width: 100%;border-bottom: 1px solid gray;flex-grow: 1;}#sk-container-id-2 div.sk-label:hover label.sk-toggleable__label {background-color: #d4ebff;}#sk-container-id-2 div.sk-serial::before {content: \"\";position: absolute;border-left: 1px solid gray;box-sizing: border-box;top: 0;bottom: 0;left: 50%;z-index: 0;}#sk-container-id-2 div.sk-serial {display: flex;flex-direction: column;align-items: center;background-color: white;padding-right: 0.2em;padding-left: 0.2em;position: relative;}#sk-container-id-2 div.sk-item {position: relative;z-index: 1;}#sk-container-id-2 div.sk-parallel {display: flex;align-items: stretch;justify-content: center;background-color: white;position: relative;}#sk-container-id-2 div.sk-item::before, #sk-container-id-2 div.sk-parallel-item::before {content: \"\";position: absolute;border-left: 1px solid gray;box-sizing: border-box;top: 0;bottom: 0;left: 50%;z-index: -1;}#sk-container-id-2 div.sk-parallel-item {display: flex;flex-direction: column;z-index: 1;position: relative;background-color: white;}#sk-container-id-2 div.sk-parallel-item:first-child::after {align-self: flex-end;width: 50%;}#sk-container-id-2 div.sk-parallel-item:last-child::after {align-self: flex-start;width: 50%;}#sk-container-id-2 div.sk-parallel-item:only-child::after {width: 0;}#sk-container-id-2 div.sk-dashed-wrapped {border: 1px dashed gray;margin: 0 0.4em 0.5em 0.4em;box-sizing: border-box;padding-bottom: 0.4em;background-color: white;}#sk-container-id-2 div.sk-label label {font-family: monospace;font-weight: bold;display: inline-block;line-height: 1.2em;}#sk-container-id-2 div.sk-label-container {text-align: center;}#sk-container-id-2 div.sk-container {/* jupyter's `normalize.less` sets `[hidden] { display: none; }` but bootstrap.min.css set `[hidden] { display: none !important; }` so we also need the `!important` here to be able to override the default hidden behavior on the sphinx rendered scikit-learn.org. See: https://github.com/scikit-learn/scikit-learn/issues/21755 */display: inline-block !important;position: relative;}#sk-container-id-2 div.sk-text-repr-fallback {display: none;}</style><div id=\"sk-container-id-2\" class=\"sk-top-container\"><div class=\"sk-text-repr-fallback\"><pre>DBSCAN(eps=0.3, min_samples=2)</pre><b>In a Jupyter environment, please rerun this cell to show the HTML representation or trust the notebook. <br />On GitHub, the HTML representation is unable to render, please try loading this page with nbviewer.org.</b></div><div class=\"sk-container\" hidden><div class=\"sk-item\"><div class=\"sk-estimator sk-toggleable\"><input class=\"sk-toggleable__control sk-hidden--visually\" id=\"sk-estimator-id-2\" type=\"checkbox\" checked><label for=\"sk-estimator-id-2\" class=\"sk-toggleable__label sk-toggleable__label-arrow\">DBSCAN</label><div class=\"sk-toggleable__content\"><pre>DBSCAN(eps=0.3, min_samples=2)</pre></div></div></div></div></div>"
            ]
          },
          "metadata": {},
          "execution_count": 21
        }
      ],
      "source": [
        "dbscan=DBSCAN(eps=0.3,min_samples=2)\n",
        "dbscan.fit(X)"
      ]
    },
    {
      "cell_type": "code",
      "execution_count": 22,
      "metadata": {
        "id": "sLwrJ7dt1r1o",
        "colab": {
          "base_uri": "https://localhost:8080/"
        },
        "outputId": "b40433e3-88e7-461d-bc3f-ff502f73cafe"
      },
      "outputs": [
        {
          "output_type": "stream",
          "name": "stdout",
          "text": [
            "Silhouette Score: 0.4508582481206752\n"
          ]
        }
      ],
      "source": [
        "# Evaluate using Silhouette Score\n",
        "labels = dbscan.labels_\n",
        "silhouette_avg = silhouette_score(X, labels)\n",
        "\n",
        "print(\"Silhouette Score:\", silhouette_avg)"
      ]
    },
    {
      "cell_type": "markdown",
      "metadata": {
        "id": "lAEgxvKe2G-d"
      },
      "source": [
        "# Applying Agglomerative Clustering"
      ]
    },
    {
      "cell_type": "code",
      "execution_count": 23,
      "metadata": {
        "id": "rOFgnFJ37Dzj",
        "colab": {
          "base_uri": "https://localhost:8080/"
        },
        "outputId": "84911eb7-805b-46ee-ff05-41ec1f4997b1"
      },
      "outputs": [
        {
          "output_type": "stream",
          "name": "stdout",
          "text": [
            "Silhouette Score: 0.06855202951786221\n"
          ]
        }
      ],
      "source": [
        "# Apply Agglomerative Clustering\n",
        "from sklearn.cluster import AgglomerativeClustering\n",
        "\n",
        "\n",
        "agg_clustering = AgglomerativeClustering(n_clusters=4)\n",
        "agg_clustering.fit(X)\n",
        "\n",
        "# Evaluate using Silhouette Score\n",
        "labels = agg_clustering.labels_\n",
        "silhouette_avg = silhouette_score(X, labels)\n",
        "\n",
        "print(\"Silhouette Score:\", silhouette_avg)"
      ]
    },
    {
      "cell_type": "markdown",
      "metadata": {
        "id": "y3UuQgVc_kN-"
      },
      "source": [
        "# GMM"
      ]
    },
    {
      "cell_type": "code",
      "execution_count": 24,
      "metadata": {
        "id": "fysc7ukk_mx2",
        "colab": {
          "base_uri": "https://localhost:8080/",
          "height": 75
        },
        "outputId": "5827e193-30f5-4b2a-a399-9ce5b7f8dbdb"
      },
      "outputs": [
        {
          "output_type": "execute_result",
          "data": {
            "text/plain": [
              "GaussianMixture(n_components=2, n_init=10)"
            ],
            "text/html": [
              "<style>#sk-container-id-3 {color: black;background-color: white;}#sk-container-id-3 pre{padding: 0;}#sk-container-id-3 div.sk-toggleable {background-color: white;}#sk-container-id-3 label.sk-toggleable__label {cursor: pointer;display: block;width: 100%;margin-bottom: 0;padding: 0.3em;box-sizing: border-box;text-align: center;}#sk-container-id-3 label.sk-toggleable__label-arrow:before {content: \"▸\";float: left;margin-right: 0.25em;color: #696969;}#sk-container-id-3 label.sk-toggleable__label-arrow:hover:before {color: black;}#sk-container-id-3 div.sk-estimator:hover label.sk-toggleable__label-arrow:before {color: black;}#sk-container-id-3 div.sk-toggleable__content {max-height: 0;max-width: 0;overflow: hidden;text-align: left;background-color: #f0f8ff;}#sk-container-id-3 div.sk-toggleable__content pre {margin: 0.2em;color: black;border-radius: 0.25em;background-color: #f0f8ff;}#sk-container-id-3 input.sk-toggleable__control:checked~div.sk-toggleable__content {max-height: 200px;max-width: 100%;overflow: auto;}#sk-container-id-3 input.sk-toggleable__control:checked~label.sk-toggleable__label-arrow:before {content: \"▾\";}#sk-container-id-3 div.sk-estimator input.sk-toggleable__control:checked~label.sk-toggleable__label {background-color: #d4ebff;}#sk-container-id-3 div.sk-label input.sk-toggleable__control:checked~label.sk-toggleable__label {background-color: #d4ebff;}#sk-container-id-3 input.sk-hidden--visually {border: 0;clip: rect(1px 1px 1px 1px);clip: rect(1px, 1px, 1px, 1px);height: 1px;margin: -1px;overflow: hidden;padding: 0;position: absolute;width: 1px;}#sk-container-id-3 div.sk-estimator {font-family: monospace;background-color: #f0f8ff;border: 1px dotted black;border-radius: 0.25em;box-sizing: border-box;margin-bottom: 0.5em;}#sk-container-id-3 div.sk-estimator:hover {background-color: #d4ebff;}#sk-container-id-3 div.sk-parallel-item::after {content: \"\";width: 100%;border-bottom: 1px solid gray;flex-grow: 1;}#sk-container-id-3 div.sk-label:hover label.sk-toggleable__label {background-color: #d4ebff;}#sk-container-id-3 div.sk-serial::before {content: \"\";position: absolute;border-left: 1px solid gray;box-sizing: border-box;top: 0;bottom: 0;left: 50%;z-index: 0;}#sk-container-id-3 div.sk-serial {display: flex;flex-direction: column;align-items: center;background-color: white;padding-right: 0.2em;padding-left: 0.2em;position: relative;}#sk-container-id-3 div.sk-item {position: relative;z-index: 1;}#sk-container-id-3 div.sk-parallel {display: flex;align-items: stretch;justify-content: center;background-color: white;position: relative;}#sk-container-id-3 div.sk-item::before, #sk-container-id-3 div.sk-parallel-item::before {content: \"\";position: absolute;border-left: 1px solid gray;box-sizing: border-box;top: 0;bottom: 0;left: 50%;z-index: -1;}#sk-container-id-3 div.sk-parallel-item {display: flex;flex-direction: column;z-index: 1;position: relative;background-color: white;}#sk-container-id-3 div.sk-parallel-item:first-child::after {align-self: flex-end;width: 50%;}#sk-container-id-3 div.sk-parallel-item:last-child::after {align-self: flex-start;width: 50%;}#sk-container-id-3 div.sk-parallel-item:only-child::after {width: 0;}#sk-container-id-3 div.sk-dashed-wrapped {border: 1px dashed gray;margin: 0 0.4em 0.5em 0.4em;box-sizing: border-box;padding-bottom: 0.4em;background-color: white;}#sk-container-id-3 div.sk-label label {font-family: monospace;font-weight: bold;display: inline-block;line-height: 1.2em;}#sk-container-id-3 div.sk-label-container {text-align: center;}#sk-container-id-3 div.sk-container {/* jupyter's `normalize.less` sets `[hidden] { display: none; }` but bootstrap.min.css set `[hidden] { display: none !important; }` so we also need the `!important` here to be able to override the default hidden behavior on the sphinx rendered scikit-learn.org. See: https://github.com/scikit-learn/scikit-learn/issues/21755 */display: inline-block !important;position: relative;}#sk-container-id-3 div.sk-text-repr-fallback {display: none;}</style><div id=\"sk-container-id-3\" class=\"sk-top-container\"><div class=\"sk-text-repr-fallback\"><pre>GaussianMixture(n_components=2, n_init=10)</pre><b>In a Jupyter environment, please rerun this cell to show the HTML representation or trust the notebook. <br />On GitHub, the HTML representation is unable to render, please try loading this page with nbviewer.org.</b></div><div class=\"sk-container\" hidden><div class=\"sk-item\"><div class=\"sk-estimator sk-toggleable\"><input class=\"sk-toggleable__control sk-hidden--visually\" id=\"sk-estimator-id-3\" type=\"checkbox\" checked><label for=\"sk-estimator-id-3\" class=\"sk-toggleable__label sk-toggleable__label-arrow\">GaussianMixture</label><div class=\"sk-toggleable__content\"><pre>GaussianMixture(n_components=2, n_init=10)</pre></div></div></div></div></div>"
            ]
          },
          "metadata": {},
          "execution_count": 24
        }
      ],
      "source": [
        "from sklearn.mixture import GaussianMixture\n",
        "gm = GaussianMixture(n_components=2, n_init=10)\n",
        "gm.fit(X)"
      ]
    },
    {
      "cell_type": "code",
      "execution_count": 25,
      "metadata": {
        "id": "XoFtnt7V7bc_",
        "colab": {
          "base_uri": "https://localhost:8080/"
        },
        "outputId": "2f2a2605-fe84-47e1-d32e-f8f6342dceac"
      },
      "outputs": [
        {
          "output_type": "execute_result",
          "data": {
            "text/plain": [
              "array([0.60369473, 0.39630527])"
            ]
          },
          "metadata": {},
          "execution_count": 25
        }
      ],
      "source": [
        "gm.weights_"
      ]
    },
    {
      "cell_type": "code",
      "execution_count": 26,
      "metadata": {
        "id": "x3YvhNzW7q4y",
        "colab": {
          "base_uri": "https://localhost:8080/"
        },
        "outputId": "3120fe33-83f4-481b-9064-b2295e311823"
      },
      "outputs": [
        {
          "output_type": "execute_result",
          "data": {
            "text/plain": [
              "array([[0.08213147, 0.0079001 , 0.04887106, 0.05844897, 0.04669442,\n",
              "        0.0752986 , 0.01760212, 0.06458372, 0.06939868, 0.10709847,\n",
              "        0.02402012, 0.04380237, 0.04571674, 0.03748155, 0.04940478,\n",
              "        0.06429624, 0.05012331, 0.06587631, 0.01012247, 0.03112851],\n",
              "       [0.07411741, 0.060437  , 0.01478703, 0.01556177, 0.04352926,\n",
              "        0.08253561, 0.0260976 , 0.05304989, 0.12114112, 0.10584041,\n",
              "        0.01229539, 0.02579271, 0.0468474 , 0.02059268, 0.10488476,\n",
              "        0.04921559, 0.03588259, 0.05247372, 0.03673097, 0.01818707]])"
            ]
          },
          "metadata": {},
          "execution_count": 26
        }
      ],
      "source": [
        "gm.means_"
      ]
    },
    {
      "cell_type": "code",
      "execution_count": 27,
      "metadata": {
        "id": "JnQTuajp7hlw",
        "colab": {
          "base_uri": "https://localhost:8080/"
        },
        "outputId": "67eeda4d-d59d-4016-a4fa-e81d1f927ec5"
      },
      "outputs": [
        {
          "output_type": "execute_result",
          "data": {
            "text/plain": [
              "array([[[ 5.04210454e-03, -8.70372772e-05, -3.75256082e-04,\n",
              "         -1.91579373e-04, -4.57028689e-04, -1.37202346e-04,\n",
              "         -1.04131925e-04, -3.23909904e-04, -1.17735920e-04,\n",
              "         -3.83249403e-04, -9.77285530e-05, -4.81477304e-04,\n",
              "         -3.45049440e-04, -2.14765911e-04, -5.16418422e-04,\n",
              "         -4.80876189e-04, -2.07019762e-04, -7.94072955e-05,\n",
              "         -3.16354460e-05, -4.09595300e-04],\n",
              "        [-8.70372772e-05,  3.98991574e-04,  9.42828315e-05,\n",
              "          3.15942828e-05, -8.74753690e-05, -3.99501931e-05,\n",
              "         -1.78515856e-05, -8.39725950e-05, -8.78431402e-05,\n",
              "         -1.50159519e-04,  7.61703045e-06,  4.34033200e-05,\n",
              "         -5.18135144e-05,  4.47812409e-05,  6.07849109e-06,\n",
              "         -1.85780809e-05,  3.12959550e-05, -5.50726792e-05,\n",
              "         -9.57163674e-06,  3.22808646e-05],\n",
              "        [-3.75256082e-04,  9.42828315e-05,  2.98291094e-03,\n",
              "          1.53893058e-04, -1.68630270e-04, -4.28329057e-04,\n",
              "          2.69384148e-05, -2.81970069e-04, -2.64155001e-04,\n",
              "         -8.83402896e-04, -1.41876596e-04, -7.74436729e-05,\n",
              "         -1.61516953e-04, -9.46343403e-05,  1.59804807e-05,\n",
              "         -2.78556447e-04, -1.34661129e-04,  1.61779188e-05,\n",
              "         -3.11350019e-05,  3.23838730e-05],\n",
              "        [-1.91579373e-04,  3.15942828e-05,  1.53893058e-04,\n",
              "          4.21703425e-03, -5.05840294e-04, -8.33863685e-04,\n",
              "          4.49773715e-05, -6.83211813e-04, -9.73670866e-05,\n",
              "         -8.83547917e-04, -1.27183976e-04, -2.28863509e-04,\n",
              "         -1.61761621e-04,  1.20137430e-04,  2.79240470e-04,\n",
              "         -5.82777929e-04, -1.65039135e-04, -2.30534913e-04,\n",
              "         -5.04860025e-05, -1.03819609e-04],\n",
              "        [-4.57028689e-04, -8.74753690e-05, -1.68630270e-04,\n",
              "         -5.05840294e-04,  2.68768857e-03, -1.19098769e-04,\n",
              "         -1.02255177e-04,  8.33618123e-06, -3.23956557e-04,\n",
              "         -4.46840853e-05, -2.75409305e-05, -6.45037667e-05,\n",
              "          1.21290184e-07, -2.53350452e-04, -9.82880403e-05,\n",
              "          3.98783406e-05, -1.97919678e-04, -2.27823681e-04,\n",
              "         -2.05780147e-05, -3.60506088e-05],\n",
              "        [-1.37202346e-04, -3.99501931e-05, -4.28329057e-04,\n",
              "         -8.33863685e-04, -1.19098769e-04,  4.68721960e-03,\n",
              "         -1.11908125e-04,  4.25170008e-05, -2.62395354e-04,\n",
              "         -6.20856773e-05, -1.42969836e-04, -4.33822211e-04,\n",
              "         -2.98210489e-04, -5.58341320e-04, -5.15271741e-04,\n",
              "         -1.93717660e-04, -3.30274956e-04,  2.28797648e-05,\n",
              "          1.23558346e-05, -2.96530780e-04],\n",
              "        [-1.04131925e-04, -1.78515856e-05,  2.69384148e-05,\n",
              "          4.49773715e-05, -1.02255177e-04, -1.11908125e-04,\n",
              "          9.62452080e-04, -8.09073961e-05, -1.33640300e-04,\n",
              "         -2.63137033e-04, -2.57179826e-05,  2.07593595e-05,\n",
              "         -5.50558889e-05,  5.34709673e-06,  1.54290754e-05,\n",
              "         -4.59659108e-05, -9.14040097e-05, -8.11355318e-05,\n",
              "         -1.25797533e-05,  5.07872211e-05],\n",
              "        [-3.23909904e-04, -8.39725950e-05, -2.81970069e-04,\n",
              "         -6.83211813e-04,  8.33618123e-06,  4.25170008e-05,\n",
              "         -8.09073961e-05,  3.71705893e-03,  3.95401370e-04,\n",
              "          6.30420614e-05, -4.96580203e-05, -1.15465994e-04,\n",
              "         -4.49805330e-04, -3.57811967e-04, -4.61088174e-04,\n",
              "         -2.91481870e-04, -2.83529876e-04, -4.38344422e-04,\n",
              "         -3.33531990e-05, -2.90844916e-04],\n",
              "        [-1.17735920e-04, -8.78431402e-05, -2.64155001e-04,\n",
              "         -9.73670866e-05, -3.23956557e-04, -2.62395354e-04,\n",
              "         -1.33640300e-04,  3.95401370e-04,  4.41598266e-03,\n",
              "         -2.55941098e-04, -6.95635320e-05, -7.09064795e-05,\n",
              "         -7.61218546e-04, -2.44080187e-04, -5.34332262e-04,\n",
              "         -5.95779306e-04, -4.61399410e-04, -2.64770024e-04,\n",
              "         -3.77487779e-05, -2.27551045e-04],\n",
              "        [-3.83249403e-04, -1.50159519e-04, -8.83402896e-04,\n",
              "         -8.83547917e-04, -4.46840853e-05, -6.20856773e-05,\n",
              "         -2.63137033e-04,  6.30420614e-05, -2.55941098e-04,\n",
              "          6.32827607e-03, -1.43937349e-04, -3.39749325e-04,\n",
              "         -3.00365896e-04, -3.97863594e-04, -6.79472439e-04,\n",
              "         -7.20032388e-05, -3.74437040e-04, -4.04656191e-04,\n",
              "         -1.72094890e-04, -5.79530540e-04],\n",
              "        [-9.77285530e-05,  7.61703045e-06, -1.41876596e-04,\n",
              "         -1.27183976e-04, -2.75409305e-05, -1.42969836e-04,\n",
              "         -2.57179826e-05, -4.96580203e-05, -6.95635320e-05,\n",
              "         -1.43937349e-04,  1.25169875e-03, -7.81027058e-05,\n",
              "         -7.96823355e-05, -2.55302125e-05,  6.46574569e-06,\n",
              "         -1.13519853e-04, -3.89990665e-05, -1.19126583e-04,\n",
              "          4.56092358e-05, -2.92532303e-05],\n",
              "        [-4.81477304e-04,  4.34033200e-05, -7.74436729e-05,\n",
              "         -2.28863509e-04, -6.45037667e-05, -4.33822211e-04,\n",
              "          2.07593595e-05, -1.15465994e-04, -7.09064795e-05,\n",
              "         -3.39749325e-04, -7.81027058e-05,  2.76425881e-03,\n",
              "         -1.76372280e-04, -6.76236841e-05, -1.14159909e-04,\n",
              "         -2.56018708e-04, -1.13638500e-04, -2.37062596e-04,\n",
              "         -6.61663539e-07,  2.84508196e-05],\n",
              "        [-3.45049440e-04, -5.18135144e-05, -1.61516953e-04,\n",
              "         -1.61761621e-04,  1.21290184e-07, -2.98210489e-04,\n",
              "         -5.50558889e-05, -4.49805330e-04, -7.61218546e-04,\n",
              "         -3.00365896e-04, -7.96823355e-05, -1.76372280e-04,\n",
              "          2.89012845e-03, -4.62833720e-05, -1.37935983e-05,\n",
              "          5.99197771e-05,  3.90305834e-05, -1.84056293e-04,\n",
              "         -2.75260167e-05,  1.24311471e-04],\n",
              "        [-2.14765911e-04,  4.47812409e-05, -9.46343403e-05,\n",
              "          1.20137430e-04, -2.53350452e-04, -5.58341320e-04,\n",
              "          5.34709673e-06, -3.57811967e-04, -2.44080187e-04,\n",
              "         -3.97863594e-04, -2.55302125e-05, -6.76236841e-05,\n",
              "         -4.62833720e-05,  2.52185483e-03,  2.19844514e-04,\n",
              "         -2.08419402e-04, -1.59128406e-04, -2.80809255e-04,\n",
              "          2.58891096e-05, -2.82121228e-05],\n",
              "        [-5.16418422e-04,  6.07849109e-06,  1.59804807e-05,\n",
              "          2.79240470e-04, -9.82880403e-05, -5.15271741e-04,\n",
              "          1.54290754e-05, -4.61088174e-04, -5.34332262e-04,\n",
              "         -6.79472439e-04,  6.46574569e-06, -1.14159909e-04,\n",
              "         -1.37935983e-05,  2.19844514e-04,  3.21320463e-03,\n",
              "         -2.35020801e-04, -2.52702136e-04, -3.32310706e-04,\n",
              "         -5.04492674e-05,  4.80640888e-05],\n",
              "        [-4.80876189e-04, -1.85780809e-05, -2.78556447e-04,\n",
              "         -5.82777929e-04,  3.98783406e-05, -1.93717660e-04,\n",
              "         -4.59659108e-05, -2.91481870e-04, -5.95779306e-04,\n",
              "         -7.20032388e-05, -1.13519853e-04, -2.56018708e-04,\n",
              "          5.99197771e-05, -2.08419402e-04, -2.35020801e-04,\n",
              "          3.76912283e-03, -8.31287573e-05, -2.92523403e-04,\n",
              "          1.85084372e-05, -1.38061832e-04],\n",
              "        [-2.07019762e-04,  3.12959550e-05, -1.34661129e-04,\n",
              "         -1.65039135e-04, -1.97919678e-04, -3.30274956e-04,\n",
              "         -9.14040097e-05, -2.83529876e-04, -4.61399410e-04,\n",
              "         -3.74437040e-04, -3.89990665e-05, -1.13638500e-04,\n",
              "          3.90305834e-05, -1.59128406e-04, -2.52702136e-04,\n",
              "         -8.31287573e-05,  2.96419420e-03, -3.73312591e-05,\n",
              "         -3.82169026e-05, -6.46907142e-05],\n",
              "        [-7.94072955e-05, -5.50726792e-05,  1.61779188e-05,\n",
              "         -2.30534913e-04, -2.27823681e-04,  2.28797648e-05,\n",
              "         -8.11355318e-05, -4.38344422e-04, -2.64770024e-04,\n",
              "         -4.04656191e-04, -1.19126583e-04, -2.37062596e-04,\n",
              "         -1.84056293e-04, -2.80809255e-04, -3.32310706e-04,\n",
              "         -2.92523403e-04, -3.73312591e-05,  3.45130940e-03,\n",
              "         -7.02750199e-05, -1.54127228e-04],\n",
              "        [-3.16354460e-05, -9.57163674e-06, -3.11350019e-05,\n",
              "         -5.04860025e-05, -2.05780147e-05,  1.23558346e-05,\n",
              "         -1.25797533e-05, -3.33531990e-05, -3.77487779e-05,\n",
              "         -1.72094890e-04,  4.56092358e-05, -6.61663539e-07,\n",
              "         -2.75260167e-05,  2.58891096e-05, -5.04492674e-05,\n",
              "          1.85084372e-05, -3.82169026e-05, -7.02750199e-05,\n",
              "          4.61805961e-04,  2.31430147e-05],\n",
              "        [-4.09595300e-04,  3.22808646e-05,  3.23838730e-05,\n",
              "         -1.03819609e-04, -3.60506088e-05, -2.96530780e-04,\n",
              "          5.07872211e-05, -2.90844916e-04, -2.27551045e-04,\n",
              "         -5.79530540e-04, -2.92532303e-05,  2.84508196e-05,\n",
              "          1.24311471e-04, -2.82121228e-05,  4.80640888e-05,\n",
              "         -1.38061832e-04, -6.46907142e-05, -1.54127228e-04,\n",
              "          2.31430147e-05,  2.01984657e-03]],\n",
              "\n",
              "       [[ 7.47071275e-03, -1.28329741e-03, -1.67648338e-04,\n",
              "         -1.67578890e-04, -1.41697038e-04, -6.14941579e-04,\n",
              "         -3.57215274e-04, -6.55255469e-04,  1.09882954e-03,\n",
              "          4.93736461e-04, -6.68372677e-05, -1.85961274e-04,\n",
              "         -7.74865263e-04, -3.43164112e-04, -2.28272756e-03,\n",
              "         -5.76832309e-04, -2.46353396e-04, -3.81217062e-04,\n",
              "         -4.85742154e-04, -3.30944364e-04],\n",
              "        [-1.28329741e-03,  5.48821898e-03,  2.99556522e-04,\n",
              "          4.17037972e-04, -3.81582313e-04,  7.79998131e-04,\n",
              "         -5.06222707e-04, -3.25698671e-04, -2.60707726e-03,\n",
              "         -2.60957610e-03, -4.69746089e-05,  3.94072802e-04,\n",
              "         -1.25847298e-04,  9.92490331e-05, -6.23595292e-04,\n",
              "          6.64769807e-04,  7.42470152e-04,  1.48005499e-04,\n",
              "         -1.08821547e-03,  5.65708226e-04],\n",
              "        [-1.67648338e-04,  2.99556522e-04,  7.31604212e-04,\n",
              "          1.21678480e-04, -1.27977860e-04,  1.05101963e-04,\n",
              "          6.08657629e-05, -9.84563887e-05, -4.49186406e-04,\n",
              "         -3.51110621e-04,  1.74191938e-05,  1.37072826e-04,\n",
              "          2.38464470e-05,  5.57390152e-05, -4.54525964e-04,\n",
              "          1.05570146e-04,  8.38669172e-05, -3.14986423e-05,\n",
              "         -1.13231070e-04,  5.23138048e-05],\n",
              "        [-1.67578890e-04,  4.17037972e-04,  1.21678480e-04,\n",
              "          8.11633338e-04, -1.53412634e-04, -2.00526200e-05,\n",
              "          5.58699917e-06, -1.42607876e-04, -4.39136815e-04,\n",
              "         -5.09253897e-04,  4.32726764e-05,  1.51505955e-04,\n",
              "          5.80368031e-05,  7.64117037e-05, -4.26008377e-04,\n",
              "          9.94277495e-05,  1.40188550e-04, -3.05983637e-05,\n",
              "         -1.30112006e-04,  9.49812529e-05],\n",
              "        [-1.41697038e-04, -3.81582313e-04, -1.27977860e-04,\n",
              "         -1.53412634e-04,  3.28767582e-03, -4.69103740e-04,\n",
              "         -4.02783818e-05,  1.08790618e-05,  2.74894247e-04,\n",
              "          1.88949183e-05, -1.05656994e-04, -1.55766698e-04,\n",
              "          4.56537348e-05, -2.18085156e-04, -8.64233175e-04,\n",
              "         -1.65449771e-04, -2.13838960e-04, -2.21562919e-04,\n",
              "         -2.14746609e-04, -1.63605535e-04],\n",
              "        [-6.14941579e-04,  7.79998131e-04,  1.05101963e-04,\n",
              "         -2.00526200e-05, -4.69103740e-04,  5.76261667e-03,\n",
              "          1.14879137e-04, -3.76666102e-04, -2.35871494e-03,\n",
              "         -1.12268591e-03, -5.15252994e-05,  9.37628236e-05,\n",
              "         -3.63209602e-04, -9.52833327e-05, -1.37356465e-03,\n",
              "          3.75067914e-04,  1.76702310e-04, -3.01870409e-05,\n",
              "         -6.61986206e-04,  1.30792067e-04],\n",
              "        [-3.57215274e-04, -5.06222707e-04,  6.08657629e-05,\n",
              "          5.58699917e-06, -4.02783818e-05,  1.14879137e-04,\n",
              "          2.89308612e-03,  4.57803320e-05, -8.93340989e-04,\n",
              "         -4.01014309e-04,  7.13407122e-06,  4.24051390e-05,\n",
              "         -7.17147967e-05,  1.65618217e-05, -3.45262496e-04,\n",
              "          7.17982543e-06, -1.68510970e-04, -1.34714007e-04,\n",
              "         -2.74639075e-04,  4.33796444e-07],\n",
              "        [-6.55255469e-04, -3.25698671e-04, -9.84563887e-05,\n",
              "         -1.42607876e-04,  1.08790618e-05, -3.76666102e-04,\n",
              "          4.57803320e-05,  3.45751645e-03,  3.88468256e-04,\n",
              "         -9.98669367e-05, -1.48137307e-05, -4.44168824e-05,\n",
              "         -2.57646919e-04, -1.37499130e-04, -8.45689815e-04,\n",
              "         -2.27279386e-04, -2.57128666e-04,  1.42074153e-04,\n",
              "         -2.92644487e-04, -2.68047791e-04],\n",
              "        [ 1.09882954e-03, -2.60707726e-03, -4.49186406e-04,\n",
              "         -4.39136815e-04,  2.74894247e-04, -2.35871494e-03,\n",
              "         -8.93340989e-04,  3.88468256e-04,  1.26179755e-02,\n",
              "          2.87907513e-03, -9.83256983e-05, -5.13850848e-04,\n",
              "         -1.93733133e-03, -4.14001369e-04, -4.06685921e-03,\n",
              "         -1.25113664e-03, -1.02567745e-03, -6.47252167e-04,\n",
              "          2.92791393e-04, -8.49142909e-04],\n",
              "        [ 4.93736461e-04, -2.60957610e-03, -3.51110621e-04,\n",
              "         -5.09253897e-04,  1.88949183e-05, -1.12268591e-03,\n",
              "         -4.01014309e-04, -9.98669367e-05,  2.87907513e-03,\n",
              "          1.19562428e-02, -3.33873116e-04, -6.80313729e-04,\n",
              "         -1.13469334e-03, -6.66135680e-04, -3.37589734e-03,\n",
              "         -1.03314986e-03, -8.85625449e-04, -1.05875242e-03,\n",
              "         -3.74606510e-04, -7.10394109e-04],\n",
              "        [-6.68372677e-05, -4.69746089e-05,  1.74191938e-05,\n",
              "          4.32726764e-05, -1.05656994e-04, -5.15252994e-05,\n",
              "          7.13407122e-06, -1.48137307e-05, -9.83256983e-05,\n",
              "         -3.33873116e-04,  5.38834707e-04,  3.84279172e-05,\n",
              "         -6.30751011e-05,  7.97853408e-05,  3.52951228e-05,\n",
              "          9.85697422e-06,  3.12995886e-05,  2.91345624e-05,\n",
              "         -3.44059078e-05, -1.39724303e-05],\n",
              "        [-1.85961274e-04,  3.94072802e-04,  1.37072826e-04,\n",
              "          1.51505955e-04, -1.55766698e-04,  9.37628236e-05,\n",
              "          4.24051390e-05, -4.44168824e-05, -5.13850848e-04,\n",
              "         -6.80313729e-04,  3.84279172e-05,  1.18569587e-03,\n",
              "         -3.58190111e-05,  1.21089567e-04, -8.03154324e-04,\n",
              "          1.41377045e-04,  1.85226189e-04,  6.62481867e-05,\n",
              "         -2.19283956e-04,  8.26824036e-05],\n",
              "        [-7.74865263e-04, -1.25847298e-04,  2.38464470e-05,\n",
              "          5.80368031e-05,  4.56537348e-05, -3.63209602e-04,\n",
              "         -7.17147967e-05, -2.57646919e-04, -1.93733133e-03,\n",
              "         -1.13469334e-03, -6.30751011e-05, -3.58190111e-05,\n",
              "          4.94223656e-03,  2.10795984e-04, -2.81008858e-04,\n",
              "         -3.03903904e-05,  4.51434039e-05, -2.53909918e-04,\n",
              "         -6.19274078e-05,  6.67263009e-05],\n",
              "        [-3.43164112e-04,  9.92490331e-05,  5.57390152e-05,\n",
              "          7.64117037e-05, -2.18085156e-04, -9.52833327e-05,\n",
              "          1.65618217e-05, -1.37499130e-04, -4.14001369e-04,\n",
              "         -6.66135680e-04,  7.97853408e-05,  1.21089567e-04,\n",
              "          2.10795984e-04,  1.06756090e-03,  2.84167887e-04,\n",
              "          3.22995404e-05, -2.57684971e-05, -3.57297424e-05,\n",
              "         -1.49415072e-04,  4.24212943e-05],\n",
              "        [-2.28272756e-03, -6.23595292e-04, -4.54525964e-04,\n",
              "         -4.26008377e-04, -8.64233175e-04, -1.37356465e-03,\n",
              "         -3.45262496e-04, -8.45689815e-04, -4.06685921e-03,\n",
              "         -3.37589734e-03,  3.52951228e-05, -8.03154324e-04,\n",
              "         -2.81008858e-04,  2.84167887e-04,  1.67878148e-02,\n",
              "         -1.03187537e-03, -8.68270153e-04, -3.35595955e-04,\n",
              "          6.68852218e-04,  2.03138506e-04],\n",
              "        [-5.76832309e-04,  6.64769807e-04,  1.05570146e-04,\n",
              "          9.94277495e-05, -1.65449771e-04,  3.75067914e-04,\n",
              "          7.17982543e-06, -2.27279386e-04, -1.25113664e-03,\n",
              "         -1.03314986e-03,  9.85697422e-06,  1.41377045e-04,\n",
              "         -3.03903904e-05,  3.22995404e-05, -1.03187537e-03,\n",
              "          2.86267440e-03,  3.70354307e-04,  6.08220262e-06,\n",
              "         -3.98251412e-04,  4.07052365e-05],\n",
              "        [-2.46353396e-04,  7.42470152e-04,  8.38669172e-05,\n",
              "          1.40188550e-04, -2.13838960e-04,  1.76702310e-04,\n",
              "         -1.68510970e-04, -2.57128666e-04, -1.02567745e-03,\n",
              "         -8.85625449e-04,  3.12995886e-05,  1.85226189e-04,\n",
              "          4.51434039e-05, -2.57684971e-05, -8.68270153e-04,\n",
              "          3.70354307e-04,  2.20840539e-03, -6.49959867e-05,\n",
              "         -3.51437008e-04,  1.24949724e-04],\n",
              "        [-3.81217062e-04,  1.48005499e-04, -3.14986423e-05,\n",
              "         -3.05983637e-05, -2.21562919e-04, -3.01870409e-05,\n",
              "         -1.34714007e-04,  1.42074153e-04, -6.47252167e-04,\n",
              "         -1.05875242e-03,  2.91345624e-05,  6.62481867e-05,\n",
              "         -2.53909918e-04, -3.57297424e-05, -3.35595955e-04,\n",
              "          6.08220262e-06, -6.49959867e-05,  3.27900275e-03,\n",
              "         -4.03605591e-04, -3.99275371e-05],\n",
              "        [-4.85742154e-04, -1.08821547e-03, -1.13231070e-04,\n",
              "         -1.30112006e-04, -2.14746609e-04, -6.61986206e-04,\n",
              "         -2.74639075e-04, -2.92644487e-04,  2.92791393e-04,\n",
              "         -3.74606510e-04, -3.44059078e-05, -2.19283956e-04,\n",
              "         -6.19274078e-05, -1.49415072e-04,  6.68852218e-04,\n",
              "         -3.98251412e-04, -3.51437008e-04, -4.03605591e-04,\n",
              "          4.31858846e-03, -2.49821280e-05],\n",
              "        [-3.30944364e-04,  5.65708226e-04,  5.23138048e-05,\n",
              "          9.49812529e-05, -1.63605535e-04,  1.30792067e-04,\n",
              "          4.33796444e-07, -2.68047791e-04, -8.49142909e-04,\n",
              "         -7.10394109e-04, -1.39724303e-05,  8.26824036e-05,\n",
              "          6.67263009e-05,  4.24212943e-05,  2.03138506e-04,\n",
              "          4.07052365e-05,  1.24949724e-04, -3.99275371e-05,\n",
              "         -2.49821280e-05,  9.97164192e-04]]])"
            ]
          },
          "metadata": {},
          "execution_count": 27
        }
      ],
      "source": [
        "gm.covariances_"
      ]
    },
    {
      "cell_type": "code",
      "execution_count": 28,
      "metadata": {
        "id": "e-M8inP07nDV",
        "colab": {
          "base_uri": "https://localhost:8080/"
        },
        "outputId": "dc8b483b-aea3-433d-c53a-d971c045df13"
      },
      "outputs": [
        {
          "output_type": "execute_result",
          "data": {
            "text/plain": [
              "True"
            ]
          },
          "metadata": {},
          "execution_count": 28
        }
      ],
      "source": [
        "gm.converged_"
      ]
    },
    {
      "cell_type": "code",
      "execution_count": 29,
      "metadata": {
        "id": "YbbpKLxF8PFU",
        "colab": {
          "base_uri": "https://localhost:8080/"
        },
        "outputId": "32d18bdd-2bd8-41ac-dc31-a2f661d97cbe"
      },
      "outputs": [
        {
          "output_type": "execute_result",
          "data": {
            "text/plain": [
              "27"
            ]
          },
          "metadata": {},
          "execution_count": 29
        }
      ],
      "source": [
        "gm.n_iter_"
      ]
    },
    {
      "cell_type": "code",
      "execution_count": 30,
      "metadata": {
        "id": "v2DZVNiw8wnT",
        "colab": {
          "base_uri": "https://localhost:8080/",
          "height": 489
        },
        "outputId": "f25da35e-1af3-4d97-cbd4-5a1453367e89"
      },
      "outputs": [
        {
          "output_type": "stream",
          "name": "stdout",
          "text": [
            "Silhouette Score: 0.07262867206801273\n"
          ]
        },
        {
          "output_type": "display_data",
          "data": {
            "text/plain": [
              "<Figure size 640x480 with 2 Axes>"
            ],
            "image/png": "[encoded data removed]"
          },
          "metadata": {}
        }
      ],
      "source": [
        "predicted_labels = gm.predict(X)\n",
        "\n",
        "# Calculate the Silhouette Score\n",
        "silhouette_avg = silhouette_score(X, predicted_labels)\n",
        "print(f\"Silhouette Score: {silhouette_avg}\")\n",
        "\n",
        "# Visualize the clustering results\n",
        "pca = PCA(n_components=2)\n",
        "X_pca = pca.fit_transform(X)\n",
        "\n",
        "plt.scatter(X_pca[:, 0], X_pca[:, 1], c=predicted_labels, cmap='viridis')\n",
        "plt.title(\"GMM Clustering Results\")\n",
        "plt.xlabel(\"Principal Component 1\")\n",
        "plt.ylabel(\"Principal Component 2\")\n",
        "plt.colorbar()\n",
        "plt.show()"
      ]
    },
    {
      "cell_type": "code",
      "source": [],
      "metadata": {
        "id": "b2TdWe1A2sGB"
      },
      "execution_count": 30,
      "outputs": []
    }
  ],
  "metadata": {
    "colab": {
      "provenance": []
    },
    "kernelspec": {
      "display_name": "Python 3",
      "name": "python3"
    },
    "language_info": {
      "name": "python"
    }
  },
  "nbformat": 4,
  "nbformat_minor": 0
}