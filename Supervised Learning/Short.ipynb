{
  "cells": [
    {
      "cell_type": "markdown",
      "metadata": {
        "id": "nrwYJ09LzDFP"
      },
      "source": [
        "\n",
        "\n",
        "# Setting up the data of AAC descriptor extracted using iLearnPlus"
      ]
    },
    {
      "cell_type": "code",
      "execution_count": 36,
      "metadata": {
        "colab": {
          "base_uri": "https://localhost:8080/",
          "height": 300
        },
        "id": "JLuN5ulxc3rR",
        "outputId": "770d658a-5534-4cda-c146-e1db923a3ccf"
      },
      "outputs": [
        {
          "output_type": "execute_result",
          "data": {
            "text/plain": [
              "   0         1         2      3      4         5         6    7         8   \\\n",
              "0   0  0.142857  0.000000  0.000  0.000  0.142857  0.142857  0.0  0.000000   \n",
              "1   0  0.285714  0.285714  0.000  0.000  0.000000  0.142857  0.0  0.000000   \n",
              "2   0  0.000000  0.000000  0.125  0.125  0.125000  0.000000  0.0  0.000000   \n",
              "3   0  0.000000  0.000000  0.000  0.000  0.111111  0.000000  0.0  0.000000   \n",
              "4   0  0.142857  0.000000  0.000  0.000  0.000000  0.142857  0.0  0.142857   \n",
              "\n",
              "         9   ...   11     12        13        14        15   16        17  \\\n",
              "0  0.142857  ...  0.0  0.000  0.142857  0.000000  0.000000  0.0  0.000000   \n",
              "1  0.000000  ...  0.0  0.000  0.000000  0.000000  0.000000  0.0  0.000000   \n",
              "2  0.000000  ...  0.0  0.125  0.000000  0.125000  0.000000  0.0  0.125000   \n",
              "3  0.000000  ...  0.0  0.000  0.111111  0.111111  0.111111  0.0  0.111111   \n",
              "4  0.142857  ...  0.0  0.000  0.000000  0.000000  0.142857  0.0  0.000000   \n",
              "\n",
              "         18        19        20  \n",
              "0  0.000000  0.000000  0.285714  \n",
              "1  0.000000  0.000000  0.142857  \n",
              "2  0.125000  0.000000  0.000000  \n",
              "3  0.222222  0.111111  0.111111  \n",
              "4  0.000000  0.142857  0.000000  \n",
              "\n",
              "[5 rows x 21 columns]"
            ],
            "text/html": [
              "\n",
              "\n",
              "  <div id=\"df-ca3d2f50-1e17-42fc-944d-afbd2cf42402\">\n",
              "    <div class=\"colab-df-container\">\n",
              "      <div>\n",
              "<style scoped>\n",
              "    .dataframe tbody tr th:only-of-type {\n",
              "        vertical-align: middle;\n",
              "    }\n",
              "\n",
              "    .dataframe tbody tr th {\n",
              "        vertical-align: top;\n",
              "    }\n",
              "\n",
              "    .dataframe thead th {\n",
              "        text-align: right;\n",
              "    }\n",
              "</style>\n",
              "<table border=\"1\" class=\"dataframe\">\n",
              "  <thead>\n",
              "    <tr style=\"text-align: right;\">\n",
              "      <th></th>\n",
              "      <th>0</th>\n",
              "      <th>1</th>\n",
              "      <th>2</th>\n",
              "      <th>3</th>\n",
              "      <th>4</th>\n",
              "      <th>5</th>\n",
              "      <th>6</th>\n",
              "      <th>7</th>\n",
              "      <th>8</th>\n",
              "      <th>9</th>\n",
              "      <th>...</th>\n",
              "      <th>11</th>\n",
              "      <th>12</th>\n",
              "      <th>13</th>\n",
              "      <th>14</th>\n",
              "      <th>15</th>\n",
              "      <th>16</th>\n",
              "      <th>17</th>\n",
              "      <th>18</th>\n",
              "      <th>19</th>\n",
              "      <th>20</th>\n",
              "    </tr>\n",
              "  </thead>\n",
              "  <tbody>\n",
              "    <tr>\n",
              "      <th>0</th>\n",
              "      <td>0</td>\n",
              "      <td>0.142857</td>\n",
              "      <td>0.000000</td>\n",
              "      <td>0.000</td>\n",
              "      <td>0.000</td>\n",
              "      <td>0.142857</td>\n",
              "      <td>0.142857</td>\n",
              "      <td>0.0</td>\n",
              "      <td>0.000000</td>\n",
              "      <td>0.142857</td>\n",
              "      <td>...</td>\n",
              "      <td>0.0</td>\n",
              "      <td>0.000</td>\n",
              "      <td>0.142857</td>\n",
              "      <td>0.000000</td>\n",
              "      <td>0.000000</td>\n",
              "      <td>0.0</td>\n",
              "      <td>0.000000</td>\n",
              "      <td>0.000000</td>\n",
              "      <td>0.000000</td>\n",
              "      <td>0.285714</td>\n",
              "    </tr>\n",
              "    <tr>\n",
              "      <th>1</th>\n",
              "      <td>0</td>\n",
              "      <td>0.285714</td>\n",
              "      <td>0.285714</td>\n",
              "      <td>0.000</td>\n",
              "      <td>0.000</td>\n",
              "      <td>0.000000</td>\n",
              "      <td>0.142857</td>\n",
              "      <td>0.0</td>\n",
              "      <td>0.000000</td>\n",
              "      <td>0.000000</td>\n",
              "      <td>...</td>\n",
              "      <td>0.0</td>\n",
              "      <td>0.000</td>\n",
              "      <td>0.000000</td>\n",
              "      <td>0.000000</td>\n",
              "      <td>0.000000</td>\n",
              "      <td>0.0</td>\n",
              "      <td>0.000000</td>\n",
              "      <td>0.000000</td>\n",
              "      <td>0.000000</td>\n",
              "      <td>0.142857</td>\n",
              "    </tr>\n",
              "    <tr>\n",
              "      <th>2</th>\n",
              "      <td>0</td>\n",
              "      <td>0.000000</td>\n",
              "      <td>0.000000</td>\n",
              "      <td>0.125</td>\n",
              "      <td>0.125</td>\n",
              "      <td>0.125000</td>\n",
              "      <td>0.000000</td>\n",
              "      <td>0.0</td>\n",
              "      <td>0.000000</td>\n",
              "      <td>0.000000</td>\n",
              "      <td>...</td>\n",
              "      <td>0.0</td>\n",
              "      <td>0.125</td>\n",
              "      <td>0.000000</td>\n",
              "      <td>0.125000</td>\n",
              "      <td>0.000000</td>\n",
              "      <td>0.0</td>\n",
              "      <td>0.125000</td>\n",
              "      <td>0.125000</td>\n",
              "      <td>0.000000</td>\n",
              "      <td>0.000000</td>\n",
              "    </tr>\n",
              "    <tr>\n",
              "      <th>3</th>\n",
              "      <td>0</td>\n",
              "      <td>0.000000</td>\n",
              "      <td>0.000000</td>\n",
              "      <td>0.000</td>\n",
              "      <td>0.000</td>\n",
              "      <td>0.111111</td>\n",
              "      <td>0.000000</td>\n",
              "      <td>0.0</td>\n",
              "      <td>0.000000</td>\n",
              "      <td>0.000000</td>\n",
              "      <td>...</td>\n",
              "      <td>0.0</td>\n",
              "      <td>0.000</td>\n",
              "      <td>0.111111</td>\n",
              "      <td>0.111111</td>\n",
              "      <td>0.111111</td>\n",
              "      <td>0.0</td>\n",
              "      <td>0.111111</td>\n",
              "      <td>0.222222</td>\n",
              "      <td>0.111111</td>\n",
              "      <td>0.111111</td>\n",
              "    </tr>\n",
              "    <tr>\n",
              "      <th>4</th>\n",
              "      <td>0</td>\n",
              "      <td>0.142857</td>\n",
              "      <td>0.000000</td>\n",
              "      <td>0.000</td>\n",
              "      <td>0.000</td>\n",
              "      <td>0.000000</td>\n",
              "      <td>0.142857</td>\n",
              "      <td>0.0</td>\n",
              "      <td>0.142857</td>\n",
              "      <td>0.142857</td>\n",
              "      <td>...</td>\n",
              "      <td>0.0</td>\n",
              "      <td>0.000</td>\n",
              "      <td>0.000000</td>\n",
              "      <td>0.000000</td>\n",
              "      <td>0.142857</td>\n",
              "      <td>0.0</td>\n",
              "      <td>0.000000</td>\n",
              "      <td>0.000000</td>\n",
              "      <td>0.142857</td>\n",
              "      <td>0.000000</td>\n",
              "    </tr>\n",
              "  </tbody>\n",
              "</table>\n",
              "<p>5 rows × 21 columns</p>\n",
              "</div>\n",
              "      <button class=\"colab-df-convert\" onclick=\"convertToInteractive('df-ca3d2f50-1e17-42fc-944d-afbd2cf42402')\"\n",
              "              title=\"Convert this dataframe to an interactive table.\"\n",
              "              style=\"display:none;\">\n",
              "\n",
              "  <svg xmlns=\"http://www.w3.org/2000/svg\" height=\"24px\"viewBox=\"0 0 24 24\"\n",
              "       width=\"24px\">\n",
              "    <path d=\"M0 0h24v24H0V0z\" fill=\"none\"/>\n",
              "    <path d=\"M18.56 5.44l.94 2.06.94-2.06 2.06-.94-2.06-.94-.94-2.06-.94 2.06-2.06.94zm-11 1L8.5 8.5l.94-2.06 2.06-.94-2.06-.94L8.5 2.5l-.94 2.06-2.06.94zm10 10l.94 2.06.94-2.06 2.06-.94-2.06-.94-.94-2.06-.94 2.06-2.06.94z\"/><path d=\"M17.41 7.96l-1.37-1.37c-.4-.4-.92-.59-1.43-.59-.52 0-1.04.2-1.43.59L10.3 9.45l-7.72 7.72c-.78.78-.78 2.05 0 2.83L4 21.41c.39.39.9.59 1.41.59.51 0 1.02-.2 1.41-.59l7.78-7.78 2.81-2.81c.8-.78.8-2.07 0-2.86zM5.41 20L4 18.59l7.72-7.72 1.47 1.35L5.41 20z\"/>\n",
              "  </svg>\n",
              "      </button>\n",
              "\n",
              "\n",
              "\n",
              "    <div id=\"df-8b44a6be-ffc6-42ff-836e-f03dd9b90816\">\n",
              "      <button class=\"colab-df-quickchart\" onclick=\"quickchart('df-8b44a6be-ffc6-42ff-836e-f03dd9b90816')\"\n",
              "              title=\"Suggest charts.\"\n",
              "              style=\"display:none;\">\n",
              "\n",
              "<svg xmlns=\"http://www.w3.org/2000/svg\" height=\"24px\"viewBox=\"0 0 24 24\"\n",
              "     width=\"24px\">\n",
              "    <g>\n",
              "        <path d=\"M19 3H5c-1.1 0-2 .9-2 2v14c0 1.1.9 2 2 2h14c1.1 0 2-.9 2-2V5c0-1.1-.9-2-2-2zM9 17H7v-7h2v7zm4 0h-2V7h2v10zm4 0h-2v-4h2v4z\"/>\n",
              "    </g>\n",
              "</svg>\n",
              "      </button>\n",
              "    </div>\n",
              "\n",
              "<style>\n",
              "  .colab-df-quickchart {\n",
              "    background-color: #E8F0FE;\n",
              "    border: none;\n",
              "    border-radius: 50%;\n",
              "    cursor: pointer;\n",
              "    display: none;\n",
              "    fill: #1967D2;\n",
              "    height: 32px;\n",
              "    padding: 0 0 0 0;\n",
              "    width: 32px;\n",
              "  }\n",
              "\n",
              "  .colab-df-quickchart:hover {\n",
              "    background-color: #E2EBFA;\n",
              "    box-shadow: 0px 1px 2px rgba(60, 64, 67, 0.3), 0px 1px 3px 1px rgba(60, 64, 67, 0.15);\n",
              "    fill: #174EA6;\n",
              "  }\n",
              "\n",
              "  [theme=dark] .colab-df-quickchart {\n",
              "    background-color: #3B4455;\n",
              "    fill: #D2E3FC;\n",
              "  }\n",
              "\n",
              "  [theme=dark] .colab-df-quickchart:hover {\n",
              "    background-color: #434B5C;\n",
              "    box-shadow: 0px 1px 3px 1px rgba(0, 0, 0, 0.15);\n",
              "    filter: drop-shadow(0px 1px 2px rgba(0, 0, 0, 0.3));\n",
              "    fill: #FFFFFF;\n",
              "  }\n",
              "</style>\n",
              "\n",
              "    <script>\n",
              "      async function quickchart(key) {\n",
              "        const containerElement = document.querySelector('#' + key);\n",
              "        const charts = await google.colab.kernel.invokeFunction(\n",
              "            'suggestCharts', [key], {});\n",
              "      }\n",
              "    </script>\n",
              "\n",
              "      <script>\n",
              "\n",
              "function displayQuickchartButton(domScope) {\n",
              "  let quickchartButtonEl =\n",
              "    domScope.querySelector('#df-8b44a6be-ffc6-42ff-836e-f03dd9b90816 button.colab-df-quickchart');\n",
              "  quickchartButtonEl.style.display =\n",
              "    google.colab.kernel.accessAllowed ? 'block' : 'none';\n",
              "}\n",
              "\n",
              "        displayQuickchartButton(document);\n",
              "      </script>\n",
              "      <style>\n",
              "    .colab-df-container {\n",
              "      display:flex;\n",
              "      flex-wrap:wrap;\n",
              "      gap: 12px;\n",
              "    }\n",
              "\n",
              "    .colab-df-convert {\n",
              "      background-color: #E8F0FE;\n",
              "      border: none;\n",
              "      border-radius: 50%;\n",
              "      cursor: pointer;\n",
              "      display: none;\n",
              "      fill: #1967D2;\n",
              "      height: 32px;\n",
              "      padding: 0 0 0 0;\n",
              "      width: 32px;\n",
              "    }\n",
              "\n",
              "    .colab-df-convert:hover {\n",
              "      background-color: #E2EBFA;\n",
              "      box-shadow: 0px 1px 2px rgba(60, 64, 67, 0.3), 0px 1px 3px 1px rgba(60, 64, 67, 0.15);\n",
              "      fill: #174EA6;\n",
              "    }\n",
              "\n",
              "    [theme=dark] .colab-df-convert {\n",
              "      background-color: #3B4455;\n",
              "      fill: #D2E3FC;\n",
              "    }\n",
              "\n",
              "    [theme=dark] .colab-df-convert:hover {\n",
              "      background-color: #434B5C;\n",
              "      box-shadow: 0px 1px 3px 1px rgba(0, 0, 0, 0.15);\n",
              "      filter: drop-shadow(0px 1px 2px rgba(0, 0, 0, 0.3));\n",
              "      fill: #FFFFFF;\n",
              "    }\n",
              "  </style>\n",
              "\n",
              "      <script>\n",
              "        const buttonEl =\n",
              "          document.querySelector('#df-ca3d2f50-1e17-42fc-944d-afbd2cf42402 button.colab-df-convert');\n",
              "        buttonEl.style.display =\n",
              "          google.colab.kernel.accessAllowed ? 'block' : 'none';\n",
              "\n",
              "        async function convertToInteractive(key) {\n",
              "          const element = document.querySelector('#df-ca3d2f50-1e17-42fc-944d-afbd2cf42402');\n",
              "          const dataTable =\n",
              "            await google.colab.kernel.invokeFunction('convertToInteractive',\n",
              "                                                     [key], {});\n",
              "          if (!dataTable) return;\n",
              "\n",
              "          const docLinkHtml = 'Like what you see? Visit the ' +\n",
              "            '<a target=\"_blank\" href=https://colab.research.google.com/notebooks/data_table.ipynb>data table notebook</a>'\n",
              "            + ' to learn more about interactive tables.';\n",
              "          element.innerHTML = '';\n",
              "          dataTable['output_type'] = 'display_data';\n",
              "          await google.colab.output.renderOutput(dataTable, element);\n",
              "          const docLink = document.createElement('div');\n",
              "          docLink.innerHTML = docLinkHtml;\n",
              "          element.appendChild(docLink);\n",
              "        }\n",
              "      </script>\n",
              "    </div>\n",
              "  </div>\n"
            ]
          },
          "metadata": {},
          "execution_count": 36
        }
      ],
      "source": [
        "import pandas as pd\n",
        "pos=pd.read_csv(\"/content/ShortPosAAC.csv\",header=None)\n",
        "neg=pd.read_csv(\"/content/ShortNegAAC.csv\",header=None)\n",
        "pos.head()"
      ]
    },
    {
      "cell_type": "code",
      "execution_count": 37,
      "metadata": {
        "colab": {
          "base_uri": "https://localhost:8080/"
        },
        "id": "ydDT_gHZgrA3",
        "outputId": "1ed35149-4363-459f-f041-edea4dd58fa4"
      },
      "outputs": [
        {
          "output_type": "stream",
          "name": "stdout",
          "text": [
            "(5695, 21)\n",
            "(2737, 21)\n"
          ]
        }
      ],
      "source": [
        "print(pos.shape)\n",
        "print(neg.shape)\n",
        "\n"
      ]
    },
    {
      "cell_type": "code",
      "execution_count": 38,
      "metadata": {
        "id": "wwLDan1_iyWI",
        "colab": {
          "base_uri": "https://localhost:8080/",
          "height": 300
        },
        "outputId": "782637f7-9ce4-456b-bf96-942ce60778b0"
      },
      "outputs": [
        {
          "output_type": "execute_result",
          "data": {
            "text/plain": [
              "   0         1         2      3      4         5         6    7         8   \\\n",
              "0   0  0.142857  0.000000  0.000  0.000  0.142857  0.142857  0.0  0.000000   \n",
              "1   0  0.285714  0.285714  0.000  0.000  0.000000  0.142857  0.0  0.000000   \n",
              "2   0  0.000000  0.000000  0.125  0.125  0.125000  0.000000  0.0  0.000000   \n",
              "3   0  0.000000  0.000000  0.000  0.000  0.111111  0.000000  0.0  0.000000   \n",
              "4   0  0.142857  0.000000  0.000  0.000  0.000000  0.142857  0.0  0.142857   \n",
              "\n",
              "         9   ...   11     12        13        14        15   16        17  \\\n",
              "0  0.142857  ...  0.0  0.000  0.142857  0.000000  0.000000  0.0  0.000000   \n",
              "1  0.000000  ...  0.0  0.000  0.000000  0.000000  0.000000  0.0  0.000000   \n",
              "2  0.000000  ...  0.0  0.125  0.000000  0.125000  0.000000  0.0  0.125000   \n",
              "3  0.000000  ...  0.0  0.000  0.111111  0.111111  0.111111  0.0  0.111111   \n",
              "4  0.142857  ...  0.0  0.000  0.000000  0.000000  0.142857  0.0  0.000000   \n",
              "\n",
              "         18        19        20  \n",
              "0  0.000000  0.000000  0.285714  \n",
              "1  0.000000  0.000000  0.142857  \n",
              "2  0.125000  0.000000  0.000000  \n",
              "3  0.222222  0.111111  0.111111  \n",
              "4  0.000000  0.142857  0.000000  \n",
              "\n",
              "[5 rows x 21 columns]"
            ],
            "text/html": [
              "\n",
              "\n",
              "  <div id=\"df-b2e997c5-7d15-4d03-98fa-1805190f7a05\">\n",
              "    <div class=\"colab-df-container\">\n",
              "      <div>\n",
              "<style scoped>\n",
              "    .dataframe tbody tr th:only-of-type {\n",
              "        vertical-align: middle;\n",
              "    }\n",
              "\n",
              "    .dataframe tbody tr th {\n",
              "        vertical-align: top;\n",
              "    }\n",
              "\n",
              "    .dataframe thead th {\n",
              "        text-align: right;\n",
              "    }\n",
              "</style>\n",
              "<table border=\"1\" class=\"dataframe\">\n",
              "  <thead>\n",
              "    <tr style=\"text-align: right;\">\n",
              "      <th></th>\n",
              "      <th>0</th>\n",
              "      <th>1</th>\n",
              "      <th>2</th>\n",
              "      <th>3</th>\n",
              "      <th>4</th>\n",
              "      <th>5</th>\n",
              "      <th>6</th>\n",
              "      <th>7</th>\n",
              "      <th>8</th>\n",
              "      <th>9</th>\n",
              "      <th>...</th>\n",
              "      <th>11</th>\n",
              "      <th>12</th>\n",
              "      <th>13</th>\n",
              "      <th>14</th>\n",
              "      <th>15</th>\n",
              "      <th>16</th>\n",
              "      <th>17</th>\n",
              "      <th>18</th>\n",
              "      <th>19</th>\n",
              "      <th>20</th>\n",
              "    </tr>\n",
              "  </thead>\n",
              "  <tbody>\n",
              "    <tr>\n",
              "      <th>0</th>\n",
              "      <td>0</td>\n",
              "      <td>0.142857</td>\n",
              "      <td>0.000000</td>\n",
              "      <td>0.000</td>\n",
              "      <td>0.000</td>\n",
              "      <td>0.142857</td>\n",
              "      <td>0.142857</td>\n",
              "      <td>0.0</td>\n",
              "      <td>0.000000</td>\n",
              "      <td>0.142857</td>\n",
              "      <td>...</td>\n",
              "      <td>0.0</td>\n",
              "      <td>0.000</td>\n",
              "      <td>0.142857</td>\n",
              "      <td>0.000000</td>\n",
              "      <td>0.000000</td>\n",
              "      <td>0.0</td>\n",
              "      <td>0.000000</td>\n",
              "      <td>0.000000</td>\n",
              "      <td>0.000000</td>\n",
              "      <td>0.285714</td>\n",
              "    </tr>\n",
              "    <tr>\n",
              "      <th>1</th>\n",
              "      <td>0</td>\n",
              "      <td>0.285714</td>\n",
              "      <td>0.285714</td>\n",
              "      <td>0.000</td>\n",
              "      <td>0.000</td>\n",
              "      <td>0.000000</td>\n",
              "      <td>0.142857</td>\n",
              "      <td>0.0</td>\n",
              "      <td>0.000000</td>\n",
              "      <td>0.000000</td>\n",
              "      <td>...</td>\n",
              "      <td>0.0</td>\n",
              "      <td>0.000</td>\n",
              "      <td>0.000000</td>\n",
              "      <td>0.000000</td>\n",
              "      <td>0.000000</td>\n",
              "      <td>0.0</td>\n",
              "      <td>0.000000</td>\n",
              "      <td>0.000000</td>\n",
              "      <td>0.000000</td>\n",
              "      <td>0.142857</td>\n",
              "    </tr>\n",
              "    <tr>\n",
              "      <th>2</th>\n",
              "      <td>0</td>\n",
              "      <td>0.000000</td>\n",
              "      <td>0.000000</td>\n",
              "      <td>0.125</td>\n",
              "      <td>0.125</td>\n",
              "      <td>0.125000</td>\n",
              "      <td>0.000000</td>\n",
              "      <td>0.0</td>\n",
              "      <td>0.000000</td>\n",
              "      <td>0.000000</td>\n",
              "      <td>...</td>\n",
              "      <td>0.0</td>\n",
              "      <td>0.125</td>\n",
              "      <td>0.000000</td>\n",
              "      <td>0.125000</td>\n",
              "      <td>0.000000</td>\n",
              "      <td>0.0</td>\n",
              "      <td>0.125000</td>\n",
              "      <td>0.125000</td>\n",
              "      <td>0.000000</td>\n",
              "      <td>0.000000</td>\n",
              "    </tr>\n",
              "    <tr>\n",
              "      <th>3</th>\n",
              "      <td>0</td>\n",
              "      <td>0.000000</td>\n",
              "      <td>0.000000</td>\n",
              "      <td>0.000</td>\n",
              "      <td>0.000</td>\n",
              "      <td>0.111111</td>\n",
              "      <td>0.000000</td>\n",
              "      <td>0.0</td>\n",
              "      <td>0.000000</td>\n",
              "      <td>0.000000</td>\n",
              "      <td>...</td>\n",
              "      <td>0.0</td>\n",
              "      <td>0.000</td>\n",
              "      <td>0.111111</td>\n",
              "      <td>0.111111</td>\n",
              "      <td>0.111111</td>\n",
              "      <td>0.0</td>\n",
              "      <td>0.111111</td>\n",
              "      <td>0.222222</td>\n",
              "      <td>0.111111</td>\n",
              "      <td>0.111111</td>\n",
              "    </tr>\n",
              "    <tr>\n",
              "      <th>4</th>\n",
              "      <td>0</td>\n",
              "      <td>0.142857</td>\n",
              "      <td>0.000000</td>\n",
              "      <td>0.000</td>\n",
              "      <td>0.000</td>\n",
              "      <td>0.000000</td>\n",
              "      <td>0.142857</td>\n",
              "      <td>0.0</td>\n",
              "      <td>0.142857</td>\n",
              "      <td>0.142857</td>\n",
              "      <td>...</td>\n",
              "      <td>0.0</td>\n",
              "      <td>0.000</td>\n",
              "      <td>0.000000</td>\n",
              "      <td>0.000000</td>\n",
              "      <td>0.142857</td>\n",
              "      <td>0.0</td>\n",
              "      <td>0.000000</td>\n",
              "      <td>0.000000</td>\n",
              "      <td>0.142857</td>\n",
              "      <td>0.000000</td>\n",
              "    </tr>\n",
              "  </tbody>\n",
              "</table>\n",
              "<p>5 rows × 21 columns</p>\n",
              "</div>\n",
              "      <button class=\"colab-df-convert\" onclick=\"convertToInteractive('df-b2e997c5-7d15-4d03-98fa-1805190f7a05')\"\n",
              "              title=\"Convert this dataframe to an interactive table.\"\n",
              "              style=\"display:none;\">\n",
              "\n",
              "  <svg xmlns=\"http://www.w3.org/2000/svg\" height=\"24px\"viewBox=\"0 0 24 24\"\n",
              "       width=\"24px\">\n",
              "    <path d=\"M0 0h24v24H0V0z\" fill=\"none\"/>\n",
              "    <path d=\"M18.56 5.44l.94 2.06.94-2.06 2.06-.94-2.06-.94-.94-2.06-.94 2.06-2.06.94zm-11 1L8.5 8.5l.94-2.06 2.06-.94-2.06-.94L8.5 2.5l-.94 2.06-2.06.94zm10 10l.94 2.06.94-2.06 2.06-.94-2.06-.94-.94-2.06-.94 2.06-2.06.94z\"/><path d=\"M17.41 7.96l-1.37-1.37c-.4-.4-.92-.59-1.43-.59-.52 0-1.04.2-1.43.59L10.3 9.45l-7.72 7.72c-.78.78-.78 2.05 0 2.83L4 21.41c.39.39.9.59 1.41.59.51 0 1.02-.2 1.41-.59l7.78-7.78 2.81-2.81c.8-.78.8-2.07 0-2.86zM5.41 20L4 18.59l7.72-7.72 1.47 1.35L5.41 20z\"/>\n",
              "  </svg>\n",
              "      </button>\n",
              "\n",
              "\n",
              "\n",
              "    <div id=\"df-bd660c8b-aa63-499e-b98f-e7abbee47d36\">\n",
              "      <button class=\"colab-df-quickchart\" onclick=\"quickchart('df-bd660c8b-aa63-499e-b98f-e7abbee47d36')\"\n",
              "              title=\"Suggest charts.\"\n",
              "              style=\"display:none;\">\n",
              "\n",
              "<svg xmlns=\"http://www.w3.org/2000/svg\" height=\"24px\"viewBox=\"0 0 24 24\"\n",
              "     width=\"24px\">\n",
              "    <g>\n",
              "        <path d=\"M19 3H5c-1.1 0-2 .9-2 2v14c0 1.1.9 2 2 2h14c1.1 0 2-.9 2-2V5c0-1.1-.9-2-2-2zM9 17H7v-7h2v7zm4 0h-2V7h2v10zm4 0h-2v-4h2v4z\"/>\n",
              "    </g>\n",
              "</svg>\n",
              "      </button>\n",
              "    </div>\n",
              "\n",
              "<style>\n",
              "  .colab-df-quickchart {\n",
              "    background-color: #E8F0FE;\n",
              "    border: none;\n",
              "    border-radius: 50%;\n",
              "    cursor: pointer;\n",
              "    display: none;\n",
              "    fill: #1967D2;\n",
              "    height: 32px;\n",
              "    padding: 0 0 0 0;\n",
              "    width: 32px;\n",
              "  }\n",
              "\n",
              "  .colab-df-quickchart:hover {\n",
              "    background-color: #E2EBFA;\n",
              "    box-shadow: 0px 1px 2px rgba(60, 64, 67, 0.3), 0px 1px 3px 1px rgba(60, 64, 67, 0.15);\n",
              "    fill: #174EA6;\n",
              "  }\n",
              "\n",
              "  [theme=dark] .colab-df-quickchart {\n",
              "    background-color: #3B4455;\n",
              "    fill: #D2E3FC;\n",
              "  }\n",
              "\n",
              "  [theme=dark] .colab-df-quickchart:hover {\n",
              "    background-color: #434B5C;\n",
              "    box-shadow: 0px 1px 3px 1px rgba(0, 0, 0, 0.15);\n",
              "    filter: drop-shadow(0px 1px 2px rgba(0, 0, 0, 0.3));\n",
              "    fill: #FFFFFF;\n",
              "  }\n",
              "</style>\n",
              "\n",
              "    <script>\n",
              "      async function quickchart(key) {\n",
              "        const containerElement = document.querySelector('#' + key);\n",
              "        const charts = await google.colab.kernel.invokeFunction(\n",
              "            'suggestCharts', [key], {});\n",
              "      }\n",
              "    </script>\n",
              "\n",
              "      <script>\n",
              "\n",
              "function displayQuickchartButton(domScope) {\n",
              "  let quickchartButtonEl =\n",
              "    domScope.querySelector('#df-bd660c8b-aa63-499e-b98f-e7abbee47d36 button.colab-df-quickchart');\n",
              "  quickchartButtonEl.style.display =\n",
              "    google.colab.kernel.accessAllowed ? 'block' : 'none';\n",
              "}\n",
              "\n",
              "        displayQuickchartButton(document);\n",
              "      </script>\n",
              "      <style>\n",
              "    .colab-df-container {\n",
              "      display:flex;\n",
              "      flex-wrap:wrap;\n",
              "      gap: 12px;\n",
              "    }\n",
              "\n",
              "    .colab-df-convert {\n",
              "      background-color: #E8F0FE;\n",
              "      border: none;\n",
              "      border-radius: 50%;\n",
              "      cursor: pointer;\n",
              "      display: none;\n",
              "      fill: #1967D2;\n",
              "      height: 32px;\n",
              "      padding: 0 0 0 0;\n",
              "      width: 32px;\n",
              "    }\n",
              "\n",
              "    .colab-df-convert:hover {\n",
              "      background-color: #E2EBFA;\n",
              "      box-shadow: 0px 1px 2px rgba(60, 64, 67, 0.3), 0px 1px 3px 1px rgba(60, 64, 67, 0.15);\n",
              "      fill: #174EA6;\n",
              "    }\n",
              "\n",
              "    [theme=dark] .colab-df-convert {\n",
              "      background-color: #3B4455;\n",
              "      fill: #D2E3FC;\n",
              "    }\n",
              "\n",
              "    [theme=dark] .colab-df-convert:hover {\n",
              "      background-color: #434B5C;\n",
              "      box-shadow: 0px 1px 3px 1px rgba(0, 0, 0, 0.15);\n",
              "      filter: drop-shadow(0px 1px 2px rgba(0, 0, 0, 0.3));\n",
              "      fill: #FFFFFF;\n",
              "    }\n",
              "  </style>\n",
              "\n",
              "      <script>\n",
              "        const buttonEl =\n",
              "          document.querySelector('#df-b2e997c5-7d15-4d03-98fa-1805190f7a05 button.colab-df-convert');\n",
              "        buttonEl.style.display =\n",
              "          google.colab.kernel.accessAllowed ? 'block' : 'none';\n",
              "\n",
              "        async function convertToInteractive(key) {\n",
              "          const element = document.querySelector('#df-b2e997c5-7d15-4d03-98fa-1805190f7a05');\n",
              "          const dataTable =\n",
              "            await google.colab.kernel.invokeFunction('convertToInteractive',\n",
              "                                                     [key], {});\n",
              "          if (!dataTable) return;\n",
              "\n",
              "          const docLinkHtml = 'Like what you see? Visit the ' +\n",
              "            '<a target=\"_blank\" href=https://colab.research.google.com/notebooks/data_table.ipynb>data table notebook</a>'\n",
              "            + ' to learn more about interactive tables.';\n",
              "          element.innerHTML = '';\n",
              "          dataTable['output_type'] = 'display_data';\n",
              "          await google.colab.output.renderOutput(dataTable, element);\n",
              "          const docLink = document.createElement('div');\n",
              "          docLink.innerHTML = docLinkHtml;\n",
              "          element.appendChild(docLink);\n",
              "        }\n",
              "      </script>\n",
              "    </div>\n",
              "  </div>\n"
            ]
          },
          "metadata": {},
          "execution_count": 38
        }
      ],
      "source": [
        "#merging data of AAC descriptor\n",
        "df=pd.concat([pos.head(2737),neg])\n",
        "df.head()\n",
        "#print(df1.shape)\n",
        "#print(df1.shape)"
      ]
    },
    {
      "cell_type": "code",
      "source": [
        "df = df.drop(df.columns[(df == 0).all()], axis=1)\n"
      ],
      "metadata": {
        "id": "_8sUIuX_Hme_"
      },
      "execution_count": 39,
      "outputs": []
    },
    {
      "cell_type": "code",
      "source": [
        "df.shape"
      ],
      "metadata": {
        "colab": {
          "base_uri": "https://localhost:8080/"
        },
        "id": "CAhESDm3JuKh",
        "outputId": "6fc91143-4ab6-4c19-b984-e6c1c3c87a9e"
      },
      "execution_count": 40,
      "outputs": [
        {
          "output_type": "execute_result",
          "data": {
            "text/plain": [
              "(5474, 20)"
            ]
          },
          "metadata": {},
          "execution_count": 40
        }
      ]
    },
    {
      "cell_type": "markdown",
      "metadata": {
        "id": "SUhAOFrygt_A"
      },
      "source": [
        "# Applying Kmean on AAC component only"
      ]
    },
    {
      "cell_type": "code",
      "execution_count": 41,
      "metadata": {
        "id": "Gv4ZBxACgnh-"
      },
      "outputs": [],
      "source": [
        "shuffled_df = df.sample(frac=1).reset_index(drop=True)\n",
        "X=shuffled_df"
      ]
    },
    {
      "cell_type": "code",
      "execution_count": 42,
      "metadata": {
        "id": "sNjRzA9Ng2--"
      },
      "outputs": [],
      "source": [
        "import matplotlib.pyplot as plt"
      ]
    },
    {
      "cell_type": "code",
      "execution_count": 43,
      "metadata": {
        "colab": {
          "base_uri": "https://localhost:8080/",
          "height": 1000
        },
        "id": "R_xuOMNxvcJ7",
        "outputId": "fb803299-3723-4b02-d949-fe169a9743d0"
      },
      "outputs": [
        {
          "output_type": "stream",
          "name": "stderr",
          "text": [
            "/usr/local/lib/python3.10/dist-packages/sklearn/cluster/_kmeans.py:870: FutureWarning: The default value of `n_init` will change from 10 to 'auto' in 1.4. Set the value of `n_init` explicitly to suppress the warning\n",
            "  warnings.warn(\n",
            "/usr/local/lib/python3.10/dist-packages/sklearn/cluster/_kmeans.py:870: FutureWarning: The default value of `n_init` will change from 10 to 'auto' in 1.4. Set the value of `n_init` explicitly to suppress the warning\n",
            "  warnings.warn(\n",
            "/usr/local/lib/python3.10/dist-packages/sklearn/cluster/_kmeans.py:870: FutureWarning: The default value of `n_init` will change from 10 to 'auto' in 1.4. Set the value of `n_init` explicitly to suppress the warning\n",
            "  warnings.warn(\n",
            "/usr/local/lib/python3.10/dist-packages/sklearn/cluster/_kmeans.py:870: FutureWarning: The default value of `n_init` will change from 10 to 'auto' in 1.4. Set the value of `n_init` explicitly to suppress the warning\n",
            "  warnings.warn(\n",
            "/usr/local/lib/python3.10/dist-packages/sklearn/cluster/_kmeans.py:870: FutureWarning: The default value of `n_init` will change from 10 to 'auto' in 1.4. Set the value of `n_init` explicitly to suppress the warning\n",
            "  warnings.warn(\n",
            "/usr/local/lib/python3.10/dist-packages/sklearn/cluster/_kmeans.py:870: FutureWarning: The default value of `n_init` will change from 10 to 'auto' in 1.4. Set the value of `n_init` explicitly to suppress the warning\n",
            "  warnings.warn(\n",
            "/usr/local/lib/python3.10/dist-packages/sklearn/cluster/_kmeans.py:870: FutureWarning: The default value of `n_init` will change from 10 to 'auto' in 1.4. Set the value of `n_init` explicitly to suppress the warning\n",
            "  warnings.warn(\n",
            "/usr/local/lib/python3.10/dist-packages/sklearn/cluster/_kmeans.py:870: FutureWarning: The default value of `n_init` will change from 10 to 'auto' in 1.4. Set the value of `n_init` explicitly to suppress the warning\n",
            "  warnings.warn(\n",
            "/usr/local/lib/python3.10/dist-packages/sklearn/cluster/_kmeans.py:870: FutureWarning: The default value of `n_init` will change from 10 to 'auto' in 1.4. Set the value of `n_init` explicitly to suppress the warning\n",
            "  warnings.warn(\n",
            "/usr/local/lib/python3.10/dist-packages/sklearn/cluster/_kmeans.py:870: FutureWarning: The default value of `n_init` will change from 10 to 'auto' in 1.4. Set the value of `n_init` explicitly to suppress the warning\n",
            "  warnings.warn(\n",
            "/usr/local/lib/python3.10/dist-packages/sklearn/cluster/_kmeans.py:870: FutureWarning: The default value of `n_init` will change from 10 to 'auto' in 1.4. Set the value of `n_init` explicitly to suppress the warning\n",
            "  warnings.warn(\n",
            "/usr/local/lib/python3.10/dist-packages/sklearn/cluster/_kmeans.py:870: FutureWarning: The default value of `n_init` will change from 10 to 'auto' in 1.4. Set the value of `n_init` explicitly to suppress the warning\n",
            "  warnings.warn(\n",
            "/usr/local/lib/python3.10/dist-packages/sklearn/cluster/_kmeans.py:870: FutureWarning: The default value of `n_init` will change from 10 to 'auto' in 1.4. Set the value of `n_init` explicitly to suppress the warning\n",
            "  warnings.warn(\n",
            "/usr/local/lib/python3.10/dist-packages/sklearn/cluster/_kmeans.py:870: FutureWarning: The default value of `n_init` will change from 10 to 'auto' in 1.4. Set the value of `n_init` explicitly to suppress the warning\n",
            "  warnings.warn(\n",
            "/usr/local/lib/python3.10/dist-packages/sklearn/cluster/_kmeans.py:870: FutureWarning: The default value of `n_init` will change from 10 to 'auto' in 1.4. Set the value of `n_init` explicitly to suppress the warning\n",
            "  warnings.warn(\n",
            "/usr/local/lib/python3.10/dist-packages/sklearn/cluster/_kmeans.py:870: FutureWarning: The default value of `n_init` will change from 10 to 'auto' in 1.4. Set the value of `n_init` explicitly to suppress the warning\n",
            "  warnings.warn(\n",
            "/usr/local/lib/python3.10/dist-packages/sklearn/cluster/_kmeans.py:870: FutureWarning: The default value of `n_init` will change from 10 to 'auto' in 1.4. Set the value of `n_init` explicitly to suppress the warning\n",
            "  warnings.warn(\n"
          ]
        },
        {
          "output_type": "display_data",
          "data": {
            "text/plain": [
              "<Figure size 640x480 with 1 Axes>"
            ],
            "image/png": "[encoded data removed]"
          },
          "metadata": {}
        }
      ],
      "source": [
        "from sklearn.cluster import KMeans\n",
        "\n",
        "# Perform K-means clustering for different values of k\n",
        "k_values = range(1, 18)\n",
        "inertia_values = []\n",
        "\n",
        "for k in k_values:\n",
        "    kmeans = KMeans(n_clusters=k, random_state=42)\n",
        "    kmeans.fit(X)\n",
        "    inertia_values.append(kmeans.inertia_)\n",
        "\n",
        "# Plotting the elbow curve\n",
        "plt.plot(k_values, inertia_values, marker='o')\n",
        "plt.xlabel('Number of Clusters (k)')\n",
        "plt.ylabel('Inertia')\n",
        "plt.title('Elbow Method')\n",
        "plt.show()"
      ]
    },
    {
      "cell_type": "code",
      "execution_count": 44,
      "metadata": {
        "colab": {
          "base_uri": "https://localhost:8080/"
        },
        "id": "b7ImjijnhYGm",
        "outputId": "a8f9204d-c6d3-4c64-fdec-802a8f80642b"
      },
      "outputs": [
        {
          "output_type": "stream",
          "name": "stderr",
          "text": [
            "/usr/local/lib/python3.10/dist-packages/sklearn/cluster/_kmeans.py:870: FutureWarning: The default value of `n_init` will change from 10 to 'auto' in 1.4. Set the value of `n_init` explicitly to suppress the warning\n",
            "  warnings.warn(\n"
          ]
        }
      ],
      "source": [
        "from sklearn.cluster import KMeans\n",
        "\n",
        "k=2\n",
        "kmeans=KMeans(n_clusters=k,random_state=42)\n",
        "y_pred=kmeans.fit_predict(pos)"
      ]
    },
    {
      "cell_type": "code",
      "execution_count": 45,
      "metadata": {
        "colab": {
          "base_uri": "https://localhost:8080/"
        },
        "id": "srxQvmqkh9lK",
        "outputId": "94aa954d-49b6-4790-b713-6fce0631d01d"
      },
      "outputs": [
        {
          "output_type": "execute_result",
          "data": {
            "text/plain": [
              "True"
            ]
          },
          "metadata": {},
          "execution_count": 45
        }
      ],
      "source": [
        "y_pred is kmeans.labels_"
      ]
    },
    {
      "cell_type": "code",
      "execution_count": 46,
      "metadata": {
        "colab": {
          "base_uri": "https://localhost:8080/"
        },
        "id": "Q5YLNgcZiHZC",
        "outputId": "a2dad926-8ebe-4116-9fe6-fa36534dc762"
      },
      "outputs": [
        {
          "output_type": "execute_result",
          "data": {
            "text/plain": [
              "array([[0.        , 0.06441557, 0.03240016, 0.03849031, 0.03914902,\n",
              "        0.07044276, 0.08163108, 0.02617173, 0.03750941, 0.04253695,\n",
              "        0.09627822, 0.02388416, 0.03911046, 0.08937976, 0.03753265,\n",
              "        0.04644781, 0.06574582, 0.04116489, 0.05276703, 0.02994241,\n",
              "        0.04499978],\n",
              "       [0.        , 0.03881387, 0.05648816, 0.01352915, 0.01615177,\n",
              "        0.03639712, 0.02939151, 0.02195199, 0.0433324 , 0.11189965,\n",
              "        0.0685826 , 0.00986437, 0.01265451, 0.0232486 , 0.01926415,\n",
              "        0.26896536, 0.02266764, 0.02473659, 0.03021073, 0.1322345 ,\n",
              "        0.01961536]])"
            ]
          },
          "metadata": {},
          "execution_count": 46
        }
      ],
      "source": [
        "kmeans.cluster_centers_"
      ]
    },
    {
      "cell_type": "code",
      "execution_count": 47,
      "metadata": {
        "colab": {
          "base_uri": "https://localhost:8080/"
        },
        "id": "QR3dOdwaiQnh",
        "outputId": "d139ac45-8446-4c90-b636-98a22b959a5f"
      },
      "outputs": [
        {
          "output_type": "execute_result",
          "data": {
            "text/plain": [
              "854.7959217403745"
            ]
          },
          "metadata": {},
          "execution_count": 47
        }
      ],
      "source": [
        "kmeans.inertia_"
      ]
    },
    {
      "cell_type": "code",
      "source": [
        "from sklearn.metrics import silhouette_score"
      ],
      "metadata": {
        "id": "_rSnwvoPuBPy"
      },
      "execution_count": 48,
      "outputs": []
    },
    {
      "cell_type": "code",
      "execution_count": 49,
      "metadata": {
        "colab": {
          "base_uri": "https://localhost:8080/"
        },
        "id": "yHlUolSE19oj",
        "outputId": "7e90b353-b1ed-4fa5-9952-756ac3982e21"
      },
      "outputs": [
        {
          "output_type": "stream",
          "name": "stderr",
          "text": [
            "/usr/local/lib/python3.10/dist-packages/sklearn/cluster/_kmeans.py:870: FutureWarning: The default value of `n_init` will change from 10 to 'auto' in 1.4. Set the value of `n_init` explicitly to suppress the warning\n",
            "  warnings.warn(\n"
          ]
        },
        {
          "output_type": "stream",
          "name": "stdout",
          "text": [
            "Silhouette Score: 0.1615579904248115\n"
          ]
        }
      ],
      "source": [
        "# Fit the model to the data and get the cluster assignments\n",
        "labels = kmeans.fit_predict(shuffled_df)\n",
        "\n",
        "# Ensure that X has the same number of samples as labels\n",
        "X = shuffled_df\n",
        "\n",
        "# Calculate the silhouette score\n",
        "silhouette_avg = silhouette_score(X, labels)\n",
        "\n",
        "print(\"Silhouette Score:\", silhouette_avg)"
      ]
    },
    {
      "cell_type": "code",
      "execution_count": 50,
      "metadata": {
        "id": "Cf1FQ_rBjhV7",
        "outputId": "4f0084fb-32ac-4e4e-97f5-f1c03a5aa307",
        "colab": {
          "base_uri": "https://localhost:8080/",
          "height": 527
        }
      },
      "outputs": [
        {
          "output_type": "stream",
          "name": "stderr",
          "text": [
            "/usr/local/lib/python3.10/dist-packages/sklearn/cluster/_kmeans.py:870: FutureWarning: The default value of `n_init` will change from 10 to 'auto' in 1.4. Set the value of `n_init` explicitly to suppress the warning\n",
            "  warnings.warn(\n"
          ]
        },
        {
          "output_type": "display_data",
          "data": {
            "text/plain": [
              "<Figure size 640x480 with 1 Axes>"
            ],
            "image/png": "[encoded data removed]"
          },
          "metadata": {}
        }
      ],
      "source": [
        "import matplotlib.pyplot as plt\n",
        "from sklearn.decomposition import PCA\n",
        "\n",
        "\n",
        "# Create a K-means clustering model with 2 clusters, using K-means++ initialization\n",
        "kmeans = KMeans(n_clusters=2, init='k-means++', random_state=42)\n",
        "y_pred = kmeans.fit_predict(pos)\n",
        "\n",
        "# Perform PCA dimensionality reduction to 2 components\n",
        "pca = PCA(n_components=2)\n",
        "X_pca = pca.fit_transform(pos)\n",
        "\n",
        "# Create a scatter plot of the reduced data, colored by cluster assignments\n",
        "plt.scatter(X_pca[:, 0], X_pca[:, 1], c=y_pred)\n",
        "plt.title(\"K-means clustering with 2 clusters\")\n",
        "plt.xlabel(\"Principal Component 1\")\n",
        "plt.ylabel(\"Principal Component 2\")\n",
        "plt.show()"
      ]
    },
    {
      "cell_type": "code",
      "execution_count": 51,
      "metadata": {
        "id": "fFXNeo0Sk64b",
        "outputId": "37a20294-6e9f-4997-fdf7-06f02c2ac495",
        "colab": {
          "base_uri": "https://localhost:8080/"
        }
      },
      "outputs": [
        {
          "output_type": "stream",
          "name": "stdout",
          "text": [
            "Number of samples in cluster 0: 4764\n",
            "Number of samples in cluster 1: 931\n"
          ]
        }
      ],
      "source": [
        "# Count the number of samples in each cluster\n",
        "import numpy as np\n",
        "counts = np.bincount(y_pred)\n",
        "\n",
        "print(f\"Number of samples in cluster 0: {counts[0]}\")\n",
        "print(f\"Number of samples in cluster 1: {counts[1]}\")"
      ]
    },
    {
      "cell_type": "markdown",
      "metadata": {
        "id": "Ntjgn7lhvt_U"
      },
      "source": [
        "# Applying DBSCAN"
      ]
    },
    {
      "cell_type": "code",
      "execution_count": 52,
      "metadata": {
        "id": "Am-c2RcqvzJw",
        "outputId": "f91c22dd-5efd-4f70-826e-52d92062458c",
        "colab": {
          "base_uri": "https://localhost:8080/",
          "height": 75
        }
      },
      "outputs": [
        {
          "output_type": "execute_result",
          "data": {
            "text/plain": [
              "DBSCAN(eps=0.05)"
            ],
            "text/html": [
              "<style>#sk-container-id-4 {color: black;background-color: white;}#sk-container-id-4 pre{padding: 0;}#sk-container-id-4 div.sk-toggleable {background-color: white;}#sk-container-id-4 label.sk-toggleable__label {cursor: pointer;display: block;width: 100%;margin-bottom: 0;padding: 0.3em;box-sizing: border-box;text-align: center;}#sk-container-id-4 label.sk-toggleable__label-arrow:before {content: \"▸\";float: left;margin-right: 0.25em;color: #696969;}#sk-container-id-4 label.sk-toggleable__label-arrow:hover:before {color: black;}#sk-container-id-4 div.sk-estimator:hover label.sk-toggleable__label-arrow:before {color: black;}#sk-container-id-4 div.sk-toggleable__content {max-height: 0;max-width: 0;overflow: hidden;text-align: left;background-color: #f0f8ff;}#sk-container-id-4 div.sk-toggleable__content pre {margin: 0.2em;color: black;border-radius: 0.25em;background-color: #f0f8ff;}#sk-container-id-4 input.sk-toggleable__control:checked~div.sk-toggleable__content {max-height: 200px;max-width: 100%;overflow: auto;}#sk-container-id-4 input.sk-toggleable__control:checked~label.sk-toggleable__label-arrow:before {content: \"▾\";}#sk-container-id-4 div.sk-estimator input.sk-toggleable__control:checked~label.sk-toggleable__label {background-color: #d4ebff;}#sk-container-id-4 div.sk-label input.sk-toggleable__control:checked~label.sk-toggleable__label {background-color: #d4ebff;}#sk-container-id-4 input.sk-hidden--visually {border: 0;clip: rect(1px 1px 1px 1px);clip: rect(1px, 1px, 1px, 1px);height: 1px;margin: -1px;overflow: hidden;padding: 0;position: absolute;width: 1px;}#sk-container-id-4 div.sk-estimator {font-family: monospace;background-color: #f0f8ff;border: 1px dotted black;border-radius: 0.25em;box-sizing: border-box;margin-bottom: 0.5em;}#sk-container-id-4 div.sk-estimator:hover {background-color: #d4ebff;}#sk-container-id-4 div.sk-parallel-item::after {content: \"\";width: 100%;border-bottom: 1px solid gray;flex-grow: 1;}#sk-container-id-4 div.sk-label:hover label.sk-toggleable__label {background-color: #d4ebff;}#sk-container-id-4 div.sk-serial::before {content: \"\";position: absolute;border-left: 1px solid gray;box-sizing: border-box;top: 0;bottom: 0;left: 50%;z-index: 0;}#sk-container-id-4 div.sk-serial {display: flex;flex-direction: column;align-items: center;background-color: white;padding-right: 0.2em;padding-left: 0.2em;position: relative;}#sk-container-id-4 div.sk-item {position: relative;z-index: 1;}#sk-container-id-4 div.sk-parallel {display: flex;align-items: stretch;justify-content: center;background-color: white;position: relative;}#sk-container-id-4 div.sk-item::before, #sk-container-id-4 div.sk-parallel-item::before {content: \"\";position: absolute;border-left: 1px solid gray;box-sizing: border-box;top: 0;bottom: 0;left: 50%;z-index: -1;}#sk-container-id-4 div.sk-parallel-item {display: flex;flex-direction: column;z-index: 1;position: relative;background-color: white;}#sk-container-id-4 div.sk-parallel-item:first-child::after {align-self: flex-end;width: 50%;}#sk-container-id-4 div.sk-parallel-item:last-child::after {align-self: flex-start;width: 50%;}#sk-container-id-4 div.sk-parallel-item:only-child::after {width: 0;}#sk-container-id-4 div.sk-dashed-wrapped {border: 1px dashed gray;margin: 0 0.4em 0.5em 0.4em;box-sizing: border-box;padding-bottom: 0.4em;background-color: white;}#sk-container-id-4 div.sk-label label {font-family: monospace;font-weight: bold;display: inline-block;line-height: 1.2em;}#sk-container-id-4 div.sk-label-container {text-align: center;}#sk-container-id-4 div.sk-container {/* jupyter's `normalize.less` sets `[hidden] { display: none; }` but bootstrap.min.css set `[hidden] { display: none !important; }` so we also need the `!important` here to be able to override the default hidden behavior on the sphinx rendered scikit-learn.org. See: https://github.com/scikit-learn/scikit-learn/issues/21755 */display: inline-block !important;position: relative;}#sk-container-id-4 div.sk-text-repr-fallback {display: none;}</style><div id=\"sk-container-id-4\" class=\"sk-top-container\"><div class=\"sk-text-repr-fallback\"><pre>DBSCAN(eps=0.05)</pre><b>In a Jupyter environment, please rerun this cell to show the HTML representation or trust the notebook. <br />On GitHub, the HTML representation is unable to render, please try loading this page with nbviewer.org.</b></div><div class=\"sk-container\" hidden><div class=\"sk-item\"><div class=\"sk-estimator sk-toggleable\"><input class=\"sk-toggleable__control sk-hidden--visually\" id=\"sk-estimator-id-4\" type=\"checkbox\" checked><label for=\"sk-estimator-id-4\" class=\"sk-toggleable__label sk-toggleable__label-arrow\">DBSCAN</label><div class=\"sk-toggleable__content\"><pre>DBSCAN(eps=0.05)</pre></div></div></div></div></div>"
            ]
          },
          "metadata": {},
          "execution_count": 52
        }
      ],
      "source": [
        "from sklearn.cluster import DBSCAN\n",
        "dbscan=DBSCAN(eps=0.05,min_samples=5)\n",
        "dbscan.fit(X)"
      ]
    },
    {
      "cell_type": "code",
      "execution_count": 53,
      "metadata": {
        "id": "gBABn7GjzDhs"
      },
      "outputs": [],
      "source": [
        "# Method 3: Silhouette Score\n",
        "from sklearn.metrics import silhouette_score\n",
        "\n",
        "best_eps = None\n",
        "best_min_samples = None\n",
        "best_score = -1\n",
        "\n",
        "for eps in np.linspace(0.1, 1.0, num=10):\n",
        "    for min_samples in range(2, 6):\n",
        "        dbscan = DBSCAN(eps=eps, min_samples=min_samples)\n",
        "        dbscan.fit(X)\n",
        "        labels = dbscan.labels_\n",
        "        if len(np.unique(labels)) > 1:\n",
        "            score = silhouette_score(X, labels)\n",
        "            if score > best_score:\n",
        "                best_score = score\n",
        "                best_eps = eps\n",
        "                best_min_samples = min_samples"
      ]
    },
    {
      "cell_type": "code",
      "execution_count": 54,
      "metadata": {
        "id": "JTjuV4gq06ud",
        "outputId": "778b77be-0f6e-4d15-cb38-28036a74123a",
        "colab": {
          "base_uri": "https://localhost:8080/"
        }
      },
      "outputs": [
        {
          "output_type": "stream",
          "name": "stdout",
          "text": [
            "best_eps :0.4\n",
            "best_min_samples :4\n"
          ]
        }
      ],
      "source": [
        "print(f\"best_eps :{best_eps}\")\n",
        "print(f\"best_min_samples :{best_min_samples}\")\n"
      ]
    },
    {
      "cell_type": "code",
      "execution_count": 55,
      "metadata": {
        "id": "Xe34kXpr1Qmd",
        "outputId": "aeb93c71-f11c-48e9-e880-91b8605ff49c",
        "colab": {
          "base_uri": "https://localhost:8080/",
          "height": 75
        }
      },
      "outputs": [
        {
          "output_type": "execute_result",
          "data": {
            "text/plain": [
              "DBSCAN(eps=0.3, min_samples=2)"
            ],
            "text/html": [
              "<style>#sk-container-id-5 {color: black;background-color: white;}#sk-container-id-5 pre{padding: 0;}#sk-container-id-5 div.sk-toggleable {background-color: white;}#sk-container-id-5 label.sk-toggleable__label {cursor: pointer;display: block;width: 100%;margin-bottom: 0;padding: 0.3em;box-sizing: border-box;text-align: center;}#sk-container-id-5 label.sk-toggleable__label-arrow:before {content: \"▸\";float: left;margin-right: 0.25em;color: #696969;}#sk-container-id-5 label.sk-toggleable__label-arrow:hover:before {color: black;}#sk-container-id-5 div.sk-estimator:hover label.sk-toggleable__label-arrow:before {color: black;}#sk-container-id-5 div.sk-toggleable__content {max-height: 0;max-width: 0;overflow: hidden;text-align: left;background-color: #f0f8ff;}#sk-container-id-5 div.sk-toggleable__content pre {margin: 0.2em;color: black;border-radius: 0.25em;background-color: #f0f8ff;}#sk-container-id-5 input.sk-toggleable__control:checked~div.sk-toggleable__content {max-height: 200px;max-width: 100%;overflow: auto;}#sk-container-id-5 input.sk-toggleable__control:checked~label.sk-toggleable__label-arrow:before {content: \"▾\";}#sk-container-id-5 div.sk-estimator input.sk-toggleable__control:checked~label.sk-toggleable__label {background-color: #d4ebff;}#sk-container-id-5 div.sk-label input.sk-toggleable__control:checked~label.sk-toggleable__label {background-color: #d4ebff;}#sk-container-id-5 input.sk-hidden--visually {border: 0;clip: rect(1px 1px 1px 1px);clip: rect(1px, 1px, 1px, 1px);height: 1px;margin: -1px;overflow: hidden;padding: 0;position: absolute;width: 1px;}#sk-container-id-5 div.sk-estimator {font-family: monospace;background-color: #f0f8ff;border: 1px dotted black;border-radius: 0.25em;box-sizing: border-box;margin-bottom: 0.5em;}#sk-container-id-5 div.sk-estimator:hover {background-color: #d4ebff;}#sk-container-id-5 div.sk-parallel-item::after {content: \"\";width: 100%;border-bottom: 1px solid gray;flex-grow: 1;}#sk-container-id-5 div.sk-label:hover label.sk-toggleable__label {background-color: #d4ebff;}#sk-container-id-5 div.sk-serial::before {content: \"\";position: absolute;border-left: 1px solid gray;box-sizing: border-box;top: 0;bottom: 0;left: 50%;z-index: 0;}#sk-container-id-5 div.sk-serial {display: flex;flex-direction: column;align-items: center;background-color: white;padding-right: 0.2em;padding-left: 0.2em;position: relative;}#sk-container-id-5 div.sk-item {position: relative;z-index: 1;}#sk-container-id-5 div.sk-parallel {display: flex;align-items: stretch;justify-content: center;background-color: white;position: relative;}#sk-container-id-5 div.sk-item::before, #sk-container-id-5 div.sk-parallel-item::before {content: \"\";position: absolute;border-left: 1px solid gray;box-sizing: border-box;top: 0;bottom: 0;left: 50%;z-index: -1;}#sk-container-id-5 div.sk-parallel-item {display: flex;flex-direction: column;z-index: 1;position: relative;background-color: white;}#sk-container-id-5 div.sk-parallel-item:first-child::after {align-self: flex-end;width: 50%;}#sk-container-id-5 div.sk-parallel-item:last-child::after {align-self: flex-start;width: 50%;}#sk-container-id-5 div.sk-parallel-item:only-child::after {width: 0;}#sk-container-id-5 div.sk-dashed-wrapped {border: 1px dashed gray;margin: 0 0.4em 0.5em 0.4em;box-sizing: border-box;padding-bottom: 0.4em;background-color: white;}#sk-container-id-5 div.sk-label label {font-family: monospace;font-weight: bold;display: inline-block;line-height: 1.2em;}#sk-container-id-5 div.sk-label-container {text-align: center;}#sk-container-id-5 div.sk-container {/* jupyter's `normalize.less` sets `[hidden] { display: none; }` but bootstrap.min.css set `[hidden] { display: none !important; }` so we also need the `!important` here to be able to override the default hidden behavior on the sphinx rendered scikit-learn.org. See: https://github.com/scikit-learn/scikit-learn/issues/21755 */display: inline-block !important;position: relative;}#sk-container-id-5 div.sk-text-repr-fallback {display: none;}</style><div id=\"sk-container-id-5\" class=\"sk-top-container\"><div class=\"sk-text-repr-fallback\"><pre>DBSCAN(eps=0.3, min_samples=2)</pre><b>In a Jupyter environment, please rerun this cell to show the HTML representation or trust the notebook. <br />On GitHub, the HTML representation is unable to render, please try loading this page with nbviewer.org.</b></div><div class=\"sk-container\" hidden><div class=\"sk-item\"><div class=\"sk-estimator sk-toggleable\"><input class=\"sk-toggleable__control sk-hidden--visually\" id=\"sk-estimator-id-5\" type=\"checkbox\" checked><label for=\"sk-estimator-id-5\" class=\"sk-toggleable__label sk-toggleable__label-arrow\">DBSCAN</label><div class=\"sk-toggleable__content\"><pre>DBSCAN(eps=0.3, min_samples=2)</pre></div></div></div></div></div>"
            ]
          },
          "metadata": {},
          "execution_count": 55
        }
      ],
      "source": [
        "dbscan=DBSCAN(eps=0.3,min_samples=2)\n",
        "dbscan.fit(X)"
      ]
    },
    {
      "cell_type": "code",
      "execution_count": 56,
      "metadata": {
        "id": "sLwrJ7dt1r1o",
        "outputId": "f280f887-99f2-4924-c275-b24ed745400b",
        "colab": {
          "base_uri": "https://localhost:8080/"
        }
      },
      "outputs": [
        {
          "output_type": "stream",
          "name": "stdout",
          "text": [
            "Silhouette Score: -0.07563094705521255\n"
          ]
        }
      ],
      "source": [
        "# Evaluate using Silhouette Score\n",
        "labels = dbscan.labels_\n",
        "silhouette_avg = silhouette_score(X, labels)\n",
        "\n",
        "print(\"Silhouette Score:\", silhouette_avg)"
      ]
    },
    {
      "cell_type": "markdown",
      "metadata": {
        "id": "lAEgxvKe2G-d"
      },
      "source": [
        "# Applying Agglomerative Clustering"
      ]
    },
    {
      "cell_type": "code",
      "execution_count": 57,
      "metadata": {
        "id": "rOFgnFJ37Dzj",
        "outputId": "852d4d1b-614a-4510-f2cd-c774bd2341a8",
        "colab": {
          "base_uri": "https://localhost:8080/"
        }
      },
      "outputs": [
        {
          "output_type": "stream",
          "name": "stdout",
          "text": [
            "Silhouette Score: 0.05720821529993045\n"
          ]
        }
      ],
      "source": [
        "# Apply Agglomerative Clustering\n",
        "from sklearn.cluster import AgglomerativeClustering\n",
        "\n",
        "\n",
        "agg_clustering = AgglomerativeClustering(n_clusters=4)\n",
        "agg_clustering.fit(X)\n",
        "\n",
        "# Evaluate using Silhouette Score\n",
        "labels = agg_clustering.labels_\n",
        "silhouette_avg = silhouette_score(X, labels)\n",
        "\n",
        "print(\"Silhouette Score:\", silhouette_avg)"
      ]
    },
    {
      "cell_type": "markdown",
      "metadata": {
        "id": "y3UuQgVc_kN-"
      },
      "source": [
        "# GMM"
      ]
    },
    {
      "cell_type": "code",
      "execution_count": 58,
      "metadata": {
        "id": "fysc7ukk_mx2",
        "outputId": "c5af39a3-b2b5-472d-ab85-f107cc99f1a6",
        "colab": {
          "base_uri": "https://localhost:8080/",
          "height": 75
        }
      },
      "outputs": [
        {
          "output_type": "execute_result",
          "data": {
            "text/plain": [
              "GaussianMixture(n_components=2, n_init=10)"
            ],
            "text/html": [
              "<style>#sk-container-id-6 {color: black;background-color: white;}#sk-container-id-6 pre{padding: 0;}#sk-container-id-6 div.sk-toggleable {background-color: white;}#sk-container-id-6 label.sk-toggleable__label {cursor: pointer;display: block;width: 100%;margin-bottom: 0;padding: 0.3em;box-sizing: border-box;text-align: center;}#sk-container-id-6 label.sk-toggleable__label-arrow:before {content: \"▸\";float: left;margin-right: 0.25em;color: #696969;}#sk-container-id-6 label.sk-toggleable__label-arrow:hover:before {color: black;}#sk-container-id-6 div.sk-estimator:hover label.sk-toggleable__label-arrow:before {color: black;}#sk-container-id-6 div.sk-toggleable__content {max-height: 0;max-width: 0;overflow: hidden;text-align: left;background-color: #f0f8ff;}#sk-container-id-6 div.sk-toggleable__content pre {margin: 0.2em;color: black;border-radius: 0.25em;background-color: #f0f8ff;}#sk-container-id-6 input.sk-toggleable__control:checked~div.sk-toggleable__content {max-height: 200px;max-width: 100%;overflow: auto;}#sk-container-id-6 input.sk-toggleable__control:checked~label.sk-toggleable__label-arrow:before {content: \"▾\";}#sk-container-id-6 div.sk-estimator input.sk-toggleable__control:checked~label.sk-toggleable__label {background-color: #d4ebff;}#sk-container-id-6 div.sk-label input.sk-toggleable__control:checked~label.sk-toggleable__label {background-color: #d4ebff;}#sk-container-id-6 input.sk-hidden--visually {border: 0;clip: rect(1px 1px 1px 1px);clip: rect(1px, 1px, 1px, 1px);height: 1px;margin: -1px;overflow: hidden;padding: 0;position: absolute;width: 1px;}#sk-container-id-6 div.sk-estimator {font-family: monospace;background-color: #f0f8ff;border: 1px dotted black;border-radius: 0.25em;box-sizing: border-box;margin-bottom: 0.5em;}#sk-container-id-6 div.sk-estimator:hover {background-color: #d4ebff;}#sk-container-id-6 div.sk-parallel-item::after {content: \"\";width: 100%;border-bottom: 1px solid gray;flex-grow: 1;}#sk-container-id-6 div.sk-label:hover label.sk-toggleable__label {background-color: #d4ebff;}#sk-container-id-6 div.sk-serial::before {content: \"\";position: absolute;border-left: 1px solid gray;box-sizing: border-box;top: 0;bottom: 0;left: 50%;z-index: 0;}#sk-container-id-6 div.sk-serial {display: flex;flex-direction: column;align-items: center;background-color: white;padding-right: 0.2em;padding-left: 0.2em;position: relative;}#sk-container-id-6 div.sk-item {position: relative;z-index: 1;}#sk-container-id-6 div.sk-parallel {display: flex;align-items: stretch;justify-content: center;background-color: white;position: relative;}#sk-container-id-6 div.sk-item::before, #sk-container-id-6 div.sk-parallel-item::before {content: \"\";position: absolute;border-left: 1px solid gray;box-sizing: border-box;top: 0;bottom: 0;left: 50%;z-index: -1;}#sk-container-id-6 div.sk-parallel-item {display: flex;flex-direction: column;z-index: 1;position: relative;background-color: white;}#sk-container-id-6 div.sk-parallel-item:first-child::after {align-self: flex-end;width: 50%;}#sk-container-id-6 div.sk-parallel-item:last-child::after {align-self: flex-start;width: 50%;}#sk-container-id-6 div.sk-parallel-item:only-child::after {width: 0;}#sk-container-id-6 div.sk-dashed-wrapped {border: 1px dashed gray;margin: 0 0.4em 0.5em 0.4em;box-sizing: border-box;padding-bottom: 0.4em;background-color: white;}#sk-container-id-6 div.sk-label label {font-family: monospace;font-weight: bold;display: inline-block;line-height: 1.2em;}#sk-container-id-6 div.sk-label-container {text-align: center;}#sk-container-id-6 div.sk-container {/* jupyter's `normalize.less` sets `[hidden] { display: none; }` but bootstrap.min.css set `[hidden] { display: none !important; }` so we also need the `!important` here to be able to override the default hidden behavior on the sphinx rendered scikit-learn.org. See: https://github.com/scikit-learn/scikit-learn/issues/21755 */display: inline-block !important;position: relative;}#sk-container-id-6 div.sk-text-repr-fallback {display: none;}</style><div id=\"sk-container-id-6\" class=\"sk-top-container\"><div class=\"sk-text-repr-fallback\"><pre>GaussianMixture(n_components=2, n_init=10)</pre><b>In a Jupyter environment, please rerun this cell to show the HTML representation or trust the notebook. <br />On GitHub, the HTML representation is unable to render, please try loading this page with nbviewer.org.</b></div><div class=\"sk-container\" hidden><div class=\"sk-item\"><div class=\"sk-estimator sk-toggleable\"><input class=\"sk-toggleable__control sk-hidden--visually\" id=\"sk-estimator-id-6\" type=\"checkbox\" checked><label for=\"sk-estimator-id-6\" class=\"sk-toggleable__label sk-toggleable__label-arrow\">GaussianMixture</label><div class=\"sk-toggleable__content\"><pre>GaussianMixture(n_components=2, n_init=10)</pre></div></div></div></div></div>"
            ]
          },
          "metadata": {},
          "execution_count": 58
        }
      ],
      "source": [
        "from sklearn.mixture import GaussianMixture\n",
        "gm = GaussianMixture(n_components=2, n_init=10)\n",
        "gm.fit(X)"
      ]
    },
    {
      "cell_type": "code",
      "execution_count": 59,
      "metadata": {
        "id": "XoFtnt7V7bc_",
        "outputId": "b8050c34-3afb-4794-e187-013427528611",
        "colab": {
          "base_uri": "https://localhost:8080/"
        }
      },
      "outputs": [
        {
          "output_type": "execute_result",
          "data": {
            "text/plain": [
              "array([0.59316809, 0.40683191])"
            ]
          },
          "metadata": {},
          "execution_count": 59
        }
      ],
      "source": [
        "gm.weights_"
      ]
    },
    {
      "cell_type": "code",
      "execution_count": 60,
      "metadata": {
        "id": "x3YvhNzW7q4y",
        "outputId": "089b502d-a9ea-405f-f87f-cc2cb27ac286",
        "colab": {
          "base_uri": "https://localhost:8080/"
        }
      },
      "outputs": [
        {
          "output_type": "execute_result",
          "data": {
            "text/plain": [
              "array([[0.05718565, 0.02648575, 0.03774218, 0.03150809, 0.07382189,\n",
              "        0.07362978, 0.02385449, 0.03474269, 0.03958109, 0.07802675,\n",
              "        0.03722762, 0.07014272, 0.0657683 , 0.03666009, 0.06324838,\n",
              "        0.0995838 , 0.04363088, 0.03894817, 0.03115536, 0.03705632],\n",
              "       [0.06442343, 0.02593067, 0.03839511, 0.03889638, 0.06257203,\n",
              "        0.06625304, 0.03185421, 0.05190521, 0.09205803, 0.10632995,\n",
              "        0.        , 0.        , 0.07124056, 0.0379313 , 0.12107562,\n",
              "        0.        , 0.04112086, 0.04996614, 0.06730143, 0.032746  ]])"
            ]
          },
          "metadata": {},
          "execution_count": 60
        }
      ],
      "source": [
        "gm.means_"
      ]
    },
    {
      "cell_type": "code",
      "execution_count": 61,
      "metadata": {
        "id": "JnQTuajp7hlw",
        "outputId": "b7d2f12e-601f-497d-aafe-4c3f8c8a39ac",
        "colab": {
          "base_uri": "https://localhost:8080/"
        }
      },
      "outputs": [
        {
          "output_type": "execute_result",
          "data": {
            "text/plain": [
              "array([[[ 8.03140383e-03, -3.69878854e-04, -1.41212964e-04,\n",
              "         -2.84817455e-04, -1.15730250e-03, -4.07356511e-04,\n",
              "          1.09001687e-04, -4.88648299e-04, -4.72374550e-04,\n",
              "         -7.95797167e-04, -1.11224906e-04, -5.56425373e-04,\n",
              "         -1.05222531e-03, -4.37700804e-04, -7.05168901e-04,\n",
              "         -7.78887409e-05, -4.06886202e-04, -2.30510922e-05,\n",
              "         -1.21224821e-04, -5.30221067e-04],\n",
              "        [-3.69878854e-04,  4.73744079e-03, -4.98256064e-04,\n",
              "         -3.24659543e-04, -8.92503947e-04, -6.49786495e-04,\n",
              "          2.44752485e-04, -4.00430935e-05, -1.48335171e-04,\n",
              "         -6.66707069e-04, -3.15994984e-04,  7.67508077e-05,\n",
              "         -1.13192942e-06, -1.36572223e-04, -3.52730192e-04,\n",
              "         -4.25428884e-04,  4.88306057e-04, -3.06214514e-04,\n",
              "         -3.28051372e-04, -8.99558056e-05],\n",
              "        [-1.41212964e-04, -4.98256064e-04,  4.78490955e-03,\n",
              "          1.17496315e-05, -2.94907284e-05, -6.83391243e-04,\n",
              "         -1.23150865e-04,  1.72420031e-05, -1.53835392e-04,\n",
              "         -3.85809093e-04,  1.88680780e-04, -4.40987616e-04,\n",
              "         -8.14280564e-04, -2.50205434e-04, -4.27735692e-04,\n",
              "         -5.07956031e-04, -3.40896833e-04,  2.97442149e-05,\n",
              "          6.87899396e-05, -3.02907598e-04],\n",
              "        [-2.84817455e-04, -3.24659543e-04,  1.17496315e-05,\n",
              "          4.81610647e-03, -7.59591497e-04, -6.70915044e-04,\n",
              "         -5.00784101e-05, -1.78813004e-05, -3.61636344e-05,\n",
              "         -2.19218833e-04,  7.77982150e-05, -1.69482244e-04,\n",
              "         -7.20973106e-04, -2.84163632e-04, -4.81219159e-04,\n",
              "         -4.21569108e-04, -1.74399118e-04,  7.89674170e-05,\n",
              "         -4.27324333e-05, -3.25757212e-04],\n",
              "        [-1.15730250e-03, -8.92503947e-04, -2.94907284e-05,\n",
              "         -7.59591497e-04,  7.94711989e-03,  6.76862579e-04,\n",
              "         -4.84045254e-04, -7.66578987e-04, -1.00077888e-03,\n",
              "         -7.00127119e-04,  2.81860748e-04, -3.33636387e-04,\n",
              "         -9.80547800e-06, -4.55680309e-04,  9.37038423e-04,\n",
              "         -3.88905343e-04, -1.22622471e-03, -7.02755549e-04,\n",
              "         -7.68491971e-04, -1.65962988e-04],\n",
              "        [-4.07356511e-04, -6.49786495e-04, -6.83391243e-04,\n",
              "         -6.70915044e-04,  6.76862579e-04,  8.50234887e-03,\n",
              "         -4.72112463e-04, -6.60134367e-04, -1.19464148e-03,\n",
              "         -4.36553802e-04,  8.07978737e-05, -8.53588483e-04,\n",
              "         -9.30671394e-04, -4.98675338e-04, -9.12736177e-04,\n",
              "         -5.96233354e-05, -1.31951015e-03, -3.93559022e-04,\n",
              "          5.17311461e-04,  3.66934526e-04],\n",
              "        [ 1.09001687e-04,  2.44752485e-04, -1.23150865e-04,\n",
              "         -5.00784101e-05, -4.84045254e-04, -4.72112463e-04,\n",
              "          3.52522120e-03, -2.89831638e-05, -1.31416284e-04,\n",
              "         -4.55062010e-04, -9.26928320e-05,  5.03342527e-05,\n",
              "         -1.43411361e-04, -9.74445364e-05, -6.34746228e-04,\n",
              "         -3.20111692e-04, -1.07838374e-04, -2.78801749e-04,\n",
              "         -2.37295856e-04, -2.71118551e-04],\n",
              "        [-4.88648299e-04, -4.00430935e-05,  1.72420031e-05,\n",
              "         -1.78813004e-05, -7.66578987e-04, -6.60134367e-04,\n",
              "         -2.89831638e-05,  5.14962367e-03,  1.59463858e-04,\n",
              "         -5.73646815e-04, -2.92531098e-04,  2.64501012e-04,\n",
              "         -1.98339751e-04, -2.91040718e-04, -5.93023758e-04,\n",
              "         -4.48324967e-04, -2.40017544e-04, -4.40703744e-05,\n",
              "         -6.04744195e-04, -3.01822111e-04],\n",
              "        [-4.72374550e-04, -1.48335171e-04, -1.53835392e-04,\n",
              "         -3.61636344e-05, -1.00077888e-03, -1.19464148e-03,\n",
              "         -1.31416284e-04,  1.59463858e-04,  6.16830651e-03,\n",
              "         -6.67467548e-04,  5.97017922e-05, -1.52378795e-04,\n",
              "         -6.95385642e-04, -2.43045826e-04, -3.59665422e-04,\n",
              "         -5.14299035e-04, -7.37272915e-05, -1.59676934e-04,\n",
              "         -2.45091298e-05, -3.58771139e-04],\n",
              "        [-7.95797167e-04, -6.66707069e-04, -3.85809093e-04,\n",
              "         -2.19218833e-04, -7.00127119e-04, -4.36553802e-04,\n",
              "         -4.55062010e-04, -5.73646815e-04, -6.67467548e-04,\n",
              "          9.20676435e-03, -3.30738604e-04, -4.32097876e-04,\n",
              "         -3.55150566e-04, -5.21968381e-04, -6.03630568e-05,\n",
              "         -3.17958704e-04, -7.10948470e-04, -6.42627016e-04,\n",
              "         -7.63217055e-04, -1.70305165e-04],\n",
              "        [-1.11224906e-04, -3.15994984e-04,  1.88680780e-04,\n",
              "          7.77982150e-05,  2.81860748e-04,  8.07978737e-05,\n",
              "         -9.26928320e-05, -2.92531098e-04,  5.97017922e-05,\n",
              "         -3.30738604e-04,  4.60396057e-03, -1.32496687e-03,\n",
              "         -3.28525370e-04, -1.81748876e-04,  2.60594656e-04,\n",
              "         -1.66902871e-03, -3.06283286e-04, -1.14462482e-04,\n",
              "         -3.13900726e-04, -1.70295891e-04],\n",
              "        [-5.56425373e-04,  7.67508077e-05, -4.40987616e-04,\n",
              "         -1.69482244e-04, -3.33636387e-04, -8.53588483e-04,\n",
              "          5.03342527e-05,  2.64501012e-04, -1.52378795e-04,\n",
              "         -4.32097876e-04, -1.32496687e-03,  8.22874397e-03,\n",
              "         -3.83665477e-04, -1.22360385e-04, -3.26210948e-04,\n",
              "         -3.02382678e-03,  2.79397652e-04, -5.68509168e-04,\n",
              "          1.50453055e-04, -3.61044349e-04],\n",
              "        [-1.05222531e-03, -1.13192942e-06, -8.14280564e-04,\n",
              "         -7.20973106e-04, -9.80547800e-06, -9.30671394e-04,\n",
              "         -1.43411361e-04, -1.98339751e-04, -6.95385642e-04,\n",
              "         -3.55150566e-04, -3.28525370e-04, -3.83665477e-04,\n",
              "          7.87674111e-03, -3.47362204e-04, -4.92559777e-04,\n",
              "         -2.99064171e-04, -2.92009184e-05, -2.81268469e-04,\n",
              "         -5.69380488e-04, -2.23339139e-04],\n",
              "        [-4.37700804e-04, -1.36572223e-04, -2.50205434e-04,\n",
              "         -2.84163632e-04, -4.55680309e-04, -4.98675338e-04,\n",
              "         -9.74445364e-05, -2.91040718e-04, -2.43045826e-04,\n",
              "         -5.21968381e-04, -1.81748876e-04, -1.22360385e-04,\n",
              "         -3.47362204e-04,  4.78225152e-03, -3.00906472e-04,\n",
              "         -2.24731029e-05, -1.09961966e-04, -3.73810464e-04,\n",
              "          2.01177479e-04, -3.07308327e-04],\n",
              "        [-7.05168901e-04, -3.52730192e-04, -4.27735692e-04,\n",
              "         -4.81219159e-04,  9.37038423e-04, -9.12736177e-04,\n",
              "         -6.34746228e-04, -5.93023758e-04, -3.59665422e-04,\n",
              "         -6.03630568e-05,  2.60594656e-04, -3.26210948e-04,\n",
              "         -4.92559777e-04, -3.00906472e-04,  7.55632374e-03,\n",
              "         -9.21197914e-04, -8.35866722e-04, -4.77254233e-04,\n",
              "         -3.99605176e-04, -4.71966992e-04],\n",
              "        [-7.78887409e-05, -4.25428884e-04, -5.07956031e-04,\n",
              "         -4.21569108e-04, -3.88905343e-04, -5.96233354e-05,\n",
              "         -3.20111692e-04, -4.48324967e-04, -5.14299035e-04,\n",
              "         -3.17958704e-04, -1.66902871e-03, -3.02382678e-03,\n",
              "         -2.99064171e-04, -2.24731029e-05, -9.21197914e-04,\n",
              "          9.55317511e-03, -3.69685226e-04, -1.24097125e-04,\n",
              "          2.54256097e-04,  1.05007661e-04],\n",
              "        [-4.06886202e-04,  4.88306057e-04, -3.40896833e-04,\n",
              "         -1.74399118e-04, -1.22622471e-03, -1.31951015e-03,\n",
              "         -1.07838374e-04, -2.40017544e-04, -7.37272915e-05,\n",
              "         -7.10948470e-04, -3.06283286e-04,  2.79397652e-04,\n",
              "         -2.92009184e-05, -1.09961966e-04, -8.35866722e-04,\n",
              "         -3.69685226e-04,  6.73878606e-03, -2.34826742e-04,\n",
              "         -6.86606464e-04, -3.32609749e-04],\n",
              "        [-2.30510922e-05, -3.06214514e-04,  2.97442149e-05,\n",
              "          7.89674170e-05, -7.02755549e-04, -3.93559022e-04,\n",
              "         -2.78801749e-04, -4.40703744e-05, -1.59676934e-04,\n",
              "         -6.42627016e-04, -1.14462482e-04, -5.68509168e-04,\n",
              "         -2.81268469e-04, -3.73810464e-04, -4.77254233e-04,\n",
              "         -1.24097125e-04, -2.34826742e-04,  5.31489349e-03,\n",
              "         -3.24951736e-04, -3.72668447e-04],\n",
              "        [-1.21224821e-04, -3.28051372e-04,  6.87899396e-05,\n",
              "         -4.27324333e-05, -7.68491971e-04,  5.17311461e-04,\n",
              "         -2.37295856e-04, -6.04744195e-04, -2.45091298e-05,\n",
              "         -7.63217055e-04, -3.13900726e-04,  1.50453055e-04,\n",
              "         -5.69380488e-04,  2.01177479e-04, -3.99605176e-04,\n",
              "          2.54256097e-04, -6.86606464e-04, -3.24951736e-04,\n",
              "          4.63105466e-03, -6.37331264e-04],\n",
              "        [-5.30221067e-04, -8.99558056e-05, -3.02907598e-04,\n",
              "         -3.25757212e-04, -1.65962988e-04,  3.66934526e-04,\n",
              "         -2.71118551e-04, -3.01822111e-04, -3.58771139e-04,\n",
              "         -1.70305165e-04, -1.70295891e-04, -3.61044349e-04,\n",
              "         -2.23339139e-04, -3.07308327e-04, -4.71966992e-04,\n",
              "          1.05007661e-04, -3.32609749e-04, -3.72668447e-04,\n",
              "         -6.37331264e-04,  4.92244361e-03]],\n",
              "\n",
              "       [[ 1.04893111e-02, -6.44139098e-04, -1.30865328e-04,\n",
              "          1.81074507e-04, -3.79682631e-04, -1.07697269e-04,\n",
              "         -7.22863555e-04, -7.65927492e-04, -1.26832218e-03,\n",
              "         -5.78762807e-04,  0.00000000e+00,  0.00000000e+00,\n",
              "         -8.17878280e-04, -1.88708392e-04, -2.03028380e-03,\n",
              "          0.00000000e+00, -5.50049284e-04, -1.34053894e-04,\n",
              "         -2.33246425e-03, -1.76872982e-05],\n",
              "        [-6.44139098e-04,  5.43880163e-03, -2.80234922e-04,\n",
              "         -4.77609484e-04, -4.99975928e-04,  7.33453648e-05,\n",
              "          2.25775656e-04, -5.96430349e-04, -9.51427671e-04,\n",
              "         -1.32268302e-03,  0.00000000e+00,  0.00000000e+00,\n",
              "         -4.50775787e-04, -3.12713369e-04, -4.58350455e-04,\n",
              "          0.00000000e+00,  1.58621194e-04, -3.02934652e-04,\n",
              "          4.98864526e-04, -9.71336358e-05],\n",
              "        [-1.30865328e-04, -2.80234922e-04,  6.81200728e-03,\n",
              "          4.66806963e-04, -3.09233154e-04,  3.41263361e-04,\n",
              "         -1.02152225e-04, -1.05527135e-04, -1.23957168e-03,\n",
              "         -1.00783625e-03,  0.00000000e+00,  0.00000000e+00,\n",
              "         -8.32133208e-04, -6.80713388e-05, -2.25147462e-03,\n",
              "          0.00000000e+00, -8.70846750e-05,  4.08806181e-04,\n",
              "         -1.43701837e-03, -1.76680884e-04],\n",
              "        [ 1.81074507e-04, -4.77609484e-04,  4.66806963e-04,\n",
              "          6.52201934e-03, -1.39355117e-04, -1.80396431e-05,\n",
              "         -2.38838299e-04,  2.61051994e-04, -1.06873409e-03,\n",
              "         -7.12802299e-04,  0.00000000e+00,  0.00000000e+00,\n",
              "         -3.95625788e-04, -1.31974142e-04, -2.35835592e-03,\n",
              "          0.00000000e+00, -1.79535602e-04,  4.40502098e-05,\n",
              "         -1.44123977e-03, -3.11892853e-04],\n",
              "        [-3.79682631e-04, -4.99975928e-04, -3.09233154e-04,\n",
              "         -1.39355117e-04,  1.02285292e-02,  3.76837034e-04,\n",
              "         -1.88275334e-04, -9.56307606e-04, -2.11100759e-03,\n",
              "         -1.44570012e-03,  0.00000000e+00,  0.00000000e+00,\n",
              "          2.84105402e-04, -5.60117241e-04, -1.86073192e-03,\n",
              "          0.00000000e+00, -5.48428870e-04, -3.74523784e-05,\n",
              "         -1.59797949e-03, -2.54224230e-04],\n",
              "        [-1.07697269e-04,  7.33453648e-05,  3.41263361e-04,\n",
              "         -1.80396431e-05,  3.76837034e-04,  1.09934769e-02,\n",
              "         -7.68811236e-04, -1.23000022e-04, -3.06917558e-03,\n",
              "         -1.46950498e-03,  0.00000000e+00,  0.00000000e+00,\n",
              "         -5.67860692e-04, -2.65036337e-05, -3.72657556e-03,\n",
              "          0.00000000e+00, -3.53716352e-04, -1.12466426e-04,\n",
              "         -2.41130608e-03,  9.70734846e-04],\n",
              "        [-7.22863555e-04,  2.25775656e-04, -1.02152225e-04,\n",
              "         -2.38838299e-04, -1.88275334e-04, -7.68811236e-04,\n",
              "          6.61974522e-03, -4.54852106e-04, -1.44364873e-03,\n",
              "         -8.38068157e-04,  0.00000000e+00,  0.00000000e+00,\n",
              "          3.54712875e-04, -2.00360188e-04, -1.11705492e-03,\n",
              "          0.00000000e+00,  1.06074546e-04, -3.31559499e-04,\n",
              "         -5.35334165e-04, -3.63489884e-04],\n",
              "        [-7.65927492e-04, -5.96430349e-04, -1.05527135e-04,\n",
              "          2.61051994e-04, -9.56307606e-04, -1.23000022e-04,\n",
              "         -4.54852106e-04,  8.73558561e-03, -1.10811919e-03,\n",
              "         -1.54400925e-03,  0.00000000e+00,  0.00000000e+00,\n",
              "         -7.72924187e-04, -4.07541088e-04, -4.21000884e-04,\n",
              "          0.00000000e+00, -1.24373023e-04,  6.19922201e-05,\n",
              "         -1.14913245e-03, -5.28485046e-04],\n",
              "        [-1.26832218e-03, -9.51427671e-04, -1.23957168e-03,\n",
              "         -1.06873409e-03, -2.11100759e-03, -3.06917558e-03,\n",
              "         -1.44364873e-03, -1.10811919e-03,  2.10551764e-02,\n",
              "          1.96420622e-03,  0.00000000e+00,  0.00000000e+00,\n",
              "         -3.58872433e-03, -1.21666854e-03, -2.57642721e-03,\n",
              "          0.00000000e+00, -1.60446697e-03, -1.91646907e-03,\n",
              "          1.63029652e-03, -1.48591628e-03],\n",
              "        [-5.78762807e-04, -1.32268302e-03, -1.00783625e-03,\n",
              "         -7.12802299e-04, -1.44570012e-03, -1.46950498e-03,\n",
              "         -8.38068157e-04, -1.54400925e-03,  1.96420622e-03,\n",
              "          1.79175204e-02,  0.00000000e+00,  0.00000000e+00,\n",
              "         -8.99580072e-04, -8.74899575e-04, -3.57628854e-03,\n",
              "          0.00000000e+00, -1.17145114e-03, -1.21257170e-03,\n",
              "         -2.77938295e-03, -4.47185782e-04],\n",
              "        [ 0.00000000e+00,  0.00000000e+00,  0.00000000e+00,\n",
              "          0.00000000e+00,  0.00000000e+00,  0.00000000e+00,\n",
              "          0.00000000e+00,  0.00000000e+00,  0.00000000e+00,\n",
              "          0.00000000e+00,  1.00000000e-06,  0.00000000e+00,\n",
              "          0.00000000e+00,  0.00000000e+00,  0.00000000e+00,\n",
              "          0.00000000e+00,  0.00000000e+00,  0.00000000e+00,\n",
              "          0.00000000e+00,  0.00000000e+00],\n",
              "        [ 0.00000000e+00,  0.00000000e+00,  0.00000000e+00,\n",
              "          0.00000000e+00,  0.00000000e+00,  0.00000000e+00,\n",
              "          0.00000000e+00,  0.00000000e+00,  0.00000000e+00,\n",
              "          0.00000000e+00,  0.00000000e+00,  1.00000000e-06,\n",
              "          0.00000000e+00,  0.00000000e+00,  0.00000000e+00,\n",
              "          0.00000000e+00,  0.00000000e+00,  0.00000000e+00,\n",
              "          0.00000000e+00,  0.00000000e+00],\n",
              "        [-8.17878280e-04, -4.50775787e-04, -8.32133208e-04,\n",
              "         -3.95625788e-04,  2.84105402e-04, -5.67860692e-04,\n",
              "          3.54712875e-04, -7.72924187e-04, -3.58872433e-03,\n",
              "         -8.99580072e-04,  0.00000000e+00,  0.00000000e+00,\n",
              "          1.34416894e-02,  3.45223190e-04, -4.00816929e-03,\n",
              "          0.00000000e+00,  3.81426759e-04,  2.96045138e-04,\n",
              "         -2.32036455e-03, -4.48166554e-04],\n",
              "        [-1.88708392e-04, -3.12713369e-04, -6.80713388e-05,\n",
              "         -1.31974142e-04, -5.60117241e-04, -2.65036337e-05,\n",
              "         -2.00360188e-04, -4.07541088e-04, -1.21666854e-03,\n",
              "         -8.74899575e-04,  0.00000000e+00,  0.00000000e+00,\n",
              "          3.45223190e-04,  6.42299674e-03, -1.15842331e-03,\n",
              "          0.00000000e+00,  1.39718161e-04, -5.72735462e-04,\n",
              "         -1.14102058e-03, -4.72012173e-05],\n",
              "        [-2.03028380e-03, -4.58350455e-04, -2.25147462e-03,\n",
              "         -2.35835592e-03, -1.86073192e-03, -3.72657556e-03,\n",
              "         -1.11705492e-03, -4.21000884e-04, -2.57642721e-03,\n",
              "         -3.57628854e-03,  0.00000000e+00,  0.00000000e+00,\n",
              "         -4.00816929e-03, -1.15842331e-03,  2.67244043e-02,\n",
              "          0.00000000e+00, -2.25150041e-03, -2.50677559e-03,\n",
              "          4.69231081e-03, -1.11430271e-03],\n",
              "        [ 0.00000000e+00,  0.00000000e+00,  0.00000000e+00,\n",
              "          0.00000000e+00,  0.00000000e+00,  0.00000000e+00,\n",
              "          0.00000000e+00,  0.00000000e+00,  0.00000000e+00,\n",
              "          0.00000000e+00,  0.00000000e+00,  0.00000000e+00,\n",
              "          0.00000000e+00,  0.00000000e+00,  0.00000000e+00,\n",
              "          1.00000000e-06,  0.00000000e+00,  0.00000000e+00,\n",
              "          0.00000000e+00,  0.00000000e+00],\n",
              "        [-5.50049284e-04,  1.58621194e-04, -8.70846750e-05,\n",
              "         -1.79535602e-04, -5.48428870e-04, -3.53716352e-04,\n",
              "          1.06074546e-04, -1.24373023e-04, -1.60446697e-03,\n",
              "         -1.17145114e-03,  0.00000000e+00,  0.00000000e+00,\n",
              "          3.81426759e-04,  1.39718161e-04, -2.25150041e-03,\n",
              "          0.00000000e+00,  7.82556995e-03,  8.23717658e-05,\n",
              "         -1.92953295e-03,  1.07356898e-04],\n",
              "        [-1.34053894e-04, -3.02934652e-04,  4.08806181e-04,\n",
              "          4.40502098e-05, -3.74523784e-05, -1.12466426e-04,\n",
              "         -3.31559499e-04,  6.19922201e-05, -1.91646907e-03,\n",
              "         -1.21257170e-03,  0.00000000e+00,  0.00000000e+00,\n",
              "          2.96045138e-04, -5.72735462e-04, -2.50677559e-03,\n",
              "          0.00000000e+00,  8.23717658e-05,  7.79334260e-03,\n",
              "         -1.41563287e-03, -1.42956578e-04],\n",
              "        [-2.33246425e-03,  4.98864526e-04, -1.43701837e-03,\n",
              "         -1.44123977e-03, -1.59797949e-03, -2.41130608e-03,\n",
              "         -5.35334165e-04, -1.14913245e-03,  1.63029652e-03,\n",
              "         -2.77938295e-03,  0.00000000e+00,  0.00000000e+00,\n",
              "         -2.32036455e-03, -1.14102058e-03,  4.69231081e-03,\n",
              "          0.00000000e+00, -1.92953295e-03, -1.41563287e-03,\n",
              "          1.51426335e-02, -1.47269683e-03],\n",
              "        [-1.76872982e-05, -9.71336358e-05, -1.76680884e-04,\n",
              "         -3.11892853e-04, -2.54224230e-04,  9.70734846e-04,\n",
              "         -3.63489884e-04, -5.28485046e-04, -1.48591628e-03,\n",
              "         -4.47185782e-04,  0.00000000e+00,  0.00000000e+00,\n",
              "         -4.48166554e-04, -4.72012173e-05, -1.11430271e-03,\n",
              "          0.00000000e+00,  1.07356898e-04, -1.42956578e-04,\n",
              "         -1.47269683e-03,  5.83092804e-03]]])"
            ]
          },
          "metadata": {},
          "execution_count": 61
        }
      ],
      "source": [
        "gm.covariances_"
      ]
    },
    {
      "cell_type": "code",
      "execution_count": 62,
      "metadata": {
        "id": "e-M8inP07nDV",
        "outputId": "bda8d377-6e9a-460e-f322-d33349a313f2",
        "colab": {
          "base_uri": "https://localhost:8080/"
        }
      },
      "outputs": [
        {
          "output_type": "execute_result",
          "data": {
            "text/plain": [
              "True"
            ]
          },
          "metadata": {},
          "execution_count": 62
        }
      ],
      "source": [
        "gm.converged_"
      ]
    },
    {
      "cell_type": "code",
      "execution_count": 63,
      "metadata": {
        "id": "YbbpKLxF8PFU",
        "outputId": "5ba1984b-fa7e-4369-8377-af67fef2230c",
        "colab": {
          "base_uri": "https://localhost:8080/"
        }
      },
      "outputs": [
        {
          "output_type": "execute_result",
          "data": {
            "text/plain": [
              "14"
            ]
          },
          "metadata": {},
          "execution_count": 63
        }
      ],
      "source": [
        "gm.n_iter_"
      ]
    },
    {
      "cell_type": "code",
      "execution_count": 65,
      "metadata": {
        "id": "v2DZVNiw8wnT",
        "outputId": "0d8b1a70-5343-49a5-b1ba-2ab1b307f4bf",
        "colab": {
          "base_uri": "https://localhost:8080/",
          "height": 489
        }
      },
      "outputs": [
        {
          "output_type": "stream",
          "name": "stdout",
          "text": [
            "Silhouette Score: 0.06127575738151311\n"
          ]
        },
        {
          "output_type": "display_data",
          "data": {
            "text/plain": [
              "<Figure size 640x480 with 2 Axes>"
            ],
            "image/png": "[encoded data removed]"
          },
          "metadata": {}
        }
      ],
      "source": [
        "predicted_labels = gm.predict(X)\n",
        "\n",
        "# Calculate the Silhouette Score\n",
        "silhouette_avg = silhouette_score(X, predicted_labels)\n",
        "print(f\"Silhouette Score: {silhouette_avg}\")\n",
        "\n",
        "# Visualize the clustering results\n",
        "pca = PCA(n_components=2)\n",
        "X_pca = pca.fit_transform(X)\n",
        "\n",
        "plt.scatter(X_pca[:, 0], X_pca[:, 1], c=predicted_labels, cmap='viridis')\n",
        "plt.title(\"GMM Clustering Results\")\n",
        "plt.xlabel(\"Principal Component 1\")\n",
        "plt.ylabel(\"Principal Component 2\")\n",
        "plt.colorbar()\n",
        "plt.show()"
      ]
    }
  ],
  "metadata": {
    "colab": {
      "provenance": []
    },
    "kernelspec": {
      "display_name": "Python 3",
      "name": "python3"
    },
    "language_info": {
      "name": "python"
    }
  },
  "nbformat": 4,
  "nbformat_minor": 0
}