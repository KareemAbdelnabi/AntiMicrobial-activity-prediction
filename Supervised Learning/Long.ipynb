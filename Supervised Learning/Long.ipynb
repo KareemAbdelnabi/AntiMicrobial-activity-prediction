{
  "cells": [
    {
      "cell_type": "markdown",
      "metadata": {
        "id": "nrwYJ09LzDFP"
      },
      "source": [
        "\n",
        "\n",
        "# Setting up the data of AAC descriptor extracted using iLearnPlus"
      ]
    },
    {
      "cell_type": "code",
      "execution_count": 2,
      "metadata": {
        "colab": {
          "base_uri": "https://localhost:8080/",
          "height": 300
        },
        "id": "JLuN5ulxc3rR",
        "outputId": "d3e91b63-6be3-48cf-be7e-1277dc76bbf2"
      },
      "outputs": [
        {
          "output_type": "execute_result",
          "data": {
            "text/plain": [
              "   0         1         2         3         4         5         6         7   \\\n",
              "0   0  0.037736  0.113208  0.094340  0.075472  0.000000  0.075472  0.037736   \n",
              "1   0  0.096154  0.019231  0.019231  0.019231  0.000000  0.134615  0.000000   \n",
              "2   0  0.161290  0.048387  0.000000  0.048387  0.032258  0.241935  0.016129   \n",
              "3   0  0.018182  0.018182  0.036364  0.090909  0.000000  0.254545  0.018182   \n",
              "4   0  0.057692  0.115385  0.038462  0.019231  0.057692  0.173077  0.000000   \n",
              "\n",
              "         8         9   ...        11        12        13        14        15  \\\n",
              "0  0.037736  0.037736  ...  0.018868  0.037736  0.018868  0.018868  0.056604   \n",
              "1  0.076923  0.057692  ...  0.019231  0.019231  0.134615  0.115385  0.038462   \n",
              "2  0.016129  0.064516  ...  0.016129  0.064516  0.016129  0.000000  0.032258   \n",
              "3  0.000000  0.000000  ...  0.018182  0.036364  0.054545  0.072727  0.145455   \n",
              "4  0.038462  0.115385  ...  0.057692  0.000000  0.038462  0.000000  0.019231   \n",
              "\n",
              "         16        17        18        19        20  \n",
              "0  0.056604  0.000000  0.056604  0.037736  0.094340  \n",
              "1  0.076923  0.019231  0.076923  0.000000  0.019231  \n",
              "2  0.064516  0.016129  0.064516  0.048387  0.032258  \n",
              "3  0.090909  0.000000  0.036364  0.000000  0.109091  \n",
              "4  0.038462  0.038462  0.057692  0.019231  0.000000  \n",
              "\n",
              "[5 rows x 21 columns]"
            ],
            "text/html": [
              "\n",
              "\n",
              "  <div id=\"df-40504ad2-0ab4-46c1-825c-4bbaaf5984b9\">\n",
              "    <div class=\"colab-df-container\">\n",
              "      <div>\n",
              "<style scoped>\n",
              "    .dataframe tbody tr th:only-of-type {\n",
              "        vertical-align: middle;\n",
              "    }\n",
              "\n",
              "    .dataframe tbody tr th {\n",
              "        vertical-align: top;\n",
              "    }\n",
              "\n",
              "    .dataframe thead th {\n",
              "        text-align: right;\n",
              "    }\n",
              "</style>\n",
              "<table border=\"1\" class=\"dataframe\">\n",
              "  <thead>\n",
              "    <tr style=\"text-align: right;\">\n",
              "      <th></th>\n",
              "      <th>0</th>\n",
              "      <th>1</th>\n",
              "      <th>2</th>\n",
              "      <th>3</th>\n",
              "      <th>4</th>\n",
              "      <th>5</th>\n",
              "      <th>6</th>\n",
              "      <th>7</th>\n",
              "      <th>8</th>\n",
              "      <th>9</th>\n",
              "      <th>...</th>\n",
              "      <th>11</th>\n",
              "      <th>12</th>\n",
              "      <th>13</th>\n",
              "      <th>14</th>\n",
              "      <th>15</th>\n",
              "      <th>16</th>\n",
              "      <th>17</th>\n",
              "      <th>18</th>\n",
              "      <th>19</th>\n",
              "      <th>20</th>\n",
              "    </tr>\n",
              "  </thead>\n",
              "  <tbody>\n",
              "    <tr>\n",
              "      <th>0</th>\n",
              "      <td>0</td>\n",
              "      <td>0.037736</td>\n",
              "      <td>0.113208</td>\n",
              "      <td>0.094340</td>\n",
              "      <td>0.075472</td>\n",
              "      <td>0.000000</td>\n",
              "      <td>0.075472</td>\n",
              "      <td>0.037736</td>\n",
              "      <td>0.037736</td>\n",
              "      <td>0.037736</td>\n",
              "      <td>...</td>\n",
              "      <td>0.018868</td>\n",
              "      <td>0.037736</td>\n",
              "      <td>0.018868</td>\n",
              "      <td>0.018868</td>\n",
              "      <td>0.056604</td>\n",
              "      <td>0.056604</td>\n",
              "      <td>0.000000</td>\n",
              "      <td>0.056604</td>\n",
              "      <td>0.037736</td>\n",
              "      <td>0.094340</td>\n",
              "    </tr>\n",
              "    <tr>\n",
              "      <th>1</th>\n",
              "      <td>0</td>\n",
              "      <td>0.096154</td>\n",
              "      <td>0.019231</td>\n",
              "      <td>0.019231</td>\n",
              "      <td>0.019231</td>\n",
              "      <td>0.000000</td>\n",
              "      <td>0.134615</td>\n",
              "      <td>0.000000</td>\n",
              "      <td>0.076923</td>\n",
              "      <td>0.057692</td>\n",
              "      <td>...</td>\n",
              "      <td>0.019231</td>\n",
              "      <td>0.019231</td>\n",
              "      <td>0.134615</td>\n",
              "      <td>0.115385</td>\n",
              "      <td>0.038462</td>\n",
              "      <td>0.076923</td>\n",
              "      <td>0.019231</td>\n",
              "      <td>0.076923</td>\n",
              "      <td>0.000000</td>\n",
              "      <td>0.019231</td>\n",
              "    </tr>\n",
              "    <tr>\n",
              "      <th>2</th>\n",
              "      <td>0</td>\n",
              "      <td>0.161290</td>\n",
              "      <td>0.048387</td>\n",
              "      <td>0.000000</td>\n",
              "      <td>0.048387</td>\n",
              "      <td>0.032258</td>\n",
              "      <td>0.241935</td>\n",
              "      <td>0.016129</td>\n",
              "      <td>0.016129</td>\n",
              "      <td>0.064516</td>\n",
              "      <td>...</td>\n",
              "      <td>0.016129</td>\n",
              "      <td>0.064516</td>\n",
              "      <td>0.016129</td>\n",
              "      <td>0.000000</td>\n",
              "      <td>0.032258</td>\n",
              "      <td>0.064516</td>\n",
              "      <td>0.016129</td>\n",
              "      <td>0.064516</td>\n",
              "      <td>0.048387</td>\n",
              "      <td>0.032258</td>\n",
              "    </tr>\n",
              "    <tr>\n",
              "      <th>3</th>\n",
              "      <td>0</td>\n",
              "      <td>0.018182</td>\n",
              "      <td>0.018182</td>\n",
              "      <td>0.036364</td>\n",
              "      <td>0.090909</td>\n",
              "      <td>0.000000</td>\n",
              "      <td>0.254545</td>\n",
              "      <td>0.018182</td>\n",
              "      <td>0.000000</td>\n",
              "      <td>0.000000</td>\n",
              "      <td>...</td>\n",
              "      <td>0.018182</td>\n",
              "      <td>0.036364</td>\n",
              "      <td>0.054545</td>\n",
              "      <td>0.072727</td>\n",
              "      <td>0.145455</td>\n",
              "      <td>0.090909</td>\n",
              "      <td>0.000000</td>\n",
              "      <td>0.036364</td>\n",
              "      <td>0.000000</td>\n",
              "      <td>0.109091</td>\n",
              "    </tr>\n",
              "    <tr>\n",
              "      <th>4</th>\n",
              "      <td>0</td>\n",
              "      <td>0.057692</td>\n",
              "      <td>0.115385</td>\n",
              "      <td>0.038462</td>\n",
              "      <td>0.019231</td>\n",
              "      <td>0.057692</td>\n",
              "      <td>0.173077</td>\n",
              "      <td>0.000000</td>\n",
              "      <td>0.038462</td>\n",
              "      <td>0.115385</td>\n",
              "      <td>...</td>\n",
              "      <td>0.057692</td>\n",
              "      <td>0.000000</td>\n",
              "      <td>0.038462</td>\n",
              "      <td>0.000000</td>\n",
              "      <td>0.019231</td>\n",
              "      <td>0.038462</td>\n",
              "      <td>0.038462</td>\n",
              "      <td>0.057692</td>\n",
              "      <td>0.019231</td>\n",
              "      <td>0.000000</td>\n",
              "    </tr>\n",
              "  </tbody>\n",
              "</table>\n",
              "<p>5 rows × 21 columns</p>\n",
              "</div>\n",
              "      <button class=\"colab-df-convert\" onclick=\"convertToInteractive('df-40504ad2-0ab4-46c1-825c-4bbaaf5984b9')\"\n",
              "              title=\"Convert this dataframe to an interactive table.\"\n",
              "              style=\"display:none;\">\n",
              "\n",
              "  <svg xmlns=\"http://www.w3.org/2000/svg\" height=\"24px\"viewBox=\"0 0 24 24\"\n",
              "       width=\"24px\">\n",
              "    <path d=\"M0 0h24v24H0V0z\" fill=\"none\"/>\n",
              "    <path d=\"M18.56 5.44l.94 2.06.94-2.06 2.06-.94-2.06-.94-.94-2.06-.94 2.06-2.06.94zm-11 1L8.5 8.5l.94-2.06 2.06-.94-2.06-.94L8.5 2.5l-.94 2.06-2.06.94zm10 10l.94 2.06.94-2.06 2.06-.94-2.06-.94-.94-2.06-.94 2.06-2.06.94z\"/><path d=\"M17.41 7.96l-1.37-1.37c-.4-.4-.92-.59-1.43-.59-.52 0-1.04.2-1.43.59L10.3 9.45l-7.72 7.72c-.78.78-.78 2.05 0 2.83L4 21.41c.39.39.9.59 1.41.59.51 0 1.02-.2 1.41-.59l7.78-7.78 2.81-2.81c.8-.78.8-2.07 0-2.86zM5.41 20L4 18.59l7.72-7.72 1.47 1.35L5.41 20z\"/>\n",
              "  </svg>\n",
              "      </button>\n",
              "\n",
              "\n",
              "\n",
              "    <div id=\"df-f7cfdec4-fbb9-4472-b3b9-24221ba374de\">\n",
              "      <button class=\"colab-df-quickchart\" onclick=\"quickchart('df-f7cfdec4-fbb9-4472-b3b9-24221ba374de')\"\n",
              "              title=\"Suggest charts.\"\n",
              "              style=\"display:none;\">\n",
              "\n",
              "<svg xmlns=\"http://www.w3.org/2000/svg\" height=\"24px\"viewBox=\"0 0 24 24\"\n",
              "     width=\"24px\">\n",
              "    <g>\n",
              "        <path d=\"M19 3H5c-1.1 0-2 .9-2 2v14c0 1.1.9 2 2 2h14c1.1 0 2-.9 2-2V5c0-1.1-.9-2-2-2zM9 17H7v-7h2v7zm4 0h-2V7h2v10zm4 0h-2v-4h2v4z\"/>\n",
              "    </g>\n",
              "</svg>\n",
              "      </button>\n",
              "    </div>\n",
              "\n",
              "<style>\n",
              "  .colab-df-quickchart {\n",
              "    background-color: #E8F0FE;\n",
              "    border: none;\n",
              "    border-radius: 50%;\n",
              "    cursor: pointer;\n",
              "    display: none;\n",
              "    fill: #1967D2;\n",
              "    height: 32px;\n",
              "    padding: 0 0 0 0;\n",
              "    width: 32px;\n",
              "  }\n",
              "\n",
              "  .colab-df-quickchart:hover {\n",
              "    background-color: #E2EBFA;\n",
              "    box-shadow: 0px 1px 2px rgba(60, 64, 67, 0.3), 0px 1px 3px 1px rgba(60, 64, 67, 0.15);\n",
              "    fill: #174EA6;\n",
              "  }\n",
              "\n",
              "  [theme=dark] .colab-df-quickchart {\n",
              "    background-color: #3B4455;\n",
              "    fill: #D2E3FC;\n",
              "  }\n",
              "\n",
              "  [theme=dark] .colab-df-quickchart:hover {\n",
              "    background-color: #434B5C;\n",
              "    box-shadow: 0px 1px 3px 1px rgba(0, 0, 0, 0.15);\n",
              "    filter: drop-shadow(0px 1px 2px rgba(0, 0, 0, 0.3));\n",
              "    fill: #FFFFFF;\n",
              "  }\n",
              "</style>\n",
              "\n",
              "    <script>\n",
              "      async function quickchart(key) {\n",
              "        const containerElement = document.querySelector('#' + key);\n",
              "        const charts = await google.colab.kernel.invokeFunction(\n",
              "            'suggestCharts', [key], {});\n",
              "      }\n",
              "    </script>\n",
              "\n",
              "      <script>\n",
              "\n",
              "function displayQuickchartButton(domScope) {\n",
              "  let quickchartButtonEl =\n",
              "    domScope.querySelector('#df-f7cfdec4-fbb9-4472-b3b9-24221ba374de button.colab-df-quickchart');\n",
              "  quickchartButtonEl.style.display =\n",
              "    google.colab.kernel.accessAllowed ? 'block' : 'none';\n",
              "}\n",
              "\n",
              "        displayQuickchartButton(document);\n",
              "      </script>\n",
              "      <style>\n",
              "    .colab-df-container {\n",
              "      display:flex;\n",
              "      flex-wrap:wrap;\n",
              "      gap: 12px;\n",
              "    }\n",
              "\n",
              "    .colab-df-convert {\n",
              "      background-color: #E8F0FE;\n",
              "      border: none;\n",
              "      border-radius: 50%;\n",
              "      cursor: pointer;\n",
              "      display: none;\n",
              "      fill: #1967D2;\n",
              "      height: 32px;\n",
              "      padding: 0 0 0 0;\n",
              "      width: 32px;\n",
              "    }\n",
              "\n",
              "    .colab-df-convert:hover {\n",
              "      background-color: #E2EBFA;\n",
              "      box-shadow: 0px 1px 2px rgba(60, 64, 67, 0.3), 0px 1px 3px 1px rgba(60, 64, 67, 0.15);\n",
              "      fill: #174EA6;\n",
              "    }\n",
              "\n",
              "    [theme=dark] .colab-df-convert {\n",
              "      background-color: #3B4455;\n",
              "      fill: #D2E3FC;\n",
              "    }\n",
              "\n",
              "    [theme=dark] .colab-df-convert:hover {\n",
              "      background-color: #434B5C;\n",
              "      box-shadow: 0px 1px 3px 1px rgba(0, 0, 0, 0.15);\n",
              "      filter: drop-shadow(0px 1px 2px rgba(0, 0, 0, 0.3));\n",
              "      fill: #FFFFFF;\n",
              "    }\n",
              "  </style>\n",
              "\n",
              "      <script>\n",
              "        const buttonEl =\n",
              "          document.querySelector('#df-40504ad2-0ab4-46c1-825c-4bbaaf5984b9 button.colab-df-convert');\n",
              "        buttonEl.style.display =\n",
              "          google.colab.kernel.accessAllowed ? 'block' : 'none';\n",
              "\n",
              "        async function convertToInteractive(key) {\n",
              "          const element = document.querySelector('#df-40504ad2-0ab4-46c1-825c-4bbaaf5984b9');\n",
              "          const dataTable =\n",
              "            await google.colab.kernel.invokeFunction('convertToInteractive',\n",
              "                                                     [key], {});\n",
              "          if (!dataTable) return;\n",
              "\n",
              "          const docLinkHtml = 'Like what you see? Visit the ' +\n",
              "            '<a target=\"_blank\" href=https://colab.research.google.com/notebooks/data_table.ipynb>data table notebook</a>'\n",
              "            + ' to learn more about interactive tables.';\n",
              "          element.innerHTML = '';\n",
              "          dataTable['output_type'] = 'display_data';\n",
              "          await google.colab.output.renderOutput(dataTable, element);\n",
              "          const docLink = document.createElement('div');\n",
              "          docLink.innerHTML = docLinkHtml;\n",
              "          element.appendChild(docLink);\n",
              "        }\n",
              "      </script>\n",
              "    </div>\n",
              "  </div>\n"
            ]
          },
          "metadata": {},
          "execution_count": 2
        }
      ],
      "source": [
        "import pandas as pd\n",
        "pos=pd.read_csv(\"/content/LongPosAAC.csv\",header=None)\n",
        "neg=pd.read_csv(\"/content/LongNegAAC.csv\",header=None)\n",
        "pos.head()"
      ]
    },
    {
      "cell_type": "code",
      "execution_count": 3,
      "metadata": {
        "colab": {
          "base_uri": "https://localhost:8080/"
        },
        "id": "ydDT_gHZgrA3",
        "outputId": "a4c677a0-3c40-473d-c2e5-a548484598dc"
      },
      "outputs": [
        {
          "output_type": "stream",
          "name": "stdout",
          "text": [
            "(3776, 21)\n",
            "(29640, 21)\n"
          ]
        }
      ],
      "source": [
        "print(pos.shape)\n",
        "print(neg.shape)\n",
        "\n"
      ]
    },
    {
      "cell_type": "code",
      "execution_count": 8,
      "metadata": {
        "id": "wwLDan1_iyWI",
        "colab": {
          "base_uri": "https://localhost:8080/",
          "height": 300
        },
        "outputId": "24198da1-465d-4f10-de31-459bc8b08271"
      },
      "outputs": [
        {
          "output_type": "execute_result",
          "data": {
            "text/plain": [
              "   0         1         2         3         4         5         6         7   \\\n",
              "0   0  0.037736  0.113208  0.094340  0.075472  0.000000  0.075472  0.037736   \n",
              "1   0  0.096154  0.019231  0.019231  0.019231  0.000000  0.134615  0.000000   \n",
              "2   0  0.161290  0.048387  0.000000  0.048387  0.032258  0.241935  0.016129   \n",
              "3   0  0.018182  0.018182  0.036364  0.090909  0.000000  0.254545  0.018182   \n",
              "4   0  0.057692  0.115385  0.038462  0.019231  0.057692  0.173077  0.000000   \n",
              "\n",
              "         8         9   ...        11        12        13        14        15  \\\n",
              "0  0.037736  0.037736  ...  0.018868  0.037736  0.018868  0.018868  0.056604   \n",
              "1  0.076923  0.057692  ...  0.019231  0.019231  0.134615  0.115385  0.038462   \n",
              "2  0.016129  0.064516  ...  0.016129  0.064516  0.016129  0.000000  0.032258   \n",
              "3  0.000000  0.000000  ...  0.018182  0.036364  0.054545  0.072727  0.145455   \n",
              "4  0.038462  0.115385  ...  0.057692  0.000000  0.038462  0.000000  0.019231   \n",
              "\n",
              "         16        17        18        19        20  \n",
              "0  0.056604  0.000000  0.056604  0.037736  0.094340  \n",
              "1  0.076923  0.019231  0.076923  0.000000  0.019231  \n",
              "2  0.064516  0.016129  0.064516  0.048387  0.032258  \n",
              "3  0.090909  0.000000  0.036364  0.000000  0.109091  \n",
              "4  0.038462  0.038462  0.057692  0.019231  0.000000  \n",
              "\n",
              "[5 rows x 21 columns]"
            ],
            "text/html": [
              "\n",
              "\n",
              "  <div id=\"df-6a5649fd-a2e7-4fa0-af48-55ae09cb430e\">\n",
              "    <div class=\"colab-df-container\">\n",
              "      <div>\n",
              "<style scoped>\n",
              "    .dataframe tbody tr th:only-of-type {\n",
              "        vertical-align: middle;\n",
              "    }\n",
              "\n",
              "    .dataframe tbody tr th {\n",
              "        vertical-align: top;\n",
              "    }\n",
              "\n",
              "    .dataframe thead th {\n",
              "        text-align: right;\n",
              "    }\n",
              "</style>\n",
              "<table border=\"1\" class=\"dataframe\">\n",
              "  <thead>\n",
              "    <tr style=\"text-align: right;\">\n",
              "      <th></th>\n",
              "      <th>0</th>\n",
              "      <th>1</th>\n",
              "      <th>2</th>\n",
              "      <th>3</th>\n",
              "      <th>4</th>\n",
              "      <th>5</th>\n",
              "      <th>6</th>\n",
              "      <th>7</th>\n",
              "      <th>8</th>\n",
              "      <th>9</th>\n",
              "      <th>...</th>\n",
              "      <th>11</th>\n",
              "      <th>12</th>\n",
              "      <th>13</th>\n",
              "      <th>14</th>\n",
              "      <th>15</th>\n",
              "      <th>16</th>\n",
              "      <th>17</th>\n",
              "      <th>18</th>\n",
              "      <th>19</th>\n",
              "      <th>20</th>\n",
              "    </tr>\n",
              "  </thead>\n",
              "  <tbody>\n",
              "    <tr>\n",
              "      <th>0</th>\n",
              "      <td>0</td>\n",
              "      <td>0.037736</td>\n",
              "      <td>0.113208</td>\n",
              "      <td>0.094340</td>\n",
              "      <td>0.075472</td>\n",
              "      <td>0.000000</td>\n",
              "      <td>0.075472</td>\n",
              "      <td>0.037736</td>\n",
              "      <td>0.037736</td>\n",
              "      <td>0.037736</td>\n",
              "      <td>...</td>\n",
              "      <td>0.018868</td>\n",
              "      <td>0.037736</td>\n",
              "      <td>0.018868</td>\n",
              "      <td>0.018868</td>\n",
              "      <td>0.056604</td>\n",
              "      <td>0.056604</td>\n",
              "      <td>0.000000</td>\n",
              "      <td>0.056604</td>\n",
              "      <td>0.037736</td>\n",
              "      <td>0.094340</td>\n",
              "    </tr>\n",
              "    <tr>\n",
              "      <th>1</th>\n",
              "      <td>0</td>\n",
              "      <td>0.096154</td>\n",
              "      <td>0.019231</td>\n",
              "      <td>0.019231</td>\n",
              "      <td>0.019231</td>\n",
              "      <td>0.000000</td>\n",
              "      <td>0.134615</td>\n",
              "      <td>0.000000</td>\n",
              "      <td>0.076923</td>\n",
              "      <td>0.057692</td>\n",
              "      <td>...</td>\n",
              "      <td>0.019231</td>\n",
              "      <td>0.019231</td>\n",
              "      <td>0.134615</td>\n",
              "      <td>0.115385</td>\n",
              "      <td>0.038462</td>\n",
              "      <td>0.076923</td>\n",
              "      <td>0.019231</td>\n",
              "      <td>0.076923</td>\n",
              "      <td>0.000000</td>\n",
              "      <td>0.019231</td>\n",
              "    </tr>\n",
              "    <tr>\n",
              "      <th>2</th>\n",
              "      <td>0</td>\n",
              "      <td>0.161290</td>\n",
              "      <td>0.048387</td>\n",
              "      <td>0.000000</td>\n",
              "      <td>0.048387</td>\n",
              "      <td>0.032258</td>\n",
              "      <td>0.241935</td>\n",
              "      <td>0.016129</td>\n",
              "      <td>0.016129</td>\n",
              "      <td>0.064516</td>\n",
              "      <td>...</td>\n",
              "      <td>0.016129</td>\n",
              "      <td>0.064516</td>\n",
              "      <td>0.016129</td>\n",
              "      <td>0.000000</td>\n",
              "      <td>0.032258</td>\n",
              "      <td>0.064516</td>\n",
              "      <td>0.016129</td>\n",
              "      <td>0.064516</td>\n",
              "      <td>0.048387</td>\n",
              "      <td>0.032258</td>\n",
              "    </tr>\n",
              "    <tr>\n",
              "      <th>3</th>\n",
              "      <td>0</td>\n",
              "      <td>0.018182</td>\n",
              "      <td>0.018182</td>\n",
              "      <td>0.036364</td>\n",
              "      <td>0.090909</td>\n",
              "      <td>0.000000</td>\n",
              "      <td>0.254545</td>\n",
              "      <td>0.018182</td>\n",
              "      <td>0.000000</td>\n",
              "      <td>0.000000</td>\n",
              "      <td>...</td>\n",
              "      <td>0.018182</td>\n",
              "      <td>0.036364</td>\n",
              "      <td>0.054545</td>\n",
              "      <td>0.072727</td>\n",
              "      <td>0.145455</td>\n",
              "      <td>0.090909</td>\n",
              "      <td>0.000000</td>\n",
              "      <td>0.036364</td>\n",
              "      <td>0.000000</td>\n",
              "      <td>0.109091</td>\n",
              "    </tr>\n",
              "    <tr>\n",
              "      <th>4</th>\n",
              "      <td>0</td>\n",
              "      <td>0.057692</td>\n",
              "      <td>0.115385</td>\n",
              "      <td>0.038462</td>\n",
              "      <td>0.019231</td>\n",
              "      <td>0.057692</td>\n",
              "      <td>0.173077</td>\n",
              "      <td>0.000000</td>\n",
              "      <td>0.038462</td>\n",
              "      <td>0.115385</td>\n",
              "      <td>...</td>\n",
              "      <td>0.057692</td>\n",
              "      <td>0.000000</td>\n",
              "      <td>0.038462</td>\n",
              "      <td>0.000000</td>\n",
              "      <td>0.019231</td>\n",
              "      <td>0.038462</td>\n",
              "      <td>0.038462</td>\n",
              "      <td>0.057692</td>\n",
              "      <td>0.019231</td>\n",
              "      <td>0.000000</td>\n",
              "    </tr>\n",
              "  </tbody>\n",
              "</table>\n",
              "<p>5 rows × 21 columns</p>\n",
              "</div>\n",
              "      <button class=\"colab-df-convert\" onclick=\"convertToInteractive('df-6a5649fd-a2e7-4fa0-af48-55ae09cb430e')\"\n",
              "              title=\"Convert this dataframe to an interactive table.\"\n",
              "              style=\"display:none;\">\n",
              "\n",
              "  <svg xmlns=\"http://www.w3.org/2000/svg\" height=\"24px\"viewBox=\"0 0 24 24\"\n",
              "       width=\"24px\">\n",
              "    <path d=\"M0 0h24v24H0V0z\" fill=\"none\"/>\n",
              "    <path d=\"M18.56 5.44l.94 2.06.94-2.06 2.06-.94-2.06-.94-.94-2.06-.94 2.06-2.06.94zm-11 1L8.5 8.5l.94-2.06 2.06-.94-2.06-.94L8.5 2.5l-.94 2.06-2.06.94zm10 10l.94 2.06.94-2.06 2.06-.94-2.06-.94-.94-2.06-.94 2.06-2.06.94z\"/><path d=\"M17.41 7.96l-1.37-1.37c-.4-.4-.92-.59-1.43-.59-.52 0-1.04.2-1.43.59L10.3 9.45l-7.72 7.72c-.78.78-.78 2.05 0 2.83L4 21.41c.39.39.9.59 1.41.59.51 0 1.02-.2 1.41-.59l7.78-7.78 2.81-2.81c.8-.78.8-2.07 0-2.86zM5.41 20L4 18.59l7.72-7.72 1.47 1.35L5.41 20z\"/>\n",
              "  </svg>\n",
              "      </button>\n",
              "\n",
              "\n",
              "\n",
              "    <div id=\"df-a21ecb89-e113-471a-9944-32f49f154bae\">\n",
              "      <button class=\"colab-df-quickchart\" onclick=\"quickchart('df-a21ecb89-e113-471a-9944-32f49f154bae')\"\n",
              "              title=\"Suggest charts.\"\n",
              "              style=\"display:none;\">\n",
              "\n",
              "<svg xmlns=\"http://www.w3.org/2000/svg\" height=\"24px\"viewBox=\"0 0 24 24\"\n",
              "     width=\"24px\">\n",
              "    <g>\n",
              "        <path d=\"M19 3H5c-1.1 0-2 .9-2 2v14c0 1.1.9 2 2 2h14c1.1 0 2-.9 2-2V5c0-1.1-.9-2-2-2zM9 17H7v-7h2v7zm4 0h-2V7h2v10zm4 0h-2v-4h2v4z\"/>\n",
              "    </g>\n",
              "</svg>\n",
              "      </button>\n",
              "    </div>\n",
              "\n",
              "<style>\n",
              "  .colab-df-quickchart {\n",
              "    background-color: #E8F0FE;\n",
              "    border: none;\n",
              "    border-radius: 50%;\n",
              "    cursor: pointer;\n",
              "    display: none;\n",
              "    fill: #1967D2;\n",
              "    height: 32px;\n",
              "    padding: 0 0 0 0;\n",
              "    width: 32px;\n",
              "  }\n",
              "\n",
              "  .colab-df-quickchart:hover {\n",
              "    background-color: #E2EBFA;\n",
              "    box-shadow: 0px 1px 2px rgba(60, 64, 67, 0.3), 0px 1px 3px 1px rgba(60, 64, 67, 0.15);\n",
              "    fill: #174EA6;\n",
              "  }\n",
              "\n",
              "  [theme=dark] .colab-df-quickchart {\n",
              "    background-color: #3B4455;\n",
              "    fill: #D2E3FC;\n",
              "  }\n",
              "\n",
              "  [theme=dark] .colab-df-quickchart:hover {\n",
              "    background-color: #434B5C;\n",
              "    box-shadow: 0px 1px 3px 1px rgba(0, 0, 0, 0.15);\n",
              "    filter: drop-shadow(0px 1px 2px rgba(0, 0, 0, 0.3));\n",
              "    fill: #FFFFFF;\n",
              "  }\n",
              "</style>\n",
              "\n",
              "    <script>\n",
              "      async function quickchart(key) {\n",
              "        const containerElement = document.querySelector('#' + key);\n",
              "        const charts = await google.colab.kernel.invokeFunction(\n",
              "            'suggestCharts', [key], {});\n",
              "      }\n",
              "    </script>\n",
              "\n",
              "      <script>\n",
              "\n",
              "function displayQuickchartButton(domScope) {\n",
              "  let quickchartButtonEl =\n",
              "    domScope.querySelector('#df-a21ecb89-e113-471a-9944-32f49f154bae button.colab-df-quickchart');\n",
              "  quickchartButtonEl.style.display =\n",
              "    google.colab.kernel.accessAllowed ? 'block' : 'none';\n",
              "}\n",
              "\n",
              "        displayQuickchartButton(document);\n",
              "      </script>\n",
              "      <style>\n",
              "    .colab-df-container {\n",
              "      display:flex;\n",
              "      flex-wrap:wrap;\n",
              "      gap: 12px;\n",
              "    }\n",
              "\n",
              "    .colab-df-convert {\n",
              "      background-color: #E8F0FE;\n",
              "      border: none;\n",
              "      border-radius: 50%;\n",
              "      cursor: pointer;\n",
              "      display: none;\n",
              "      fill: #1967D2;\n",
              "      height: 32px;\n",
              "      padding: 0 0 0 0;\n",
              "      width: 32px;\n",
              "    }\n",
              "\n",
              "    .colab-df-convert:hover {\n",
              "      background-color: #E2EBFA;\n",
              "      box-shadow: 0px 1px 2px rgba(60, 64, 67, 0.3), 0px 1px 3px 1px rgba(60, 64, 67, 0.15);\n",
              "      fill: #174EA6;\n",
              "    }\n",
              "\n",
              "    [theme=dark] .colab-df-convert {\n",
              "      background-color: #3B4455;\n",
              "      fill: #D2E3FC;\n",
              "    }\n",
              "\n",
              "    [theme=dark] .colab-df-convert:hover {\n",
              "      background-color: #434B5C;\n",
              "      box-shadow: 0px 1px 3px 1px rgba(0, 0, 0, 0.15);\n",
              "      filter: drop-shadow(0px 1px 2px rgba(0, 0, 0, 0.3));\n",
              "      fill: #FFFFFF;\n",
              "    }\n",
              "  </style>\n",
              "\n",
              "      <script>\n",
              "        const buttonEl =\n",
              "          document.querySelector('#df-6a5649fd-a2e7-4fa0-af48-55ae09cb430e button.colab-df-convert');\n",
              "        buttonEl.style.display =\n",
              "          google.colab.kernel.accessAllowed ? 'block' : 'none';\n",
              "\n",
              "        async function convertToInteractive(key) {\n",
              "          const element = document.querySelector('#df-6a5649fd-a2e7-4fa0-af48-55ae09cb430e');\n",
              "          const dataTable =\n",
              "            await google.colab.kernel.invokeFunction('convertToInteractive',\n",
              "                                                     [key], {});\n",
              "          if (!dataTable) return;\n",
              "\n",
              "          const docLinkHtml = 'Like what you see? Visit the ' +\n",
              "            '<a target=\"_blank\" href=https://colab.research.google.com/notebooks/data_table.ipynb>data table notebook</a>'\n",
              "            + ' to learn more about interactive tables.';\n",
              "          element.innerHTML = '';\n",
              "          dataTable['output_type'] = 'display_data';\n",
              "          await google.colab.output.renderOutput(dataTable, element);\n",
              "          const docLink = document.createElement('div');\n",
              "          docLink.innerHTML = docLinkHtml;\n",
              "          element.appendChild(docLink);\n",
              "        }\n",
              "      </script>\n",
              "    </div>\n",
              "  </div>\n"
            ]
          },
          "metadata": {},
          "execution_count": 8
        }
      ],
      "source": [
        "#merging data of AAC descriptor\n",
        "df=pd.concat([pos,neg.head(3776)])\n",
        "df.head()\n"
      ]
    },
    {
      "cell_type": "code",
      "source": [
        "df = df.drop(df.columns[(df == 0).all()], axis=1)\n"
      ],
      "metadata": {
        "id": "_8sUIuX_Hme_"
      },
      "execution_count": 9,
      "outputs": []
    },
    {
      "cell_type": "code",
      "source": [
        "df.shape"
      ],
      "metadata": {
        "colab": {
          "base_uri": "https://localhost:8080/"
        },
        "id": "CAhESDm3JuKh",
        "outputId": "32e2ec55-a985-4cc3-a8a3-ac372e1f2349"
      },
      "execution_count": 10,
      "outputs": [
        {
          "output_type": "execute_result",
          "data": {
            "text/plain": [
              "(7552, 20)"
            ]
          },
          "metadata": {},
          "execution_count": 10
        }
      ]
    },
    {
      "cell_type": "markdown",
      "metadata": {
        "id": "SUhAOFrygt_A"
      },
      "source": [
        "# Applying Kmean on AAC component only"
      ]
    },
    {
      "cell_type": "code",
      "execution_count": 11,
      "metadata": {
        "id": "Gv4ZBxACgnh-"
      },
      "outputs": [],
      "source": [
        "shuffled_df = df.sample(frac=1).reset_index(drop=True)\n",
        "X=shuffled_df"
      ]
    },
    {
      "cell_type": "code",
      "execution_count": 12,
      "metadata": {
        "id": "sNjRzA9Ng2--"
      },
      "outputs": [],
      "source": [
        "import matplotlib.pyplot as plt"
      ]
    },
    {
      "cell_type": "code",
      "execution_count": 13,
      "metadata": {
        "colab": {
          "base_uri": "https://localhost:8080/",
          "height": 1000
        },
        "id": "R_xuOMNxvcJ7",
        "outputId": "d68e9b44-1af1-4f69-ff1d-27a4faadd75c"
      },
      "outputs": [
        {
          "output_type": "stream",
          "name": "stderr",
          "text": [
            "/usr/local/lib/python3.10/dist-packages/sklearn/cluster/_kmeans.py:870: FutureWarning: The default value of `n_init` will change from 10 to 'auto' in 1.4. Set the value of `n_init` explicitly to suppress the warning\n",
            "  warnings.warn(\n",
            "/usr/local/lib/python3.10/dist-packages/sklearn/cluster/_kmeans.py:870: FutureWarning: The default value of `n_init` will change from 10 to 'auto' in 1.4. Set the value of `n_init` explicitly to suppress the warning\n",
            "  warnings.warn(\n",
            "/usr/local/lib/python3.10/dist-packages/sklearn/cluster/_kmeans.py:870: FutureWarning: The default value of `n_init` will change from 10 to 'auto' in 1.4. Set the value of `n_init` explicitly to suppress the warning\n",
            "  warnings.warn(\n",
            "/usr/local/lib/python3.10/dist-packages/sklearn/cluster/_kmeans.py:870: FutureWarning: The default value of `n_init` will change from 10 to 'auto' in 1.4. Set the value of `n_init` explicitly to suppress the warning\n",
            "  warnings.warn(\n",
            "/usr/local/lib/python3.10/dist-packages/sklearn/cluster/_kmeans.py:870: FutureWarning: The default value of `n_init` will change from 10 to 'auto' in 1.4. Set the value of `n_init` explicitly to suppress the warning\n",
            "  warnings.warn(\n",
            "/usr/local/lib/python3.10/dist-packages/sklearn/cluster/_kmeans.py:870: FutureWarning: The default value of `n_init` will change from 10 to 'auto' in 1.4. Set the value of `n_init` explicitly to suppress the warning\n",
            "  warnings.warn(\n",
            "/usr/local/lib/python3.10/dist-packages/sklearn/cluster/_kmeans.py:870: FutureWarning: The default value of `n_init` will change from 10 to 'auto' in 1.4. Set the value of `n_init` explicitly to suppress the warning\n",
            "  warnings.warn(\n",
            "/usr/local/lib/python3.10/dist-packages/sklearn/cluster/_kmeans.py:870: FutureWarning: The default value of `n_init` will change from 10 to 'auto' in 1.4. Set the value of `n_init` explicitly to suppress the warning\n",
            "  warnings.warn(\n",
            "/usr/local/lib/python3.10/dist-packages/sklearn/cluster/_kmeans.py:870: FutureWarning: The default value of `n_init` will change from 10 to 'auto' in 1.4. Set the value of `n_init` explicitly to suppress the warning\n",
            "  warnings.warn(\n",
            "/usr/local/lib/python3.10/dist-packages/sklearn/cluster/_kmeans.py:870: FutureWarning: The default value of `n_init` will change from 10 to 'auto' in 1.4. Set the value of `n_init` explicitly to suppress the warning\n",
            "  warnings.warn(\n",
            "/usr/local/lib/python3.10/dist-packages/sklearn/cluster/_kmeans.py:870: FutureWarning: The default value of `n_init` will change from 10 to 'auto' in 1.4. Set the value of `n_init` explicitly to suppress the warning\n",
            "  warnings.warn(\n",
            "/usr/local/lib/python3.10/dist-packages/sklearn/cluster/_kmeans.py:870: FutureWarning: The default value of `n_init` will change from 10 to 'auto' in 1.4. Set the value of `n_init` explicitly to suppress the warning\n",
            "  warnings.warn(\n",
            "/usr/local/lib/python3.10/dist-packages/sklearn/cluster/_kmeans.py:870: FutureWarning: The default value of `n_init` will change from 10 to 'auto' in 1.4. Set the value of `n_init` explicitly to suppress the warning\n",
            "  warnings.warn(\n",
            "/usr/local/lib/python3.10/dist-packages/sklearn/cluster/_kmeans.py:870: FutureWarning: The default value of `n_init` will change from 10 to 'auto' in 1.4. Set the value of `n_init` explicitly to suppress the warning\n",
            "  warnings.warn(\n",
            "/usr/local/lib/python3.10/dist-packages/sklearn/cluster/_kmeans.py:870: FutureWarning: The default value of `n_init` will change from 10 to 'auto' in 1.4. Set the value of `n_init` explicitly to suppress the warning\n",
            "  warnings.warn(\n",
            "/usr/local/lib/python3.10/dist-packages/sklearn/cluster/_kmeans.py:870: FutureWarning: The default value of `n_init` will change from 10 to 'auto' in 1.4. Set the value of `n_init` explicitly to suppress the warning\n",
            "  warnings.warn(\n",
            "/usr/local/lib/python3.10/dist-packages/sklearn/cluster/_kmeans.py:870: FutureWarning: The default value of `n_init` will change from 10 to 'auto' in 1.4. Set the value of `n_init` explicitly to suppress the warning\n",
            "  warnings.warn(\n"
          ]
        },
        {
          "output_type": "display_data",
          "data": {
            "text/plain": [
              "<Figure size 640x480 with 1 Axes>"
            ],
            "image/png": "[encoded data removed]"
          },
          "metadata": {}
        }
      ],
      "source": [
        "from sklearn.cluster import KMeans\n",
        "\n",
        "# Perform K-means clustering for different values of k\n",
        "k_values = range(1, 18)\n",
        "inertia_values = []\n",
        "\n",
        "for k in k_values:\n",
        "    kmeans = KMeans(n_clusters=k, random_state=42)\n",
        "    kmeans.fit(X)\n",
        "    inertia_values.append(kmeans.inertia_)\n",
        "\n",
        "# Plotting the elbow curve\n",
        "plt.plot(k_values, inertia_values, marker='o')\n",
        "plt.xlabel('Number of Clusters (k)')\n",
        "plt.ylabel('Inertia')\n",
        "plt.title('Elbow Method')\n",
        "plt.show()"
      ]
    },
    {
      "cell_type": "code",
      "execution_count": 14,
      "metadata": {
        "colab": {
          "base_uri": "https://localhost:8080/"
        },
        "id": "b7ImjijnhYGm",
        "outputId": "983dace6-7c0b-4023-969c-ad619614a210"
      },
      "outputs": [
        {
          "output_type": "stream",
          "name": "stderr",
          "text": [
            "/usr/local/lib/python3.10/dist-packages/sklearn/cluster/_kmeans.py:870: FutureWarning: The default value of `n_init` will change from 10 to 'auto' in 1.4. Set the value of `n_init` explicitly to suppress the warning\n",
            "  warnings.warn(\n"
          ]
        }
      ],
      "source": [
        "from sklearn.cluster import KMeans\n",
        "\n",
        "k=2\n",
        "kmeans=KMeans(n_clusters=k,random_state=42)\n",
        "y_pred=kmeans.fit_predict(pos)"
      ]
    },
    {
      "cell_type": "code",
      "execution_count": 15,
      "metadata": {
        "colab": {
          "base_uri": "https://localhost:8080/"
        },
        "id": "srxQvmqkh9lK",
        "outputId": "e5111ab2-de4f-4f2d-97d4-cb829bf46b8e"
      },
      "outputs": [
        {
          "output_type": "execute_result",
          "data": {
            "text/plain": [
              "True"
            ]
          },
          "metadata": {},
          "execution_count": 15
        }
      ],
      "source": [
        "y_pred is kmeans.labels_"
      ]
    },
    {
      "cell_type": "code",
      "execution_count": 16,
      "metadata": {
        "colab": {
          "base_uri": "https://localhost:8080/"
        },
        "id": "Q5YLNgcZiHZC",
        "outputId": "8ac64de7-3395-498e-d9b2-2b10aa61730a"
      },
      "outputs": [
        {
          "output_type": "execute_result",
          "data": {
            "text/plain": [
              "array([[0.        , 0.06851891, 0.04912644, 0.04556505, 0.06547464,\n",
              "        0.04604372, 0.07356486, 0.01828515, 0.04968707, 0.07464855,\n",
              "        0.09901804, 0.02487465, 0.0379001 , 0.04427358, 0.03497065,\n",
              "        0.05750458, 0.06609176, 0.04976088, 0.06047895, 0.01001163,\n",
              "        0.02420081],\n",
              "       [0.        , 0.04598328, 0.00711341, 0.03460631, 0.04673046,\n",
              "        0.01652082, 0.30425579, 0.00976519, 0.02617853, 0.0517849 ,\n",
              "        0.05125567, 0.01405271, 0.01350023, 0.20260714, 0.03709473,\n",
              "        0.04305066, 0.03767253, 0.02148584, 0.02608584, 0.00170712,\n",
              "        0.00854885]])"
            ]
          },
          "metadata": {},
          "execution_count": 16
        }
      ],
      "source": [
        "kmeans.cluster_centers_"
      ]
    },
    {
      "cell_type": "code",
      "execution_count": 17,
      "metadata": {
        "colab": {
          "base_uri": "https://localhost:8080/"
        },
        "id": "QR3dOdwaiQnh",
        "outputId": "029ed1e8-c8e8-4033-ba5d-3862bcc2cc37"
      },
      "outputs": [
        {
          "output_type": "execute_result",
          "data": {
            "text/plain": [
              "79.64655854323371"
            ]
          },
          "metadata": {},
          "execution_count": 17
        }
      ],
      "source": [
        "kmeans.inertia_"
      ]
    },
    {
      "cell_type": "code",
      "source": [
        "from sklearn.metrics import silhouette_score"
      ],
      "metadata": {
        "id": "_rSnwvoPuBPy"
      },
      "execution_count": 18,
      "outputs": []
    },
    {
      "cell_type": "code",
      "execution_count": 19,
      "metadata": {
        "colab": {
          "base_uri": "https://localhost:8080/"
        },
        "id": "yHlUolSE19oj",
        "outputId": "ccbd0bf8-164c-4f54-f2c0-41e2289ad597"
      },
      "outputs": [
        {
          "output_type": "stream",
          "name": "stderr",
          "text": [
            "/usr/local/lib/python3.10/dist-packages/sklearn/cluster/_kmeans.py:870: FutureWarning: The default value of `n_init` will change from 10 to 'auto' in 1.4. Set the value of `n_init` explicitly to suppress the warning\n",
            "  warnings.warn(\n"
          ]
        },
        {
          "output_type": "stream",
          "name": "stdout",
          "text": [
            "Silhouette Score: 0.4280302001528423\n"
          ]
        }
      ],
      "source": [
        "# Fit the model to the data and get the cluster assignments\n",
        "labels = kmeans.fit_predict(shuffled_df)\n",
        "\n",
        "# Ensure that X has the same number of samples as labels\n",
        "X = shuffled_df\n",
        "\n",
        "# Calculate the silhouette score\n",
        "silhouette_avg = silhouette_score(X, labels)\n",
        "\n",
        "print(\"Silhouette Score:\", silhouette_avg)"
      ]
    },
    {
      "cell_type": "code",
      "execution_count": 20,
      "metadata": {
        "id": "Cf1FQ_rBjhV7",
        "outputId": "cf804fe1-51bb-4b58-b99c-79b29d5fa8a7",
        "colab": {
          "base_uri": "https://localhost:8080/",
          "height": 527
        }
      },
      "outputs": [
        {
          "output_type": "stream",
          "name": "stderr",
          "text": [
            "/usr/local/lib/python3.10/dist-packages/sklearn/cluster/_kmeans.py:870: FutureWarning: The default value of `n_init` will change from 10 to 'auto' in 1.4. Set the value of `n_init` explicitly to suppress the warning\n",
            "  warnings.warn(\n"
          ]
        },
        {
          "output_type": "display_data",
          "data": {
            "text/plain": [
              "<Figure size 640x480 with 1 Axes>"
            ],
            "image/png": "[encoded data removed]"
          },
          "metadata": {}
        }
      ],
      "source": [
        "import matplotlib.pyplot as plt\n",
        "from sklearn.decomposition import PCA\n",
        "\n",
        "\n",
        "# Create a K-means clustering model with 2 clusters, using K-means++ initialization\n",
        "kmeans = KMeans(n_clusters=2, init='k-means++', random_state=42)\n",
        "y_pred = kmeans.fit_predict(pos)\n",
        "\n",
        "# Perform PCA dimensionality reduction to 2 components\n",
        "pca = PCA(n_components=2)\n",
        "X_pca = pca.fit_transform(pos)\n",
        "\n",
        "# Create a scatter plot of the reduced data, colored by cluster assignments\n",
        "plt.scatter(X_pca[:, 0], X_pca[:, 1], c=y_pred)\n",
        "plt.title(\"K-means clustering with 2 clusters\")\n",
        "plt.xlabel(\"Principal Component 1\")\n",
        "plt.ylabel(\"Principal Component 2\")\n",
        "plt.show()"
      ]
    },
    {
      "cell_type": "code",
      "execution_count": 21,
      "metadata": {
        "id": "fFXNeo0Sk64b",
        "outputId": "49cc2ef5-87e5-4f5b-e556-634b23116749",
        "colab": {
          "base_uri": "https://localhost:8080/"
        }
      },
      "outputs": [
        {
          "output_type": "stream",
          "name": "stdout",
          "text": [
            "Number of samples in cluster 0: 3124\n",
            "Number of samples in cluster 1: 652\n"
          ]
        }
      ],
      "source": [
        "# Count the number of samples in each cluster\n",
        "import numpy as np\n",
        "counts = np.bincount(y_pred)\n",
        "\n",
        "print(f\"Number of samples in cluster 0: {counts[0]}\")\n",
        "print(f\"Number of samples in cluster 1: {counts[1]}\")"
      ]
    },
    {
      "cell_type": "markdown",
      "metadata": {
        "id": "Ntjgn7lhvt_U"
      },
      "source": [
        "# Applying DBSCAN"
      ]
    },
    {
      "cell_type": "code",
      "execution_count": 22,
      "metadata": {
        "id": "Am-c2RcqvzJw",
        "outputId": "e0ef6604-0dc9-443e-98ea-545a796b111e",
        "colab": {
          "base_uri": "https://localhost:8080/",
          "height": 75
        }
      },
      "outputs": [
        {
          "output_type": "execute_result",
          "data": {
            "text/plain": [
              "DBSCAN(eps=0.05)"
            ],
            "text/html": [
              "<style>#sk-container-id-1 {color: black;background-color: white;}#sk-container-id-1 pre{padding: 0;}#sk-container-id-1 div.sk-toggleable {background-color: white;}#sk-container-id-1 label.sk-toggleable__label {cursor: pointer;display: block;width: 100%;margin-bottom: 0;padding: 0.3em;box-sizing: border-box;text-align: center;}#sk-container-id-1 label.sk-toggleable__label-arrow:before {content: \"▸\";float: left;margin-right: 0.25em;color: #696969;}#sk-container-id-1 label.sk-toggleable__label-arrow:hover:before {color: black;}#sk-container-id-1 div.sk-estimator:hover label.sk-toggleable__label-arrow:before {color: black;}#sk-container-id-1 div.sk-toggleable__content {max-height: 0;max-width: 0;overflow: hidden;text-align: left;background-color: #f0f8ff;}#sk-container-id-1 div.sk-toggleable__content pre {margin: 0.2em;color: black;border-radius: 0.25em;background-color: #f0f8ff;}#sk-container-id-1 input.sk-toggleable__control:checked~div.sk-toggleable__content {max-height: 200px;max-width: 100%;overflow: auto;}#sk-container-id-1 input.sk-toggleable__control:checked~label.sk-toggleable__label-arrow:before {content: \"▾\";}#sk-container-id-1 div.sk-estimator input.sk-toggleable__control:checked~label.sk-toggleable__label {background-color: #d4ebff;}#sk-container-id-1 div.sk-label input.sk-toggleable__control:checked~label.sk-toggleable__label {background-color: #d4ebff;}#sk-container-id-1 input.sk-hidden--visually {border: 0;clip: rect(1px 1px 1px 1px);clip: rect(1px, 1px, 1px, 1px);height: 1px;margin: -1px;overflow: hidden;padding: 0;position: absolute;width: 1px;}#sk-container-id-1 div.sk-estimator {font-family: monospace;background-color: #f0f8ff;border: 1px dotted black;border-radius: 0.25em;box-sizing: border-box;margin-bottom: 0.5em;}#sk-container-id-1 div.sk-estimator:hover {background-color: #d4ebff;}#sk-container-id-1 div.sk-parallel-item::after {content: \"\";width: 100%;border-bottom: 1px solid gray;flex-grow: 1;}#sk-container-id-1 div.sk-label:hover label.sk-toggleable__label {background-color: #d4ebff;}#sk-container-id-1 div.sk-serial::before {content: \"\";position: absolute;border-left: 1px solid gray;box-sizing: border-box;top: 0;bottom: 0;left: 50%;z-index: 0;}#sk-container-id-1 div.sk-serial {display: flex;flex-direction: column;align-items: center;background-color: white;padding-right: 0.2em;padding-left: 0.2em;position: relative;}#sk-container-id-1 div.sk-item {position: relative;z-index: 1;}#sk-container-id-1 div.sk-parallel {display: flex;align-items: stretch;justify-content: center;background-color: white;position: relative;}#sk-container-id-1 div.sk-item::before, #sk-container-id-1 div.sk-parallel-item::before {content: \"\";position: absolute;border-left: 1px solid gray;box-sizing: border-box;top: 0;bottom: 0;left: 50%;z-index: -1;}#sk-container-id-1 div.sk-parallel-item {display: flex;flex-direction: column;z-index: 1;position: relative;background-color: white;}#sk-container-id-1 div.sk-parallel-item:first-child::after {align-self: flex-end;width: 50%;}#sk-container-id-1 div.sk-parallel-item:last-child::after {align-self: flex-start;width: 50%;}#sk-container-id-1 div.sk-parallel-item:only-child::after {width: 0;}#sk-container-id-1 div.sk-dashed-wrapped {border: 1px dashed gray;margin: 0 0.4em 0.5em 0.4em;box-sizing: border-box;padding-bottom: 0.4em;background-color: white;}#sk-container-id-1 div.sk-label label {font-family: monospace;font-weight: bold;display: inline-block;line-height: 1.2em;}#sk-container-id-1 div.sk-label-container {text-align: center;}#sk-container-id-1 div.sk-container {/* jupyter's `normalize.less` sets `[hidden] { display: none; }` but bootstrap.min.css set `[hidden] { display: none !important; }` so we also need the `!important` here to be able to override the default hidden behavior on the sphinx rendered scikit-learn.org. See: https://github.com/scikit-learn/scikit-learn/issues/21755 */display: inline-block !important;position: relative;}#sk-container-id-1 div.sk-text-repr-fallback {display: none;}</style><div id=\"sk-container-id-1\" class=\"sk-top-container\"><div class=\"sk-text-repr-fallback\"><pre>DBSCAN(eps=0.05)</pre><b>In a Jupyter environment, please rerun this cell to show the HTML representation or trust the notebook. <br />On GitHub, the HTML representation is unable to render, please try loading this page with nbviewer.org.</b></div><div class=\"sk-container\" hidden><div class=\"sk-item\"><div class=\"sk-estimator sk-toggleable\"><input class=\"sk-toggleable__control sk-hidden--visually\" id=\"sk-estimator-id-1\" type=\"checkbox\" checked><label for=\"sk-estimator-id-1\" class=\"sk-toggleable__label sk-toggleable__label-arrow\">DBSCAN</label><div class=\"sk-toggleable__content\"><pre>DBSCAN(eps=0.05)</pre></div></div></div></div></div>"
            ]
          },
          "metadata": {},
          "execution_count": 22
        }
      ],
      "source": [
        "from sklearn.cluster import DBSCAN\n",
        "dbscan=DBSCAN(eps=0.05,min_samples=5)\n",
        "dbscan.fit(X)"
      ]
    },
    {
      "cell_type": "code",
      "execution_count": 23,
      "metadata": {
        "id": "gBABn7GjzDhs"
      },
      "outputs": [],
      "source": [
        "# Method 3: Silhouette Score\n",
        "from sklearn.metrics import silhouette_score\n",
        "\n",
        "best_eps = None\n",
        "best_min_samples = None\n",
        "best_score = -1\n",
        "\n",
        "for eps in np.linspace(0.1, 1.0, num=10):\n",
        "    for min_samples in range(2, 6):\n",
        "        dbscan = DBSCAN(eps=eps, min_samples=min_samples)\n",
        "        dbscan.fit(X)\n",
        "        labels = dbscan.labels_\n",
        "        if len(np.unique(labels)) > 1:\n",
        "            score = silhouette_score(X, labels)\n",
        "            if score > best_score:\n",
        "                best_score = score\n",
        "                best_eps = eps\n",
        "                best_min_samples = min_samples"
      ]
    },
    {
      "cell_type": "code",
      "execution_count": 24,
      "metadata": {
        "id": "JTjuV4gq06ud",
        "outputId": "96be322b-b711-499a-bf8f-09d016c7da5e",
        "colab": {
          "base_uri": "https://localhost:8080/"
        }
      },
      "outputs": [
        {
          "output_type": "stream",
          "name": "stdout",
          "text": [
            "best_eps :0.30000000000000004\n",
            "best_min_samples :3\n"
          ]
        }
      ],
      "source": [
        "print(f\"best_eps :{best_eps}\")\n",
        "print(f\"best_min_samples :{best_min_samples}\")\n"
      ]
    },
    {
      "cell_type": "code",
      "execution_count": 25,
      "metadata": {
        "id": "Xe34kXpr1Qmd",
        "outputId": "1d64fd12-3081-4bb7-f35e-ecda5dba3c8c",
        "colab": {
          "base_uri": "https://localhost:8080/",
          "height": 75
        }
      },
      "outputs": [
        {
          "output_type": "execute_result",
          "data": {
            "text/plain": [
              "DBSCAN(eps=0.3, min_samples=2)"
            ],
            "text/html": [
              "<style>#sk-container-id-2 {color: black;background-color: white;}#sk-container-id-2 pre{padding: 0;}#sk-container-id-2 div.sk-toggleable {background-color: white;}#sk-container-id-2 label.sk-toggleable__label {cursor: pointer;display: block;width: 100%;margin-bottom: 0;padding: 0.3em;box-sizing: border-box;text-align: center;}#sk-container-id-2 label.sk-toggleable__label-arrow:before {content: \"▸\";float: left;margin-right: 0.25em;color: #696969;}#sk-container-id-2 label.sk-toggleable__label-arrow:hover:before {color: black;}#sk-container-id-2 div.sk-estimator:hover label.sk-toggleable__label-arrow:before {color: black;}#sk-container-id-2 div.sk-toggleable__content {max-height: 0;max-width: 0;overflow: hidden;text-align: left;background-color: #f0f8ff;}#sk-container-id-2 div.sk-toggleable__content pre {margin: 0.2em;color: black;border-radius: 0.25em;background-color: #f0f8ff;}#sk-container-id-2 input.sk-toggleable__control:checked~div.sk-toggleable__content {max-height: 200px;max-width: 100%;overflow: auto;}#sk-container-id-2 input.sk-toggleable__control:checked~label.sk-toggleable__label-arrow:before {content: \"▾\";}#sk-container-id-2 div.sk-estimator input.sk-toggleable__control:checked~label.sk-toggleable__label {background-color: #d4ebff;}#sk-container-id-2 div.sk-label input.sk-toggleable__control:checked~label.sk-toggleable__label {background-color: #d4ebff;}#sk-container-id-2 input.sk-hidden--visually {border: 0;clip: rect(1px 1px 1px 1px);clip: rect(1px, 1px, 1px, 1px);height: 1px;margin: -1px;overflow: hidden;padding: 0;position: absolute;width: 1px;}#sk-container-id-2 div.sk-estimator {font-family: monospace;background-color: #f0f8ff;border: 1px dotted black;border-radius: 0.25em;box-sizing: border-box;margin-bottom: 0.5em;}#sk-container-id-2 div.sk-estimator:hover {background-color: #d4ebff;}#sk-container-id-2 div.sk-parallel-item::after {content: \"\";width: 100%;border-bottom: 1px solid gray;flex-grow: 1;}#sk-container-id-2 div.sk-label:hover label.sk-toggleable__label {background-color: #d4ebff;}#sk-container-id-2 div.sk-serial::before {content: \"\";position: absolute;border-left: 1px solid gray;box-sizing: border-box;top: 0;bottom: 0;left: 50%;z-index: 0;}#sk-container-id-2 div.sk-serial {display: flex;flex-direction: column;align-items: center;background-color: white;padding-right: 0.2em;padding-left: 0.2em;position: relative;}#sk-container-id-2 div.sk-item {position: relative;z-index: 1;}#sk-container-id-2 div.sk-parallel {display: flex;align-items: stretch;justify-content: center;background-color: white;position: relative;}#sk-container-id-2 div.sk-item::before, #sk-container-id-2 div.sk-parallel-item::before {content: \"\";position: absolute;border-left: 1px solid gray;box-sizing: border-box;top: 0;bottom: 0;left: 50%;z-index: -1;}#sk-container-id-2 div.sk-parallel-item {display: flex;flex-direction: column;z-index: 1;position: relative;background-color: white;}#sk-container-id-2 div.sk-parallel-item:first-child::after {align-self: flex-end;width: 50%;}#sk-container-id-2 div.sk-parallel-item:last-child::after {align-self: flex-start;width: 50%;}#sk-container-id-2 div.sk-parallel-item:only-child::after {width: 0;}#sk-container-id-2 div.sk-dashed-wrapped {border: 1px dashed gray;margin: 0 0.4em 0.5em 0.4em;box-sizing: border-box;padding-bottom: 0.4em;background-color: white;}#sk-container-id-2 div.sk-label label {font-family: monospace;font-weight: bold;display: inline-block;line-height: 1.2em;}#sk-container-id-2 div.sk-label-container {text-align: center;}#sk-container-id-2 div.sk-container {/* jupyter's `normalize.less` sets `[hidden] { display: none; }` but bootstrap.min.css set `[hidden] { display: none !important; }` so we also need the `!important` here to be able to override the default hidden behavior on the sphinx rendered scikit-learn.org. See: https://github.com/scikit-learn/scikit-learn/issues/21755 */display: inline-block !important;position: relative;}#sk-container-id-2 div.sk-text-repr-fallback {display: none;}</style><div id=\"sk-container-id-2\" class=\"sk-top-container\"><div class=\"sk-text-repr-fallback\"><pre>DBSCAN(eps=0.3, min_samples=2)</pre><b>In a Jupyter environment, please rerun this cell to show the HTML representation or trust the notebook. <br />On GitHub, the HTML representation is unable to render, please try loading this page with nbviewer.org.</b></div><div class=\"sk-container\" hidden><div class=\"sk-item\"><div class=\"sk-estimator sk-toggleable\"><input class=\"sk-toggleable__control sk-hidden--visually\" id=\"sk-estimator-id-2\" type=\"checkbox\" checked><label for=\"sk-estimator-id-2\" class=\"sk-toggleable__label sk-toggleable__label-arrow\">DBSCAN</label><div class=\"sk-toggleable__content\"><pre>DBSCAN(eps=0.3, min_samples=2)</pre></div></div></div></div></div>"
            ]
          },
          "metadata": {},
          "execution_count": 25
        }
      ],
      "source": [
        "dbscan=DBSCAN(eps=0.3,min_samples=2)\n",
        "dbscan.fit(X)"
      ]
    },
    {
      "cell_type": "code",
      "execution_count": 26,
      "metadata": {
        "id": "sLwrJ7dt1r1o",
        "outputId": "0d35ec8a-c71c-407d-a02d-9271b3fce960",
        "colab": {
          "base_uri": "https://localhost:8080/"
        }
      },
      "outputs": [
        {
          "output_type": "stream",
          "name": "stdout",
          "text": [
            "Silhouette Score: 0.6051316876028786\n"
          ]
        }
      ],
      "source": [
        "# Evaluate using Silhouette Score\n",
        "labels = dbscan.labels_\n",
        "silhouette_avg = silhouette_score(X, labels)\n",
        "\n",
        "print(\"Silhouette Score:\", silhouette_avg)"
      ]
    },
    {
      "cell_type": "markdown",
      "metadata": {
        "id": "lAEgxvKe2G-d"
      },
      "source": [
        "# Applying Agglomerative Clustering"
      ]
    },
    {
      "cell_type": "code",
      "execution_count": 27,
      "metadata": {
        "id": "rOFgnFJ37Dzj",
        "outputId": "c0de0b1c-09ca-4524-d908-d980991f5c04",
        "colab": {
          "base_uri": "https://localhost:8080/"
        }
      },
      "outputs": [
        {
          "output_type": "stream",
          "name": "stdout",
          "text": [
            "Silhouette Score: 0.10515579229975283\n"
          ]
        }
      ],
      "source": [
        "# Apply Agglomerative Clustering\n",
        "from sklearn.cluster import AgglomerativeClustering\n",
        "\n",
        "\n",
        "agg_clustering = AgglomerativeClustering(n_clusters=4)\n",
        "agg_clustering.fit(X)\n",
        "\n",
        "# Evaluate using Silhouette Score\n",
        "labels = agg_clustering.labels_\n",
        "silhouette_avg = silhouette_score(X, labels)\n",
        "\n",
        "print(\"Silhouette Score:\", silhouette_avg)"
      ]
    },
    {
      "cell_type": "markdown",
      "metadata": {
        "id": "y3UuQgVc_kN-"
      },
      "source": [
        "# GMM"
      ]
    },
    {
      "cell_type": "code",
      "execution_count": 28,
      "metadata": {
        "id": "fysc7ukk_mx2",
        "outputId": "a0d6a5aa-6d53-43a6-aadb-58d727a817d5",
        "colab": {
          "base_uri": "https://localhost:8080/",
          "height": 75
        }
      },
      "outputs": [
        {
          "output_type": "execute_result",
          "data": {
            "text/plain": [
              "GaussianMixture(n_components=2, n_init=10)"
            ],
            "text/html": [
              "<style>#sk-container-id-3 {color: black;background-color: white;}#sk-container-id-3 pre{padding: 0;}#sk-container-id-3 div.sk-toggleable {background-color: white;}#sk-container-id-3 label.sk-toggleable__label {cursor: pointer;display: block;width: 100%;margin-bottom: 0;padding: 0.3em;box-sizing: border-box;text-align: center;}#sk-container-id-3 label.sk-toggleable__label-arrow:before {content: \"▸\";float: left;margin-right: 0.25em;color: #696969;}#sk-container-id-3 label.sk-toggleable__label-arrow:hover:before {color: black;}#sk-container-id-3 div.sk-estimator:hover label.sk-toggleable__label-arrow:before {color: black;}#sk-container-id-3 div.sk-toggleable__content {max-height: 0;max-width: 0;overflow: hidden;text-align: left;background-color: #f0f8ff;}#sk-container-id-3 div.sk-toggleable__content pre {margin: 0.2em;color: black;border-radius: 0.25em;background-color: #f0f8ff;}#sk-container-id-3 input.sk-toggleable__control:checked~div.sk-toggleable__content {max-height: 200px;max-width: 100%;overflow: auto;}#sk-container-id-3 input.sk-toggleable__control:checked~label.sk-toggleable__label-arrow:before {content: \"▾\";}#sk-container-id-3 div.sk-estimator input.sk-toggleable__control:checked~label.sk-toggleable__label {background-color: #d4ebff;}#sk-container-id-3 div.sk-label input.sk-toggleable__control:checked~label.sk-toggleable__label {background-color: #d4ebff;}#sk-container-id-3 input.sk-hidden--visually {border: 0;clip: rect(1px 1px 1px 1px);clip: rect(1px, 1px, 1px, 1px);height: 1px;margin: -1px;overflow: hidden;padding: 0;position: absolute;width: 1px;}#sk-container-id-3 div.sk-estimator {font-family: monospace;background-color: #f0f8ff;border: 1px dotted black;border-radius: 0.25em;box-sizing: border-box;margin-bottom: 0.5em;}#sk-container-id-3 div.sk-estimator:hover {background-color: #d4ebff;}#sk-container-id-3 div.sk-parallel-item::after {content: \"\";width: 100%;border-bottom: 1px solid gray;flex-grow: 1;}#sk-container-id-3 div.sk-label:hover label.sk-toggleable__label {background-color: #d4ebff;}#sk-container-id-3 div.sk-serial::before {content: \"\";position: absolute;border-left: 1px solid gray;box-sizing: border-box;top: 0;bottom: 0;left: 50%;z-index: 0;}#sk-container-id-3 div.sk-serial {display: flex;flex-direction: column;align-items: center;background-color: white;padding-right: 0.2em;padding-left: 0.2em;position: relative;}#sk-container-id-3 div.sk-item {position: relative;z-index: 1;}#sk-container-id-3 div.sk-parallel {display: flex;align-items: stretch;justify-content: center;background-color: white;position: relative;}#sk-container-id-3 div.sk-item::before, #sk-container-id-3 div.sk-parallel-item::before {content: \"\";position: absolute;border-left: 1px solid gray;box-sizing: border-box;top: 0;bottom: 0;left: 50%;z-index: -1;}#sk-container-id-3 div.sk-parallel-item {display: flex;flex-direction: column;z-index: 1;position: relative;background-color: white;}#sk-container-id-3 div.sk-parallel-item:first-child::after {align-self: flex-end;width: 50%;}#sk-container-id-3 div.sk-parallel-item:last-child::after {align-self: flex-start;width: 50%;}#sk-container-id-3 div.sk-parallel-item:only-child::after {width: 0;}#sk-container-id-3 div.sk-dashed-wrapped {border: 1px dashed gray;margin: 0 0.4em 0.5em 0.4em;box-sizing: border-box;padding-bottom: 0.4em;background-color: white;}#sk-container-id-3 div.sk-label label {font-family: monospace;font-weight: bold;display: inline-block;line-height: 1.2em;}#sk-container-id-3 div.sk-label-container {text-align: center;}#sk-container-id-3 div.sk-container {/* jupyter's `normalize.less` sets `[hidden] { display: none; }` but bootstrap.min.css set `[hidden] { display: none !important; }` so we also need the `!important` here to be able to override the default hidden behavior on the sphinx rendered scikit-learn.org. See: https://github.com/scikit-learn/scikit-learn/issues/21755 */display: inline-block !important;position: relative;}#sk-container-id-3 div.sk-text-repr-fallback {display: none;}</style><div id=\"sk-container-id-3\" class=\"sk-top-container\"><div class=\"sk-text-repr-fallback\"><pre>GaussianMixture(n_components=2, n_init=10)</pre><b>In a Jupyter environment, please rerun this cell to show the HTML representation or trust the notebook. <br />On GitHub, the HTML representation is unable to render, please try loading this page with nbviewer.org.</b></div><div class=\"sk-container\" hidden><div class=\"sk-item\"><div class=\"sk-estimator sk-toggleable\"><input class=\"sk-toggleable__control sk-hidden--visually\" id=\"sk-estimator-id-3\" type=\"checkbox\" checked><label for=\"sk-estimator-id-3\" class=\"sk-toggleable__label sk-toggleable__label-arrow\">GaussianMixture</label><div class=\"sk-toggleable__content\"><pre>GaussianMixture(n_components=2, n_init=10)</pre></div></div></div></div></div>"
            ]
          },
          "metadata": {},
          "execution_count": 28
        }
      ],
      "source": [
        "from sklearn.mixture import GaussianMixture\n",
        "gm = GaussianMixture(n_components=2, n_init=10)\n",
        "gm.fit(X)"
      ]
    },
    {
      "cell_type": "code",
      "execution_count": 29,
      "metadata": {
        "id": "XoFtnt7V7bc_",
        "outputId": "e505aa3e-269c-40ce-ce02-2dfc3a3e12a0",
        "colab": {
          "base_uri": "https://localhost:8080/"
        }
      },
      "outputs": [
        {
          "output_type": "execute_result",
          "data": {
            "text/plain": [
              "array([0.86204384, 0.13795616])"
            ]
          },
          "metadata": {},
          "execution_count": 29
        }
      ],
      "source": [
        "gm.weights_"
      ]
    },
    {
      "cell_type": "code",
      "execution_count": 30,
      "metadata": {
        "id": "x3YvhNzW7q4y",
        "outputId": "8515fb55-ed9b-4a48-bc8b-0f9601a84d15",
        "colab": {
          "base_uri": "https://localhost:8080/"
        }
      },
      "outputs": [
        {
          "output_type": "execute_result",
          "data": {
            "text/plain": [
              "array([[0.07336351, 0.03459034, 0.04588604, 0.06639961, 0.03981867,\n",
              "        0.067335  , 0.01955894, 0.05580264, 0.08443184, 0.09267453,\n",
              "        0.02857502, 0.03891084, 0.03904676, 0.03415986, 0.06495424,\n",
              "        0.06187655, 0.05152108, 0.0671055 , 0.00932856, 0.02466047],\n",
              "       [0.05688412, 0.00976747, 0.03787853, 0.05395823, 0.02194729,\n",
              "        0.22629093, 0.01629299, 0.032198  , 0.05008859, 0.06568506,\n",
              "        0.01792127, 0.01992536, 0.15849408, 0.04630277, 0.04778709,\n",
              "        0.05328688, 0.03169794, 0.03381326, 0.00318973, 0.01659041]])"
            ]
          },
          "metadata": {},
          "execution_count": 30
        }
      ],
      "source": [
        "gm.means_"
      ]
    },
    {
      "cell_type": "code",
      "execution_count": 31,
      "metadata": {
        "id": "JnQTuajp7hlw",
        "outputId": "bcce0854-b728-4a8d-ae52-c5d175aec79e",
        "colab": {
          "base_uri": "https://localhost:8080/"
        }
      },
      "outputs": [
        {
          "output_type": "execute_result",
          "data": {
            "text/plain": [
              "array([[[ 2.04099721e-03, -3.62145606e-04, -1.41212794e-04,\n",
              "         -2.63389844e-04, -1.94017174e-04,  7.17276079e-05,\n",
              "         -8.89062742e-05, -9.55514887e-05, -1.36708001e-04,\n",
              "         -1.63167821e-04, -2.73215052e-05, -1.27699474e-04,\n",
              "         -9.19580724e-05, -1.16910581e-05, -9.92546523e-05,\n",
              "         -1.27952728e-04, -7.97674164e-05,  1.17884900e-04,\n",
              "         -3.30583816e-05, -1.85807426e-04],\n",
              "        [-3.62145606e-04,  1.99805644e-03, -1.11165198e-04,\n",
              "         -4.52581200e-04,  6.17724952e-05,  2.38418230e-04,\n",
              "         -1.25420633e-06, -3.30937845e-04, -3.94407824e-04,\n",
              "         -3.54136989e-04, -9.73855387e-05,  4.28439512e-05,\n",
              "          2.43504980e-04, -1.01093577e-04, -2.94352138e-04,\n",
              "          1.82171064e-04,  1.18138010e-05, -3.69756157e-04,\n",
              "          5.66061412e-06,  8.59747053e-05],\n",
              "        [-1.41212794e-04, -1.11165198e-04,  8.25089412e-04,\n",
              "          2.87642581e-04,  6.17199128e-06, -1.54010034e-04,\n",
              "         -4.67146570e-05,  5.61835301e-06, -1.85394282e-04,\n",
              "         -3.10672041e-06, -4.44635623e-05, -4.39844276e-05,\n",
              "         -5.46973006e-05,  8.67225893e-06, -1.79986552e-04,\n",
              "         -9.96073361e-05, -5.47572517e-05,  1.05681220e-05,\n",
              "         -3.41471941e-05,  1.04845920e-05],\n",
              "        [-2.63389844e-04, -4.52581200e-04,  2.87642581e-04,\n",
              "          1.77269832e-03,  2.93878788e-06, -3.33970774e-04,\n",
              "         -1.42322796e-04, -2.98076967e-05,  4.40521356e-05,\n",
              "          3.41892443e-04, -1.10458848e-06, -1.04508762e-04,\n",
              "         -2.00818916e-04, -2.78540030e-05, -1.67830350e-04,\n",
              "         -2.35651433e-04, -1.97993684e-04, -5.29076592e-05,\n",
              "         -8.01260040e-05, -1.57356559e-04],\n",
              "        [-1.94017174e-04,  6.17724952e-05,  6.17199128e-06,\n",
              "          2.93878788e-06,  7.50936393e-04, -4.06697069e-05,\n",
              "         -6.81270614e-05, -4.11476746e-06, -7.12379782e-05,\n",
              "          1.99026590e-04,  7.71246826e-06, -3.26772751e-05,\n",
              "         -4.55993995e-05, -7.20200751e-05, -2.01915009e-04,\n",
              "         -1.27881366e-05, -1.17851213e-04, -1.38627790e-04,\n",
              "          1.83390164e-06, -2.97470406e-05],\n",
              "        [ 7.17276079e-05,  2.38418230e-04, -1.54010034e-04,\n",
              "         -3.33970774e-04, -4.06697069e-05,  1.31945141e-03,\n",
              "         -7.52545087e-06, -1.10627051e-04, -2.96704399e-04,\n",
              "         -2.70943054e-04, -4.55044277e-05, -7.27983411e-05,\n",
              "          2.20210082e-05, -9.81359680e-05, -2.06245718e-04,\n",
              "         -3.98217301e-05, -3.26340765e-05,  3.58668034e-05,\n",
              "          6.32646982e-05, -4.01590276e-05],\n",
              "        [-8.89062742e-05, -1.25420633e-06, -4.67146570e-05,\n",
              "         -1.42322796e-04, -6.81270614e-05, -7.52545087e-06,\n",
              "          3.29626853e-04, -3.02552161e-05,  3.81034511e-06,\n",
              "         -1.40866336e-04, -3.90077414e-06,  6.14331757e-06,\n",
              "          1.30468484e-05,  4.28702283e-06,  9.67236621e-05,\n",
              "         -8.20913054e-06,  4.79942137e-05, -8.16918833e-06,\n",
              "          1.17617114e-05,  3.38571175e-05],\n",
              "        [-9.55514887e-05, -3.30937845e-04,  5.61835301e-06,\n",
              "         -2.98076967e-05, -4.11476746e-06, -1.10627051e-04,\n",
              "         -3.02552161e-05,  1.02301648e-03, -8.56888586e-06,\n",
              "          1.46033893e-05,  2.62969352e-05,  5.80062050e-05,\n",
              "         -1.51798329e-04, -4.64195113e-05, -2.27266596e-04,\n",
              "         -5.31264228e-05, -4.63265889e-05,  3.86257302e-05,\n",
              "         -3.21041391e-05,  1.73744233e-06],\n",
              "        [-1.36708001e-04, -3.94407824e-04, -1.85394282e-04,\n",
              "          4.40521356e-05, -7.12379782e-05, -2.96704399e-04,\n",
              "          3.81034511e-06, -8.56888586e-06,  2.46684812e-03,\n",
              "         -4.68288696e-04, -1.30701362e-05,  3.54609450e-05,\n",
              "         -2.72049924e-04, -1.69900023e-04,  6.32025539e-05,\n",
              "         -2.05283813e-04, -4.05993873e-05, -1.82706405e-04,\n",
              "         -1.03649288e-04, -6.38050529e-05],\n",
              "        [-1.63167821e-04, -3.54136989e-04, -3.10672041e-06,\n",
              "          3.41892443e-04,  1.99026590e-04, -2.70943054e-04,\n",
              "         -1.40866336e-04,  1.46033893e-05, -4.68288696e-04,\n",
              "          1.98504930e-03,  8.85463971e-05, -1.38296974e-04,\n",
              "         -1.86523256e-04,  1.63143897e-05, -2.50971217e-04,\n",
              "         -7.72116617e-05, -1.80236894e-04, -2.10611312e-04,\n",
              "         -3.78520430e-05, -1.62219533e-04],\n",
              "        [-2.73215052e-05, -9.73855387e-05, -4.44635623e-05,\n",
              "         -1.10458848e-06,  7.71246826e-06, -4.55044277e-05,\n",
              "         -3.90077414e-06,  2.62969352e-05, -1.30701362e-05,\n",
              "          8.85463971e-05,  3.69242587e-04, -1.47618906e-05,\n",
              "         -5.87744525e-05, -2.58154410e-05, -6.70511707e-05,\n",
              "         -1.59549646e-05, -1.88669261e-05, -2.60848224e-05,\n",
              "         -5.18687364e-06, -2.55513138e-05],\n",
              "        [-1.27699474e-04,  4.28439512e-05, -4.39844276e-05,\n",
              "         -1.04508762e-04, -3.26772751e-05, -7.27983411e-05,\n",
              "          6.14331757e-06,  5.80062050e-05,  3.54609450e-05,\n",
              "         -1.38296974e-04, -1.47618906e-05,  6.30009992e-04,\n",
              "         -8.90337181e-05, -2.46878487e-06, -1.43391232e-04,\n",
              "          2.44404960e-06,  1.28616949e-05, -5.80376015e-05,\n",
              "          3.83762348e-06,  3.70507028e-05],\n",
              "        [-9.19580724e-05,  2.43504980e-04, -5.46973006e-05,\n",
              "         -2.00818916e-04, -4.55993995e-05,  2.20210082e-05,\n",
              "          1.30468484e-05, -1.51798329e-04, -2.72049924e-04,\n",
              "         -1.86523256e-04, -5.87744525e-05, -8.90337181e-05,\n",
              "          7.71017977e-04,  2.17961626e-05, -2.10932166e-05,\n",
              "          1.14703897e-05,  8.32447512e-06, -2.78349697e-05,\n",
              "          6.61288618e-05,  4.38708514e-05],\n",
              "        [-1.16910581e-05, -1.01093577e-04,  8.67225893e-06,\n",
              "         -2.78540030e-05, -7.20200751e-05, -9.81359680e-05,\n",
              "          4.28702283e-06, -4.64195113e-05, -1.69900023e-04,\n",
              "          1.63143897e-05, -2.58154410e-05, -2.46878487e-06,\n",
              "          2.17961626e-05,  6.18005560e-04,  1.22370637e-06,\n",
              "         -3.60168010e-05, -2.88800294e-05, -7.00189656e-05,\n",
              "          2.25411373e-05, -1.52600014e-06],\n",
              "        [-9.92546523e-05, -2.94352138e-04, -1.79986552e-04,\n",
              "         -1.67830350e-04, -2.01915009e-04, -2.06245718e-04,\n",
              "          9.67236621e-05, -2.27266596e-04,  6.32025539e-05,\n",
              "         -2.50971217e-04, -6.70511707e-05, -1.43391232e-04,\n",
              "         -2.10932166e-05,  1.22370637e-06,  1.99596688e-03,\n",
              "         -1.10242337e-04, -1.03340966e-04, -7.75517043e-05,\n",
              "         -5.16436466e-05,  4.60197033e-05],\n",
              "        [-1.27952728e-04,  1.82171064e-04, -9.96073361e-05,\n",
              "         -2.35651433e-04, -1.27881366e-05, -3.98217301e-05,\n",
              "         -8.20913054e-06, -5.31264228e-05, -2.05283813e-04,\n",
              "         -7.72116617e-05, -1.59549646e-05,  2.44404960e-06,\n",
              "          1.14703897e-05, -3.60168010e-05, -1.10242337e-04,\n",
              "          9.33082550e-04, -2.87508165e-06, -1.21596835e-04,\n",
              "          2.85835818e-05, -1.04132251e-05],\n",
              "        [-7.97674164e-05,  1.18138010e-05, -5.47572517e-05,\n",
              "         -1.97993684e-04, -1.17851213e-04, -3.26340765e-05,\n",
              "          4.79942137e-05, -4.63265889e-05, -4.05993873e-05,\n",
              "         -1.80236894e-04, -1.88669261e-05,  1.28616949e-05,\n",
              "          8.32447512e-06, -2.88800294e-05, -1.03340966e-04,\n",
              "         -2.87508165e-06,  8.17382044e-04,  1.04211448e-05,\n",
              "         -1.90341369e-06, -1.76444491e-06],\n",
              "        [ 1.17884900e-04, -3.69756157e-04,  1.05681220e-05,\n",
              "         -5.29076592e-05, -1.38627790e-04,  3.58668034e-05,\n",
              "         -8.16918833e-06,  3.86257302e-05, -1.82706405e-04,\n",
              "         -2.10611312e-04, -2.60848224e-05, -5.80376015e-05,\n",
              "         -2.78349697e-05, -7.00189656e-05, -7.75517043e-05,\n",
              "         -1.21596835e-04,  1.04211448e-05,  1.19954435e-03,\n",
              "         -3.43029066e-05, -3.37047374e-05],\n",
              "        [-3.30583816e-05,  5.66061412e-06, -3.41471941e-05,\n",
              "         -8.01260040e-05,  1.83390164e-06,  6.32646982e-05,\n",
              "          1.17617114e-05, -3.21041391e-05, -1.03649288e-04,\n",
              "         -3.78520430e-05, -5.18687364e-06,  3.83762348e-06,\n",
              "          6.61288618e-05,  2.25411373e-05, -5.16436466e-05,\n",
              "          2.85835818e-05, -1.90341369e-06, -3.43029066e-05,\n",
              "          1.88594361e-04,  2.27674000e-05],\n",
              "        [-1.85807426e-04,  8.59747053e-05,  1.04845920e-05,\n",
              "         -1.57356559e-04, -2.97470406e-05, -4.01590276e-05,\n",
              "          3.38571175e-05,  1.73744233e-06, -6.38050529e-05,\n",
              "         -1.62219533e-04, -2.55513138e-05,  3.70507028e-05,\n",
              "          4.38708514e-05, -1.52600014e-06,  4.60197033e-05,\n",
              "         -1.04132251e-05, -1.76444491e-06, -3.37047374e-05,\n",
              "          2.27674000e-05,  4.31291846e-04]],\n",
              "\n",
              "       [[ 1.67600928e-03, -6.10244463e-05, -6.62802210e-06,\n",
              "          1.14011713e-04, -1.46737211e-05, -1.34160889e-03,\n",
              "          3.64277548e-06, -2.41991944e-05, -2.84486230e-04,\n",
              "          2.33847983e-04,  2.89237952e-05,  1.04195642e-04,\n",
              "         -1.11819563e-03,  1.11217096e-05, -3.44515919e-05,\n",
              "          2.00419931e-04,  2.30047940e-04,  2.78488682e-04,\n",
              "          2.98111026e-05, -2.42528279e-05],\n",
              "        [-6.10244463e-05,  3.47666680e-04, -9.47977963e-06,\n",
              "         -4.80754597e-05,  1.62188967e-05, -4.85814415e-04,\n",
              "          5.79180333e-05,  3.71417912e-05,  9.25161409e-06,\n",
              "          2.85124961e-05, -2.20645654e-06,  2.90422422e-05,\n",
              "         -1.85506332e-04,  4.45503993e-05, -2.25362076e-05,\n",
              "          1.24844324e-04,  1.95805899e-05,  3.94123421e-05,\n",
              "          1.60767752e-05,  4.54269137e-05],\n",
              "        [-6.62802210e-06, -9.47977963e-06,  7.09813995e-04,\n",
              "          2.08881257e-04,  3.32276539e-05, -5.54839540e-04,\n",
              "          5.88783722e-06,  1.01752969e-05,  7.73300867e-05,\n",
              "          1.62383543e-05, -2.86435896e-07,  2.31258979e-05,\n",
              "         -5.73701563e-04,  1.91522972e-05, -4.34881997e-05,\n",
              "         -2.36496745e-05,  7.23271900e-05,  3.44525190e-05,\n",
              "         -3.26778104e-06,  5.72861087e-06],\n",
              "        [ 1.14011713e-04, -4.80754597e-05,  2.08881257e-04,\n",
              "          1.41415906e-03, -7.92557073e-05, -1.37493402e-03,\n",
              "          5.01793746e-06, -4.81471368e-05,  1.86034824e-04,\n",
              "          1.06248667e-04,  3.60405542e-05,  5.23106974e-05,\n",
              "         -1.04896148e-03,  3.54282099e-04,  3.32510183e-05,\n",
              "         -1.02853853e-04,  1.45163890e-04,  8.38659369e-05,\n",
              "         -1.58601767e-05, -2.01798255e-05],\n",
              "        [-1.46737211e-05,  1.62188967e-05,  3.32276539e-05,\n",
              "         -7.92557073e-05,  4.65725654e-04, -7.98536348e-04,\n",
              "          9.20764381e-05,  1.10268486e-04, -8.78100609e-06,\n",
              "          1.37613740e-04,  4.24422352e-05,  9.62759471e-05,\n",
              "         -4.12210813e-04,  1.71248489e-05, -2.22642395e-05,\n",
              "          4.62588680e-05,  5.84922355e-05,  8.27776992e-05,\n",
              "          1.98084105e-05,  1.18410723e-04],\n",
              "        [-1.34160889e-03, -4.85814415e-04, -5.54839540e-04,\n",
              "         -1.37493402e-03, -7.98536348e-04,  1.44341044e-02,\n",
              "         -9.17813600e-04, -9.84618782e-04,  1.94640014e-04,\n",
              "         -2.69342819e-03, -5.95461639e-04, -9.32066541e-04,\n",
              "          5.17409321e-03, -1.80567427e-03, -1.17550669e-03,\n",
              "         -2.12512923e-03, -1.61585033e-03, -1.18573168e-03,\n",
              "         -3.09548318e-04, -9.05275172e-04],\n",
              "        [ 3.64277548e-06,  5.79180333e-05,  5.88783722e-06,\n",
              "          5.01793746e-06,  9.20764381e-05, -9.17813600e-04,\n",
              "          6.26726946e-04,  4.51647451e-05,  1.48951228e-05,\n",
              "          1.90684573e-04,  3.43318210e-05,  5.17039014e-05,\n",
              "         -7.04413809e-04,  1.00731795e-04,  3.56457870e-05,\n",
              "          6.91875685e-05,  5.25231058e-05,  5.79254586e-05,\n",
              "          2.26952044e-05,  1.56468358e-04],\n",
              "        [-2.41991944e-05,  3.71417912e-05,  1.01752969e-05,\n",
              "         -4.81471368e-05,  1.10268486e-04, -9.84618782e-04,\n",
              "          4.51647451e-05,  6.53955134e-04,  3.29444913e-05,\n",
              "          1.57239886e-04,  8.09686604e-05,  1.43935946e-04,\n",
              "         -6.92829791e-04,  1.20280682e-04, -4.41612585e-05,\n",
              "          1.47998520e-04,  1.06987385e-04,  7.71665542e-05,\n",
              "          8.45169550e-06,  6.22768889e-05],\n",
              "        [-2.84486230e-04,  9.25161409e-06,  7.73300867e-05,\n",
              "          1.86034824e-04, -8.78100609e-06,  1.94640014e-04,\n",
              "          1.48951228e-05,  3.29444913e-05,  9.15301435e-04,\n",
              "         -1.40814550e-04,  2.67359666e-05, -3.33870148e-05,\n",
              "         -3.13129184e-04, -1.03380666e-05, -1.74867885e-04,\n",
              "         -1.58542336e-04, -1.01660185e-04, -1.03654381e-04,\n",
              "         -3.00295920e-05, -9.64431248e-05],\n",
              "        [ 2.33847983e-04,  2.85124961e-05,  1.62383543e-05,\n",
              "          1.06248667e-04,  1.37613740e-04, -2.69342819e-03,\n",
              "          1.90684573e-04,  1.57239886e-04, -1.40814550e-04,\n",
              "          1.72723287e-03,  1.37599423e-04,  1.15360858e-04,\n",
              "         -1.26159967e-03,  2.78194548e-04,  7.75606923e-05,\n",
              "          2.67455811e-04,  2.27134114e-04,  2.37862534e-04,\n",
              "          9.02763739e-05,  6.77794874e-05],\n",
              "        [ 2.89237952e-05, -2.20645654e-06, -2.86435896e-07,\n",
              "          3.60405542e-05,  4.24422352e-05, -5.95461639e-04,\n",
              "          3.43318210e-05,  8.09686604e-05,  2.67359666e-05,\n",
              "          1.37599423e-04,  4.28416559e-04,  6.15950242e-05,\n",
              "         -5.56053756e-04,  1.20627845e-04, -5.49726805e-05,\n",
              "          4.15791761e-05,  2.13075173e-05,  1.03558572e-05,\n",
              "          6.79599247e-06,  1.32260542e-04],\n",
              "        [ 1.04195642e-04,  2.90422422e-05,  2.31258979e-05,\n",
              "          5.23106974e-05,  9.62759471e-05, -9.32066541e-04,\n",
              "          5.17039014e-05,  1.43935946e-04, -3.33870148e-05,\n",
              "          1.15360858e-04,  6.15950242e-05,  3.87213825e-04,\n",
              "         -7.66536375e-04,  8.52474904e-05, -6.01507849e-06,\n",
              "          2.31389675e-04,  1.20672542e-04,  9.19085436e-05,\n",
              "          1.74251506e-05,  1.27601626e-04],\n",
              "        [-1.11819563e-03, -1.85506332e-04, -5.73701563e-04,\n",
              "         -1.04896148e-03, -4.12210813e-04,  5.17409321e-03,\n",
              "         -7.04413809e-04, -6.92829791e-04, -3.13129184e-04,\n",
              "         -1.26159967e-03, -5.56053756e-04, -7.66536375e-04,\n",
              "          7.86771149e-03, -9.83437142e-04, -1.00759417e-04,\n",
              "         -1.65289375e-03, -8.27361386e-04, -8.06076723e-04,\n",
              "         -1.03947590e-04, -9.33190294e-04],\n",
              "        [ 1.11217096e-05,  4.45503993e-05,  1.91522972e-05,\n",
              "          3.54282099e-04,  1.71248489e-05, -1.80567427e-03,\n",
              "          1.00731795e-04,  1.20280682e-04, -1.03380666e-05,\n",
              "          2.78194548e-04,  1.20627845e-04,  8.52474904e-05,\n",
              "         -9.83437142e-04,  1.45947891e-03,  3.18492983e-06,\n",
              "         -8.16986602e-05,  6.78452126e-05,  1.65817831e-04,\n",
              "          2.04555050e-05,  1.40520430e-05],\n",
              "        [-3.44515919e-05, -2.25362076e-05, -4.34881997e-05,\n",
              "          3.32510183e-05, -2.22642395e-05, -1.17550669e-03,\n",
              "          3.56457870e-05, -4.41612585e-05, -1.74867885e-04,\n",
              "          7.75606923e-05, -5.49726805e-05, -6.01507849e-06,\n",
              "         -1.00759417e-04,  3.18492983e-06,  1.43800663e-03,\n",
              "          1.64817002e-04, -7.96218924e-05, -8.65357386e-05,\n",
              "          5.28819026e-05,  4.08329130e-05],\n",
              "        [ 2.00419931e-04,  1.24844324e-04, -2.36496745e-05,\n",
              "         -1.02853853e-04,  4.62588680e-05, -2.12512923e-03,\n",
              "          6.91875685e-05,  1.47998520e-04, -1.58542336e-04,\n",
              "          2.67455811e-04,  4.15791761e-05,  2.31389675e-04,\n",
              "         -1.65289375e-03, -8.16986602e-05,  1.64817002e-04,\n",
              "          2.01588930e-03,  4.20547274e-04,  1.54973718e-04,\n",
              "          5.38972926e-05,  2.06509043e-04],\n",
              "        [ 2.30047940e-04,  1.95805899e-05,  7.23271900e-05,\n",
              "          1.45163890e-04,  5.84922355e-05, -1.61585033e-03,\n",
              "          5.25231058e-05,  1.06987385e-04, -1.01660185e-04,\n",
              "          2.27134114e-04,  2.13075173e-05,  1.20672542e-04,\n",
              "         -8.27361386e-04,  6.78452126e-05, -7.96218924e-05,\n",
              "          4.20547274e-04,  7.71313093e-04,  2.08750335e-04,\n",
              "          2.75724581e-05,  7.52289085e-05],\n",
              "        [ 2.78488682e-04,  3.94123421e-05,  3.44525190e-05,\n",
              "          8.38659369e-05,  8.27776992e-05, -1.18573168e-03,\n",
              "          5.79254586e-05,  7.71665542e-05, -1.03654381e-04,\n",
              "          2.37862534e-04,  1.03558572e-05,  9.19085436e-05,\n",
              "         -8.06076723e-04,  1.65817831e-04, -8.65357386e-05,\n",
              "          1.54973718e-04,  2.08750335e-04,  5.79963403e-04,\n",
              "          1.44221962e-05,  6.48549167e-05],\n",
              "        [ 2.98111026e-05,  1.60767752e-05, -3.26778104e-06,\n",
              "         -1.58601767e-05,  1.98084105e-05, -3.09548318e-04,\n",
              "          2.26952044e-05,  8.45169550e-06, -3.00295920e-05,\n",
              "          9.02763739e-05,  6.79599247e-06,  1.74251506e-05,\n",
              "         -1.03947590e-04,  2.04555050e-05,  5.28819026e-05,\n",
              "          5.38972926e-05,  2.75724581e-05,  1.44221962e-05,\n",
              "          5.37317957e-05,  2.93516028e-05],\n",
              "        [-2.42528279e-05,  4.54269137e-05,  5.72861087e-06,\n",
              "         -2.01798255e-05,  1.18410723e-04, -9.05275172e-04,\n",
              "          1.56468358e-04,  6.22768889e-05, -9.64431248e-05,\n",
              "          6.77794874e-05,  1.32260542e-04,  1.27601626e-04,\n",
              "         -9.33190294e-04,  1.40520430e-05,  4.08329130e-05,\n",
              "          2.06509043e-04,  7.52289085e-05,  6.48549167e-05,\n",
              "          2.93516028e-05,  8.33558667e-04]]])"
            ]
          },
          "metadata": {},
          "execution_count": 31
        }
      ],
      "source": [
        "gm.covariances_"
      ]
    },
    {
      "cell_type": "code",
      "execution_count": 32,
      "metadata": {
        "id": "e-M8inP07nDV",
        "outputId": "aa314ab6-e49e-4a05-8ac3-e9460047ff85",
        "colab": {
          "base_uri": "https://localhost:8080/"
        }
      },
      "outputs": [
        {
          "output_type": "execute_result",
          "data": {
            "text/plain": [
              "True"
            ]
          },
          "metadata": {},
          "execution_count": 32
        }
      ],
      "source": [
        "gm.converged_"
      ]
    },
    {
      "cell_type": "code",
      "execution_count": 33,
      "metadata": {
        "id": "YbbpKLxF8PFU",
        "outputId": "b9b6da13-9f49-43dd-93c3-8e1b55bf2842",
        "colab": {
          "base_uri": "https://localhost:8080/"
        }
      },
      "outputs": [
        {
          "output_type": "execute_result",
          "data": {
            "text/plain": [
              "21"
            ]
          },
          "metadata": {},
          "execution_count": 33
        }
      ],
      "source": [
        "gm.n_iter_"
      ]
    },
    {
      "cell_type": "code",
      "execution_count": 35,
      "metadata": {
        "id": "v2DZVNiw8wnT",
        "outputId": "2a814d4d-195f-4e4a-a02c-daa44feb4a95",
        "colab": {
          "base_uri": "https://localhost:8080/",
          "height": 489
        }
      },
      "outputs": [
        {
          "output_type": "stream",
          "name": "stdout",
          "text": [
            "Silhouette Score: 0.33547844202342764\n"
          ]
        },
        {
          "output_type": "display_data",
          "data": {
            "text/plain": [
              "<Figure size 640x480 with 2 Axes>"
            ],
            "image/png": "[encoded data removed]"
          },
          "metadata": {}
        }
      ],
      "source": [
        "predicted_labels = gm.predict(X)\n",
        "\n",
        "# Calculate the Silhouette Score\n",
        "silhouette_avg = silhouette_score(X, predicted_labels)\n",
        "print(f\"Silhouette Score: {silhouette_avg}\")\n",
        "\n",
        "# Visualize the clustering results\n",
        "pca = PCA(n_components=2)\n",
        "X_pca = pca.fit_transform(X)\n",
        "\n",
        "plt.scatter(X_pca[:, 0], X_pca[:, 1], c=predicted_labels, cmap='viridis')\n",
        "plt.title(\"GMM Clustering Results\")\n",
        "plt.xlabel(\"Principal Component 1\")\n",
        "plt.ylabel(\"Principal Component 2\")\n",
        "plt.colorbar()\n",
        "plt.show()"
      ]
    },
    {
      "cell_type": "markdown",
      "metadata": {
        "id": "3N0DrZlqz9DS"
      },
      "source": [
        "# Setting up the data of GAAC descriptor extracted using iLearnPlus"
      ]
    },
    {
      "cell_type": "code",
      "execution_count": null,
      "metadata": {
        "id": "Ep1n3_hsjAch"
      },
      "outputs": [],
      "source": [
        "p=pd.read_csv(\"LongPosGAAC.csv\")\n",
        "n=pd.read_csv(\"LongNegGAAC.csv\")\n",
        "n"
      ]
    },
    {
      "cell_type": "code",
      "execution_count": null,
      "metadata": {
        "id": "P_jtGhLxj68G"
      },
      "outputs": [],
      "source": [
        "p.drop('0',axis=1,inplace=True)\n",
        "n.drop('0',axis=1,inplace=True)\n",
        "\n",
        "n"
      ]
    },
    {
      "cell_type": "code",
      "execution_count": null,
      "metadata": {
        "id": "dJXH3PZokKwO"
      },
      "outputs": [],
      "source": [
        "# Define the new column names\n",
        "new_column_names = ['alphatic', 'aromatic', 'positivecharge', 'negativecharge', 'uncharge']\n",
        "\n",
        "# Rename the columns\n",
        "p.columns = new_column_names\n",
        "n.columns= new_column_names\n",
        "n"
      ]
    },
    {
      "cell_type": "code",
      "execution_count": null,
      "metadata": {
        "id": "ikiKA5FgkkW6"
      },
      "outputs": [],
      "source": [
        "#adding labels to each sort of data\n",
        "n['Output']=0\n",
        "p['Output']=1\n",
        "df2=pd.concat([p,n.head(3775)])\n",
        "df2"
      ]
    },
    {
      "cell_type": "code",
      "execution_count": null,
      "metadata": {
        "id": "d8059CzIlGCP"
      },
      "outputs": [],
      "source": [
        "df2"
      ]
    },
    {
      "cell_type": "markdown",
      "metadata": {
        "id": "M-40-Rho188L"
      },
      "source": [
        "# Merging the data of two descriptors AAC & GAAC"
      ]
    },
    {
      "cell_type": "code",
      "execution_count": null,
      "metadata": {
        "id": "v_ZAyf-bmN2K"
      },
      "outputs": [],
      "source": [
        "df=pd.concat([df1,df2],axis=1)\n",
        "df"
      ]
    },
    {
      "cell_type": "code",
      "execution_count": null,
      "metadata": {
        "id": "c1PnmdWH2kxs"
      },
      "outputs": [],
      "source": [
        "df.drop(\"output\",axis=1,inplace=True)\n",
        "df"
      ]
    },
    {
      "cell_type": "code",
      "execution_count": null,
      "metadata": {
        "id": "m_OoqnIZ2vuD"
      },
      "outputs": [],
      "source": [
        "#shuffling the dataset\n",
        "dataset = df.sample(frac=1).reset_index(drop=True)\n",
        "dataset"
      ]
    },
    {
      "cell_type": "markdown",
      "metadata": {
        "id": "uCNi1Cv62Wze"
      },
      "source": [
        "# Applying ML\n"
      ]
    },
    {
      "cell_type": "code",
      "execution_count": null,
      "metadata": {
        "id": "j6JeH-xCqGrn"
      },
      "outputs": [],
      "source": [
        "#Importing different classifier from sklearn\n",
        "from sklearn.neighbors import KNeighborsClassifier\n",
        "from sklearn.tree import DecisionTreeClassifier\n",
        "from sklearn import svm\n",
        "from sklearn.naive_bayes import GaussianNB\n",
        "from sklearn.gaussian_process.kernels import RBF\n",
        "from sklearn.gaussian_process import GaussianProcessClassifier\n",
        "from sklearn.neural_network import MLPClassifier\n",
        "from sklearn.ensemble import RandomForestClassifier, AdaBoostClassifier\n",
        "from sklearn.metrics import classification_report, accuracy_score"
      ]
    },
    {
      "cell_type": "code",
      "execution_count": null,
      "metadata": {
        "id": "efwKBwjJqSw8"
      },
      "outputs": [],
      "source": [
        "from sklearn.model_selection import train_test_split\n",
        "X = df.drop(['Output'], axis = 1).values\n",
        "y = df['Output'].values\n",
        "\n",
        "#define a seed for reproducibility\n",
        "seed = 1\n",
        "\n",
        "# Splitting data into training and testing data\n",
        "X_train, X_test, y_train, y_test = train_test_split(X, y, test_size = 0.25, random_state = seed)"
      ]
    },
    {
      "cell_type": "code",
      "execution_count": null,
      "metadata": {
        "id": "CzZgO7GGqTFx"
      },
      "outputs": [],
      "source": [
        "# Define scoring method\n",
        "scoring = 'accuracy'\n",
        "# Model building to train\n",
        "names = ['K Nearest Neighbors', 'Decision Tree', 'Random Forest', 'Neural Net', 'AddaBoost', 'Naive Bayes', 'SVM Linear', 'SVM RBF', 'SVM Sigmoid']\n",
        "Classifiers = [\n",
        "    KNeighborsClassifier(n_neighbors = 3),\n",
        "    DecisionTreeClassifier(max_depth = 5),\n",
        "    RandomForestClassifier(max_depth = 5, n_estimators = 10, max_features = 1 ),\n",
        "    MLPClassifier(alpha = 1),\n",
        "    AdaBoostClassifier(),\n",
        "    GaussianNB(),\n",
        "    svm.SVC(kernel = 'linear'),\n",
        "    svm.SVC(kernel = 'rbf'),\n",
        "    svm.SVC(kernel = 'sigmoid')\n",
        "\n",
        "    ]\n",
        "models = zip(names, Classifiers)\n",
        "# import KFold\n",
        "from sklearn.model_selection import KFold, cross_val_score\n",
        "\n",
        "names = []\n",
        "result = []\n",
        "for name, model in models:\n",
        "    kfold = KFold(n_splits = 10)\n",
        "    cv_results = cross_val_score(model, X_train, y_train, cv = kfold, scoring = 'accuracy')\n",
        "    result.append(cv_results)\n",
        "    names.append(name)\n",
        "    msg = \"{0}: {1} ({2})\".format(name, cv_results.mean(), cv_results.std())\n",
        "    print(msg)"
      ]
    },
    {
      "cell_type": "code",
      "execution_count": null,
      "metadata": {
        "id": "G6d4m-dXqWIw"
      },
      "outputs": [],
      "source": [
        "#Test the algorithm on the test data set\n",
        "models = zip(names, Classifiers)\n",
        "for name, model in models:\n",
        "    model.fit(X_train, y_train)\n",
        "    y_pred = model.predict(X_test)\n",
        "    print(name)\n",
        "    print(accuracy_score(y_test, y_pred))\n",
        "    print(classification_report(y_test, y_pred))"
      ]
    },
    {
      "cell_type": "code",
      "execution_count": null,
      "metadata": {
        "id": "QFw45atIqokH"
      },
      "outputs": [],
      "source": [
        "from sklearn.model_selection import train_test_split\n",
        "\n",
        "# Split data into train, validation, and test sets\n",
        "X_train, X_val_test, y_train, y_val_test = train_test_split(X, y, test_size=0.3, random_state=42)\n",
        "X_val, X_test, y_val, y_test = train_test_split(X_val_test, y_val_test, test_size=0.5, random_state=42)\n",
        "\n",
        "# Train and evaluate model\n",
        "model.fit(X_train, y_train)\n",
        "train_acc = model.score(X_train, y_train)\n",
        "val_acc = model.score(X_val, y_val)\n",
        "test_acc = model.score(X_test, y_test)\n",
        "\n",
        "print(\"Train Accuracy:\", train_acc)\n",
        "print(\"Validation Accuracy:\", val_acc)\n",
        "print(\"Test Accuracy:\", test_acc)\n"
      ]
    },
    {
      "cell_type": "code",
      "execution_count": null,
      "metadata": {
        "id": "vVngxO8KroHi"
      },
      "outputs": [],
      "source": [
        "import matplotlib.pyplot as plt\n",
        "from sklearn.model_selection import learning_curve\n",
        "import numpy as np\n",
        "\n",
        "train_sizes, train_scores, val_scores = learning_curve(model, X_train, y_train, cv=5, scoring='accuracy')\n",
        "\n",
        "train_scores_mean = np.mean(train_scores, axis=1)\n",
        "val_scores_mean = np.mean(val_scores, axis=1)\n",
        "\n",
        "plt.plot(train_sizes, train_scores_mean, label='Training Accuracy')\n",
        "plt.plot(train_sizes, val_scores_mean, label='Validation Accuracy')\n",
        "plt.xlabel('Training Set Size')\n",
        "plt.ylabel('Accuracy')\n",
        "plt.legend(loc='best')\n",
        "plt.show()"
      ]
    },
    {
      "cell_type": "code",
      "execution_count": null,
      "metadata": {
        "id": "-SqqxhuN5y-s"
      },
      "outputs": [],
      "source": [
        "\n"
      ]
    },
    {
      "cell_type": "code",
      "source": [],
      "metadata": {
        "id": "I4j1xBz_L9E0"
      },
      "execution_count": null,
      "outputs": []
    }
  ],
  "metadata": {
    "colab": {
      "provenance": []
    },
    "kernelspec": {
      "display_name": "Python 3",
      "name": "python3"
    },
    "language_info": {
      "name": "python"
    }
  },
  "nbformat": 4,
  "nbformat_minor": 0
}